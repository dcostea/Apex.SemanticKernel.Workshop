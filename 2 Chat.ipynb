{
 "cells": [
  {
   "attachments": {},
   "cell_type": "markdown",
   "metadata": {},
   "source": [
    "# Chat with chat history\n",
    "\n",
    "- metaprompts\n",
    "https://docs.google.com/presentation/d/1fsAaNgBo32JjAHl3s5tqyQ7fo5niqO3NYDtvkA3ZbGg/edit#slide=id.g2b7297b503f_0_63\n"
   ]
  },
  {
   "cell_type": "markdown",
   "metadata": {},
   "source": [
    "### Initialize the kernel"
   ]
  },
  {
   "cell_type": "code",
   "execution_count": 1,
   "metadata": {
    "dotnet_interactive": {
     "language": "csharp"
    },
    "polyglot_notebook": {
     "kernelName": "csharp"
    },
    "vscode": {
     "languageId": "polyglot-notebook"
    }
   },
   "outputs": [
    {
     "data": {
      "text/html": [
       "<div><div></div><div></div><div><strong>Installed Packages</strong><ul><li><span>Microsoft.SemanticKernel, 1.7.1</span></li><li><span>Microsoft.SemanticKernel.Plugins.Core, 1.7.1-alpha</span></li></ul></div></div>"
      ]
     },
     "metadata": {},
     "output_type": "display_data"
    }
   ],
   "source": [
    "#r \"nuget: Microsoft.SemanticKernel, 1.7.1\"\n",
    "#r \"nuget: Microsoft.SemanticKernel.Plugins.Core, 1.7.1-alpha\"\n",
    "\n",
    "using Microsoft.SemanticKernel;\n",
    "using Microsoft.SemanticKernel.ChatCompletion;\n",
    "using Microsoft.SemanticKernel.Connectors.OpenAI;\n",
    "\n",
    "#!import Settings.cs\n",
    "\n",
    "using Microsoft.SemanticKernel;\n",
    "\n",
    "var kernel = Settings.InitializeKernel();"
   ]
  },
  {
   "cell_type": "markdown",
   "metadata": {},
   "source": [
    "### Initialize Chat Completion service"
   ]
  },
  {
   "cell_type": "code",
   "execution_count": 2,
   "metadata": {
    "dotnet_interactive": {
     "language": "csharp"
    },
    "polyglot_notebook": {
     "kernelName": "csharp"
    },
    "vscode": {
     "languageId": "polyglot-notebook"
    }
   },
   "outputs": [],
   "source": [
    "\n",
    "var chatGPT = kernel.GetRequiredService<IChatCompletionService>();\n"
   ]
  },
  {
   "cell_type": "markdown",
   "metadata": {},
   "source": [
    "### Initialize chat history"
   ]
  },
  {
   "cell_type": "code",
   "execution_count": 3,
   "metadata": {
    "dotnet_interactive": {
     "language": "csharp"
    },
    "polyglot_notebook": {
     "kernelName": "csharp"
    },
    "vscode": {
     "languageId": "polyglot-notebook"
    }
   },
   "outputs": [],
   "source": [
    "using Microsoft.SemanticKernel.ChatCompletion;\n",
    "\n",
    "var systemMessage = \"You are a librarian, expert about books\";\n",
    "var chatHistory = new ChatHistory(systemMessage);\n",
    "\n",
    "// or in a more compact form\n",
    "//var chatHistory = new ChatHistory(\"You are a librarian, expert about books\");\n"
   ]
  },
  {
   "cell_type": "markdown",
   "metadata": {},
   "source": [
    "### Let's rebuild a chat nistory by adding some user and assistants messages to it. Please notice that we have two types of messages below: user and assistant messsages.\n",
    "### Do not forget that these are not requesting a response from the model below"
   ]
  },
  {
   "cell_type": "code",
   "execution_count": 4,
   "metadata": {
    "dotnet_interactive": {
     "language": "csharp"
    },
    "polyglot_notebook": {
     "kernelName": "csharp"
    },
    "vscode": {
     "languageId": "polyglot-notebook"
    }
   },
   "outputs": [],
   "source": [
    "chatHistory.AddUserMessage(\"Hi, I'm looking for book suggestions\");"
   ]
  },
  {
   "cell_type": "markdown",
   "metadata": {},
   "source": [
    "### And now an assistant message (in fact, a response from model)"
   ]
  },
  {
   "cell_type": "code",
   "execution_count": 5,
   "metadata": {
    "dotnet_interactive": {
     "language": "csharp"
    },
    "polyglot_notebook": {
     "kernelName": "csharp"
    },
    "vscode": {
     "languageId": "polyglot-notebook"
    }
   },
   "outputs": [],
   "source": [
    "\n",
    "chatHistory.AddAssistantMessage(\"Great, I'd be happy to help with book suggestions. To better assist you, could you let me know what genres or types of books you're interested in? Some further details such as your favorite books or authors, themes you enjoy, or what mood you're in for reading could help me provide more tailored recommendations.\");"
   ]
  },
  {
   "cell_type": "markdown",
   "metadata": {},
   "source": [
    "### One more message"
   ]
  },
  {
   "cell_type": "code",
   "execution_count": 6,
   "metadata": {
    "dotnet_interactive": {
     "language": "csharp"
    },
    "polyglot_notebook": {
     "kernelName": "csharp"
    },
    "vscode": {
     "languageId": "polyglot-notebook"
    }
   },
   "outputs": [],
   "source": [
    "\n",
    "chatHistory.AddUserMessage(\"I love history and philosophy, I'd like to learn something new about Greece, any suggestion?\");"
   ]
  },
  {
   "cell_type": "markdown",
   "metadata": {},
   "source": [
    "### Let's inspect the chat history so far"
   ]
  },
  {
   "cell_type": "code",
   "execution_count": 7,
   "metadata": {
    "dotnet_interactive": {
     "language": "csharp"
    },
    "polyglot_notebook": {
     "kernelName": "csharp"
    },
    "vscode": {
     "languageId": "polyglot-notebook"
    }
   },
   "outputs": [
    {
     "name": "stdout",
     "output_type": "stream",
     "text": [
      "system > You are a librarian, expert about books\n",
      "user > Hi, I'm looking for book suggestions\n",
      "assistant > Great, I'd be happy to help with book suggestions. To better assist you, could you let me know what genres or types of books you're interested in? Some further details such as your favorite books or authors, themes you enjoy, or what mood you're in for reading could help me provide more tailored recommendations.\n",
      "user > I love history and philosophy, I'd like to learn something new about Greece, any suggestion?\n"
     ]
    }
   ],
   "source": [
    "\n",
    "foreach (var message in chatHistory)\n",
    "{\n",
    "    Console.WriteLine($\"{message.Role} > {message.Content}\");\n",
    "}"
   ]
  },
  {
   "cell_type": "markdown",
   "metadata": {},
   "source": [
    "### Now we ask the model for a response (we can notice the reply from the assistant message)"
   ]
  },
  {
   "cell_type": "code",
   "execution_count": 8,
   "metadata": {
    "dotnet_interactive": {
     "language": "csharp"
    },
    "polyglot_notebook": {
     "kernelName": "csharp"
    },
    "vscode": {
     "languageId": "polyglot-notebook"
    }
   },
   "outputs": [
    {
     "data": {
      "text/plain": [
       "assistant > Certainly! If you're interested in the history and philosophy of Ancient Greece, there are many fascinating books that could broaden your knowledge and provoke thought. Here's a mix of classic texts and modern histories for you to consider:\n",
       "\n",
       "1. **\"The Histories\" by Herodotus** - Often considered the \"Father of History,\" Herodotus provides an account of the Greco-Persian Wars and offers insights into the cultures and events of the ancient world.\n",
       "\n",
       "2. **\"The Peloponnesian War\" by Thucydides** - This classic text gives a detailed historical account of the war between Sparta and Athens in the 5th century BCE and is also a deep investigation into the nature of power politics.\n",
       "\n",
       "3. **\"The Republic\" by Plato** - Not only is this a central text for understanding Platonic philosophy, but it also provides a lens into Greek views on justice, governance, and society.\n",
       "\n",
       "4. **\"Nicomachean Ethics\" by Aristotle** - In this philosophical work, Aristotle outlines his thoughts on virtue, character, and the life well-lived, giving readers a comprehensive view of Greek ethical thought.\n",
       "\n",
       "5. **\"The Last Days of Socrates\" by Plato** - This collection includes \"Euthyphro,\" \"The Apology,\" \"Crito,\" and \"Phaedo,\" which together cover the trial and death of Socrates, offering a deep dive into his philosophy and the Athens of his time.\n",
       "\n",
       "For more modern, accessible overviews of Greek history and thought:\n",
       "\n",
       "6. **\"The Greeks\" by H.D.F. Kitto** - This book is a classic introduction to Greek culture from the age of Homer to the time of Alexander the Great and is written for the general reader.\n",
       "\n",
       "7. **\"Sailing the Wine-Dark Sea: Why the Greeks Matter\" by Thomas Cahill** - Part of the \"Hinges of History\" series, this book provides a narrative exploration of how ancient Greek culture still affects modern life in the Western world.\n",
       "\n",
       "8. **\"The Greek Way\" by Edith Hamilton** - Celebrated for its engaging style, this book offers insights into Greek philosophy, politics, art, and poetry with clarity and depth.\n",
       "\n",
       "9. **\"Rubicon: The Last Years of the Roman Republic\" by Tom Holland** - Although this book focuses on Rome, it gives significant attention to the influence of Greek culture on Rome. It's a gripping narrative that can provide context for understanding the broader ancient world.\n",
       "\n",
       "10. **\"Courtesans and Fishcakes: The Consuming Passions of Classical Athens\" by James Davidson** - This book presents a less often seen side of Greek life, focusing on the daily lives, social customs, and habits of ancient Athenians.\n",
       "\n",
       "Remember that reading ancient texts can sometimes be challenging due to their complexity and cultural differences from the present day. Some modern editions include extensive notes and commentaries which can be invaluable in understanding the context and importance of the works. Happy reading!"
      ]
     },
     "metadata": {},
     "output_type": "display_data"
    }
   ],
   "source": [
    "var reply = await chatGPT.GetChatMessageContentAsync(chatHistory);\n",
    "chatHistory.Add(reply);\n",
    "\n",
    "$\"{chatHistory[^1].Role} > {chatHistory[^1].Content}\""
   ]
  },
  {
   "cell_type": "markdown",
   "metadata": {},
   "source": [
    "### Oops, where did 'display' command dissapear?"
   ]
  },
  {
   "cell_type": "markdown",
   "metadata": {},
   "source": [
    "### We can ask the model for a response in streaming flavour"
   ]
  },
  {
   "cell_type": "code",
   "execution_count": 9,
   "metadata": {
    "dotnet_interactive": {
     "language": "csharp"
    },
    "polyglot_notebook": {
     "kernelName": "csharp"
    },
    "vscode": {
     "languageId": "polyglot-notebook"
    }
   },
   "outputs": [
    {
     "name": "stdout",
     "output_type": "stream",
     "text": [
      "assistant > Certainly! If you're interested in the history and philosophy of Ancient Greece, there are many fascinating books that could broaden your knowledge and provoke thought. Here's a mix of classic texts and modern histories for you to consider:\n",
      "\n",
      "1. **\"The Histories\" by Herodotus** - Often considered the \"Father of History,\" Herodotus provides an account of the Greco-Persian Wars and offers insights into the cultures and events of the ancient world.\n",
      "\n",
      "2. **\"The Peloponnesian War\" by Thucydides** - This classic text gives a detailed historical account of the war between Sparta and Athens in the 5th century BCE and is also a deep investigation into the nature of power politics.\n",
      "\n",
      "3. **\"The Republic\" by Plato** - Not only is this a central text for understanding Platonic philosophy, but it also provides a lens into Greek views on justice, governance, and society.\n",
      "\n",
      "4. **\"Nicomachean Ethics\" by Aristotle** - In this philosophical work, Aristotle outlines his thoughts on virtue, character, and the life well-lived, giving readers a comprehensive view of Greek ethical thought.\n",
      "\n",
      "5. **\"The Last Days of Socrates\" by Plato** - This collection includes \"Euthyphro,\" \"The Apology,\" \"Crito,\" and \"Phaedo,\" which together cover the trial and death of Socrates, offering a deep dive into his philosophy and the Athens of his time.\n",
      "\n",
      "For more modern, accessible overviews of Greek history and thought:\n",
      "\n",
      "6. **\"The Greeks\" by H.D.F. Kitto** - This book is a classic introduction to Greek culture from the age of Homer to the time of Alexander the Great and is written for the general reader.\n",
      "\n",
      "7. **\"Sailing the Wine-Dark Sea: Why the Greeks Matter\" by Thomas Cahill** - Part of the \"Hinges of History\" series, this book provides a narrative exploration of how ancient Greek culture still affects modern life in the Western world.\n",
      "\n",
      "8. **\"The Greek Way\" by Edith Hamilton** - Celebrated for its engaging style, this book offers insights into Greek philosophy, politics, art, and poetry with clarity and depth.\n",
      "\n",
      "9. **\"Rubicon: The Last Years of the Roman Republic\" by Tom Holland** - Although this book focuses on Rome, it gives significant attention to the influence of Greek culture on Rome. It's a gripping narrative that can provide context for understanding the broader ancient world.\n",
      "\n",
      "10. **\"Courtesans and Fishcakes: The Consuming Passions of Classical Athens\" by James Davidson** - This book presents a less often seen side of Greek life, focusing on the daily lives, social customs, and habits of ancient Athenians.\n",
      "\n",
      "Remember that reading ancient texts can sometimes be challenging due to their complexity and cultural differences from the present day. Some modern editions include extensive notes and commentaries which can be invaluable in understanding the context and importance of the works. Happy reading!"
     ]
    }
   ],
   "source": [
    "Console.Write($\"{Azure.AI.OpenAI.ChatRole.Assistant} > \");\n",
    "await foreach (var content in chatGPT.GetStreamingChatMessageContentsAsync(chatHistory))\n",
    "{\n",
    "    Console.Write(content);\n",
    "}"
   ]
  },
  {
   "cell_type": "code",
   "execution_count": 10,
   "metadata": {
    "dotnet_interactive": {
     "language": "csharp"
    },
    "polyglot_notebook": {
     "kernelName": "csharp"
    },
    "vscode": {
     "languageId": "polyglot-notebook"
    }
   },
   "outputs": [],
   "source": []
  }
 ],
 "metadata": {
  "kernelspec": {
   "display_name": ".NET (C#)",
   "language": "C#",
   "name": ".net-csharp"
  },
  "language_info": {
   "file_extension": ".cs",
   "mimetype": "text/x-csharp",
   "name": "C#",
   "pygments_lexer": "csharp",
   "version": "11.0"
  },
  "polyglot_notebook": {
   "kernelInfo": {
    "defaultKernelName": "csharp",
    "items": [
     {
      "aliases": [],
      "name": "csharp"
     }
    ]
   }
  }
 },
 "nbformat": 4,
 "nbformat_minor": 2
}
