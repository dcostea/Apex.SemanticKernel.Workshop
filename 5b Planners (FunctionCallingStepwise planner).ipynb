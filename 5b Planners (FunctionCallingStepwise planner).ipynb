{
 "cells": [
  {
   "attachments": {},
   "cell_type": "markdown",
   "metadata": {},
   "source": [
    "# 🗺️ Planners (with FunctuionCallingStepwise planner)"
   ]
  },
  {
   "cell_type": "markdown",
   "metadata": {},
   "source": [
    "### Initialize the kernel"
   ]
  },
  {
   "cell_type": "code",
   "execution_count": 1,
   "metadata": {
    "dotnet_interactive": {
     "language": "csharp"
    },
    "polyglot_notebook": {
     "kernelName": "csharp"
    }
   },
   "outputs": [
    {
     "data": {
      "text/html": [
       "<div><div></div><div></div><div><strong>Installed Packages</strong><ul><li><span>Microsoft.SemanticKernel, 1.7.1</span></li><li><span>Microsoft.SemanticKernel.Abstractions, 1.7.1</span></li><li><span>Microsoft.SemanticKernel.Planners.Handlebars, 1.7.1-preview</span></li><li><span>Microsoft.SemanticKernel.Planners.OpenAI, 1.7.1-preview</span></li><li><span>Microsoft.SemanticKernel.Plugins.Core, 1.7.1-alpha</span></li><li><span>Microsoft.SemanticKernel.Plugins.Web, 1.7.1-alpha</span></li></ul></div></div>"
      ]
     },
     "metadata": {},
     "output_type": "display_data"
    }
   ],
   "source": [
    "#r \"nuget: Microsoft.SemanticKernel, 1.7.1\"\n",
    "#r \"nuget: Microsoft.SemanticKernel.Abstractions, 1.7.1\"\n",
    "#r \"nuget: Microsoft.SemanticKernel.Plugins.Core, 1.7.1-alpha\"\n",
    "#r \"nuget: Microsoft.SemanticKernel.Plugins.Web, 1.7.1-alpha\"\n",
    "#r \"nuget: Microsoft.SemanticKernel.Planners.Handlebars, 1.7.1-preview\"\n",
    "#r \"nuget: Microsoft.SemanticKernel.Planners.OpenAI, 1.7.1-preview\"\n",
    "\n",
    "#!import Settings.cs\n",
    "\n",
    "using Microsoft.SemanticKernel;\n",
    "using Microsoft.SemanticKernel.Plugins;\n",
    "using Microsoft.SemanticKernel.Connectors.OpenAI;\n",
    "\n",
    "var kernel = Settings.InitializeKernel();"
   ]
  },
  {
   "cell_type": "markdown",
   "metadata": {},
   "source": [
    "### ⌚️ Let's add a native C# plugin for use by the planner"
   ]
  },
  {
   "cell_type": "code",
   "execution_count": 2,
   "metadata": {
    "dotnet_interactive": {
     "language": "csharp"
    },
    "polyglot_notebook": {
     "kernelName": "csharp"
    }
   },
   "outputs": [
    {
     "name": "stdout",
     "output_type": "stream",
     "text": [
      "****** Registered 🔌 Plugins and 📦 Functions ******\n",
      "🔌 MotorPlugin\n",
      "   📦 /Backward: Moves the car backward.\n",
      "🔌 MotorPlugin\n",
      "   📦 /Forward: Moves the car forward.\n",
      "🔌 MotorPlugin\n",
      "   📦 /Stop: Stops the car.\n",
      "🔌 MotorPlugin\n",
      "   📦 /TurnLeft: Turns the car anticlockwise.\n",
      "🔌 MotorPlugin\n",
      "   📦 /TurnRight: Turns the car clockwise.\n"
     ]
    }
   ],
   "source": [
    "#!import Helpers/PrintHelper.cs\n",
    "#!import Plugins/MotorPlugin.cs\n",
    "\n",
    "kernel.Plugins.AddFromType<MotorPlugin>();\n",
    "\n",
    "PrintHelper.PrintAllPluginFunctions(kernel);"
   ]
  },
  {
   "cell_type": "markdown",
   "metadata": {},
   "source": [
    "### 📋 Prepare kernel arguments"
   ]
  },
  {
   "cell_type": "code",
   "execution_count": 3,
   "metadata": {
    "dotnet_interactive": {
     "language": "csharp"
    },
    "polyglot_notebook": {
     "kernelName": "csharp"
    }
   },
   "outputs": [],
   "source": [
    "var goal = \"You have a tree in front of the car. Avoid it.\";\n",
    "var kernelArguments = new KernelArguments()\n",
    "{\n",
    "    [\"input\"] = goal,\n",
    "    [\"commands\"] = \"go forward, go backward, turn left, turn right, and stop\"\n",
    "};"
   ]
  },
  {
   "cell_type": "markdown",
   "metadata": {},
   "source": [
    "### Refine the goal"
   ]
  },
  {
   "cell_type": "code",
   "execution_count": 4,
   "metadata": {
    "dotnet_interactive": {
     "language": "csharp"
    },
    "polyglot_notebook": {
     "kernelName": "csharp"
    }
   },
   "outputs": [
    {
     "data": {
      "text/plain": [
       "To navigate the robot car to avoid a tree in front of it, you would execute a sequence of basic motor commands in the following order:\n",
       "\n",
       "- Go forward (to gain a little momentum if needed)\n",
       "- Turn left (to steer away from the tree)\n",
       "- Go forward (to move clear of the tree)\n",
       "- Turn right (to re-align with the original direction, if necessary)\n",
       "- Go forward (to put enough distance between the car and the tree)\n",
       "- Stop (to finish the action of avoiding the tree and return to a stationary state)"
      ]
     },
     "metadata": {},
     "output_type": "display_data"
    }
   ],
   "source": [
    "var commandsPlugin = kernel.CreatePluginFromPromptDirectory(System.IO.Path.Combine(System.IO.Directory.GetCurrentDirectory(), \"Plugins\", \"CommandsPlugin\"), \"CommandsPlugin\");\n",
    "kernel.Plugins.Add(commandsPlugin);\n",
    "var semanticFunction = commandsPlugin[\"ExtractBasicCommands\"];\n",
    "var response = await kernel.InvokeAsync(semanticFunction, kernelArguments);\n",
    "var refinedGoal = response.GetValue<string>();\n",
    "\n",
    "kernelArguments[\"input\"] = refinedGoal;\n",
    "\n",
    "display(refinedGoal)"
   ]
  },
  {
   "cell_type": "markdown",
   "metadata": {},
   "source": [
    "### 🗺️🧠 Generate FunctionCallingStepwise Plan\n",
    "\n",
    "This planner is different from the handlebarsplanner in that it doesn't generate a plan ahead of time, and simply progresses towards its goal."
   ]
  },
  {
   "cell_type": "markdown",
   "metadata": {},
   "source": [
    "### 🏃 Let's see it run"
   ]
  },
  {
   "cell_type": "code",
   "execution_count": 5,
   "metadata": {
    "dotnet_interactive": {
     "language": "csharp"
    },
    "polyglot_notebook": {
     "kernelName": "csharp"
    }
   },
   "outputs": [
    {
     "name": "stdout",
     "output_type": "stream",
     "text": [
      "🡲\n",
      "🡵\n",
      "🡲\n",
      "🡶\n",
      "🡲\n",
      "·\n"
     ]
    },
    {
     "data": {
      "text/plain": [
       "The robot car has successfully performed the sequence to avoid the tree and has now come to a stop."
      ]
     },
     "metadata": {},
     "output_type": "display_data"
    }
   ],
   "source": [
    "using Microsoft.SemanticKernel.Planning;\n",
    "\n",
    "#pragma warning disable SKEXP0060\n",
    "\n",
    "var functionCallingStepwisePlannerOptions = new FunctionCallingStepwisePlannerOptions\n",
    "{\n",
    "    MaxIterations = 30\n",
    "};\n",
    "\n",
    "functionCallingStepwisePlannerOptions.ExcludedPlugins.Add(\"CommandsPlugin\");\n",
    "\n",
    "PrintHelper.PrintAllPluginFunctions(kernel);"
   ]
  },
  {
   "cell_type": "code",
   "execution_count": null,
   "metadata": {
    "dotnet_interactive": {
     "language": "csharp"
    },
    "polyglot_notebook": {
     "kernelName": "csharp"
    }
   },
   "outputs": [],
   "source": [
    "\n",
    "var planner = new FunctionCallingStepwisePlanner(functionCallingStepwisePlannerOptions);\n",
    "var plannerResult = await planner.ExecuteAsync(kernel, refinedGoal);\n",
    "\n",
    "display(plannerResult.FinalAnswer)"
   ]
  },
  {
   "cell_type": "code",
   "execution_count": null,
   "metadata": {
    "dotnet_interactive": {
     "language": "csharp"
    },
    "polyglot_notebook": {
     "kernelName": "csharp"
    }
   },
   "outputs": [],
   "source": [
    "\n",
    "functionCallingStepwisePlannerOptions.ExcludedPlugins.Add(\"CommandsPlugin\");\n",
    "var planner = new FunctionCallingStepwisePlanner(functionCallingStepwisePlannerOptions);\n",
    "var plannerResult = await planner.ExecuteAsync(kernel, refinedGoal);\n",
    "\n",
    "display(plannerResult.FinalAnswer)"
   ]
  },
  {
   "cell_type": "code",
   "execution_count": 6,
   "metadata": {
    "dotnet_interactive": {
     "language": "csharp"
    },
    "polyglot_notebook": {
     "kernelName": "csharp"
    }
   },
   "outputs": [],
   "source": []
  }
 ],
 "metadata": {
  "kernelspec": {
   "display_name": ".NET (C#)",
   "language": "C#",
   "name": ".net-csharp"
  },
  "language_info": {
   "name": "polyglot-notebook"
  },
  "polyglot_notebook": {
   "kernelInfo": {
    "defaultKernelName": "csharp",
    "items": [
     {
      "aliases": [],
      "name": "csharp"
     }
    ]
   }
  }
 },
 "nbformat": 4,
 "nbformat_minor": 2
}
