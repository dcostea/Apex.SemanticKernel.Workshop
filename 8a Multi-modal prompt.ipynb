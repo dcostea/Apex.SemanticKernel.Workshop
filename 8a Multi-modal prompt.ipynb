{
 "cells": [
  {
   "attachments": {},
   "cell_type": "markdown",
   "metadata": {},
   "source": [
    "# Multi-modal\n",
    "- What is multi-modal?\n"
   ]
  },
  {
   "cell_type": "markdown",
   "metadata": {},
   "source": [
    "### Initialize the kernel"
   ]
  },
  {
   "cell_type": "code",
   "execution_count": 1,
   "metadata": {
    "dotnet_interactive": {
     "language": "csharp"
    },
    "polyglot_notebook": {
     "kernelName": "csharp"
    },
    "vscode": {
     "languageId": "polyglot-notebook"
    }
   },
   "outputs": [
    {
     "data": {
      "text/html": [
       "<div><div></div><div></div><div><strong>Installed Packages</strong><ul><li><span>Microsoft.SemanticKernel, 1.15.0</span></li><li><span>Microsoft.SemanticKernel.Plugins.Core, 1.15.0-alpha</span></li><li><span>Microsoft.SemanticKernel.Plugins.Web, 1.15.0-alpha</span></li></ul></div></div>"
      ]
     },
     "metadata": {},
     "output_type": "display_data"
    }
   ],
   "source": [
    "#r \"nuget: Microsoft.SemanticKernel, 1.15.0\"\n",
    "#r \"nuget: Microsoft.SemanticKernel.Plugins.Core, 1.15.0-alpha\"\n",
    "#r \"nuget: Microsoft.SemanticKernel.Plugins.Web, 1.15.0-alpha\"\n",
    "\n",
    "#!import Secrets.cs\n",
    "\n",
    "using Microsoft.SemanticKernel;\n",
    "using Microsoft.SemanticKernel.Connectors.OpenAI;\n",
    "using Microsoft.SemanticKernel.ChatCompletion;"
   ]
  },
  {
   "cell_type": "code",
   "execution_count": 2,
   "metadata": {
    "dotnet_interactive": {
     "language": "csharp"
    },
    "polyglot_notebook": {
     "kernelName": "csharp"
    },
    "vscode": {
     "languageId": "polyglot-notebook"
    }
   },
   "outputs": [],
   "source": [
    "#pragma warning disable SKEXP0010\n",
    "var kernel = Kernel.CreateBuilder()\n",
    "    .AddAzureOpenAIChatCompletion(\n",
    "        deploymentName: Secrets.DeploymentName,\n",
    "        endpoint: Secrets.Endpoint,\n",
    "        apiKey: Secrets.ApyKey)      \n",
    "    //.AddOpenAITextToImage(apiKey: Secrets.ApyKey2) \n",
    "    .Build();"
   ]
  },
  {
   "cell_type": "markdown",
   "metadata": {},
   "source": []
  },
  {
   "cell_type": "markdown",
   "metadata": {},
   "source": [
    "### Add image to prompt (multi-modal input)"
   ]
  },
  {
   "cell_type": "code",
   "execution_count": 3,
   "metadata": {
    "dotnet_interactive": {
     "language": "csharp"
    },
    "polyglot_notebook": {
     "kernelName": "csharp"
    },
    "vscode": {
     "languageId": "polyglot-notebook"
    }
   },
   "outputs": [],
   "source": [
    "var chatHistory = new ChatHistory(\"You are an assistant specialised in named entities extraction.\");\n",
    "\n",
    "const string ImageUri = \"https://apexcode.ro/restaurant-receipt.jpg\";\n",
    "\n",
    "chatHistory.AddUserMessage(new ChatMessageContentItemCollection\n",
    "{\n",
    "    new TextContent(\"What data can you read in the image?\"),\n",
    "    new ImageContent(new Uri(ImageUri))\n",
    "});"
   ]
  },
  {
   "cell_type": "code",
   "execution_count": 4,
   "metadata": {
    "dotnet_interactive": {
     "language": "csharp"
    },
    "polyglot_notebook": {
     "kernelName": "csharp"
    },
    "vscode": {
     "languageId": "polyglot-notebook"
    }
   },
   "outputs": [
    {
     "data": {
      "text/plain": [
       "The image is of a receipt from Crowne Plaza in Barcelona. Here is the extracted data:\n",
       "\n",
       "- **Hotel Name**: Crowne Plaza\n",
       "- **Hotel Location**: Barcelona - Fira Center\n",
       "- **Restaurant Name**: El Mall\n",
       "- **Address**: Avda. Rius i Taulet, 1-3, 08004 Barcelona\n",
       "- **Telephone**: 93 426 22 23\n",
       "- **Hotel Fira S.A.U.**\n",
       "- **CIF**: A61691739\n",
       "- **Server**: Marc N., 4006\n",
       "- **CHK**: 2104178\n",
       "- **TABLE**: 39/1\n",
       "- **GST**: 2\n",
       "- **Date and Time**: 10 Mar '19, 14:01 PM\n",
       "\n",
       "**Items Purchased**:\n",
       "1. Burrata - €16.00\n",
       "2. Pan de Coca - €3.50\n",
       "3. Solomillo a la Sal (2 @ €22.00 each) - €44.00\n",
       "4. 100% Chocolate fondat - €6.00\n",
       "5. Agua (1/2) - €2.50\n",
       "6. Copa Aphrodisiaque - €6.00\n",
       "7. Portal Reserva 30% - €-26.55\n",
       "8. Tork - 30.00%\n",
       "\n",
       "**Total breakdown**:\n",
       "- **IVA 10%**: €5.63\n",
       "- **Subtotal**: €61.95\n",
       "- **Net Total**: €56.32\n",
       "- **Total**: €61.95"
      ]
     },
     "metadata": {},
     "output_type": "display_data"
    }
   ],
   "source": [
    "\n",
    "var promptExecutionSettings = new OpenAIPromptExecutionSettings\n",
    "{\n",
    "    MaxTokens = 4000,\n",
    "};\n",
    "\n",
    "var chatCompletionService = kernel.GetRequiredService<IChatCompletionService>();\n",
    "var content = await chatCompletionService.GetChatMessageContentAsync(chatHistory, promptExecutionSettings);\n",
    "\n",
    "display(content.Content!)"
   ]
  },
  {
   "cell_type": "code",
   "execution_count": null,
   "metadata": {
    "dotnet_interactive": {
     "language": "csharp"
    },
    "polyglot_notebook": {
     "kernelName": "csharp"
    },
    "vscode": {
     "languageId": "polyglot-notebook"
    }
   },
   "outputs": [],
   "source": []
  }
 ],
 "metadata": {
  "kernelspec": {
   "display_name": ".NET (C#)",
   "language": "C#",
   "name": ".net-csharp"
  },
  "language_info": {
   "file_extension": ".cs",
   "mimetype": "text/x-csharp",
   "name": "C#",
   "pygments_lexer": "csharp",
   "version": "11.0"
  },
  "polyglot_notebook": {
   "kernelInfo": {
    "defaultKernelName": "csharp",
    "items": [
     {
      "aliases": [],
      "name": "csharp"
     }
    ]
   }
  }
 },
 "nbformat": 4,
 "nbformat_minor": 2
}
