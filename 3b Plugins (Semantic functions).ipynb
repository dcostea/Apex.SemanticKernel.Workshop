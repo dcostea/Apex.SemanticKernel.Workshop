{
 "cells": [
  {
   "attachments": {},
   "cell_type": "markdown",
   "metadata": {},
   "source": [
    "# 🔌 Plugins (with semantic functions)"
   ]
  },
  {
   "cell_type": "markdown",
   "metadata": {},
   "source": [
    "### Initialize the kernel"
   ]
  },
  {
   "cell_type": "code",
   "execution_count": 1,
   "metadata": {
    "dotnet_interactive": {
     "language": "csharp"
    },
    "polyglot_notebook": {
     "kernelName": "csharp"
    }
   },
   "outputs": [
    {
     "data": {
      "text/html": [
       "<div><div></div><div></div><div><strong>Installed Packages</strong><ul><li><span>Microsoft.SemanticKernel, 1.7.1</span></li><li><span>Microsoft.SemanticKernel.Plugins.Core, 1.7.1-alpha</span></li></ul></div></div>"
      ]
     },
     "metadata": {},
     "output_type": "display_data"
    }
   ],
   "source": [
    "#r \"nuget: Microsoft.SemanticKernel, 1.7.1\"\n",
    "#r \"nuget: Microsoft.SemanticKernel.Plugins.Core, 1.7.1-alpha\"\n",
    "\n",
    "#!import Secrets.cs\n",
    "\n",
    "using Microsoft.SemanticKernel;\n",
    "using Microsoft.SemanticKernel.Connectors.OpenAI;\n",
    "\n",
    "var kernel = Kernel.CreateBuilder()\n",
    "    .AddAzureOpenAIChatCompletion(\n",
    "        deploymentName: Secrets.DeploymentName,\n",
    "        endpoint: Secrets.Endpoint,\n",
    "        apiKey: Secrets.ApyKey)\n",
    "    .Build();"
   ]
  },
  {
   "cell_type": "markdown",
   "metadata": {},
   "source": [
    "### 🦜 Let's building a plugin consisting of semantic functions."
   ]
  },
  {
   "cell_type": "markdown",
   "metadata": {},
   "source": [
    "### Now the kernel contains all plugins ever added, unless we start removing them.\n",
    "Entire plugins or individual functions can be removed from the kernel anytime."
   ]
  },
  {
   "cell_type": "markdown",
   "metadata": {},
   "source": [
    "### 📋 Let's prepare the execution settings and the kernel arguments."
   ]
  },
  {
   "cell_type": "code",
   "execution_count": 2,
   "metadata": {
    "dotnet_interactive": {
     "language": "csharp"
    },
    "polyglot_notebook": {
     "kernelName": "csharp"
    }
   },
   "outputs": [],
   "source": [
    "var executionSettings = new OpenAIPromptExecutionSettings \n",
    "{\n",
    "     MaxTokens = 2000,\n",
    "     ResultsPerPrompt = 1,\n",
    "     Temperature = 0.1\n",
    "};\n",
    "\n",
    "var kernelArguments = new KernelArguments(executionSettings)\n",
    "{\n",
    "    [\"input\"] = \"Christmas\"\n",
    "};"
   ]
  },
  {
   "cell_type": "markdown",
   "metadata": {},
   "source": [
    "### and import the datetime semantic plugin"
   ]
  },
  {
   "cell_type": "code",
   "execution_count": 3,
   "metadata": {
    "dotnet_interactive": {
     "language": "csharp"
    },
    "polyglot_notebook": {
     "kernelName": "csharp"
    }
   },
   "outputs": [],
   "source": [
    "using System.IO;\n",
    "\n",
    "kernel.ImportPluginFromPromptDirectory(\n",
    "    Path.Combine(Directory.GetCurrentDirectory(), \"Plugins\", \"DateTimeSemanticPlugin\"), \n",
    "    \"DateTimeSemanticPlugin\");"
   ]
  },
  {
   "cell_type": "markdown",
   "metadata": {},
   "source": [
    "choose DaysTo function from the semantic plugin and invoke it"
   ]
  },
  {
   "cell_type": "code",
   "execution_count": 4,
   "metadata": {
    "dotnet_interactive": {
     "language": "csharp"
    },
    "polyglot_notebook": {
     "kernelName": "csharp"
    }
   },
   "outputs": [
    {
     "data": {
      "text/plain": [
       "Since today is March 31, 2023, there are 269 days until Christmas on December 25, 2023."
      ]
     },
     "metadata": {},
     "output_type": "display_data"
    }
   ],
   "source": [
    "var daysToFunction = kernel.Plugins[\"DateTimeSemanticPlugin\"][\"DaysTo\"];\n",
    "\n",
    "var response = await kernel.InvokeAsync(daysToFunction, kernelArguments);\n",
    "\n",
    "display(response.GetValue<string>())"
   ]
  },
  {
   "cell_type": "markdown",
   "metadata": {},
   "source": [
    "### In this example, the plugin we've added `DateTimePlugin` is used in the templated prompt. The native function GetCurrentDate is invoked to enrich the prompt context with current date."
   ]
  },
  {
   "cell_type": "code",
   "execution_count": 5,
   "metadata": {
    "dotnet_interactive": {
     "language": "csharp"
    },
    "polyglot_notebook": {
     "kernelName": "csharp"
    }
   },
   "outputs": [],
   "source": [
    "using System.ComponentModel;\n",
    "public class DateTimePlugin\n",
    "{\n",
    "    [KernelFunction]\n",
    "    [Description(\"Retrieves the current date\")]\n",
    "    public string GetCurrentDate() => DateTime.Now.ToShortDateString();\n",
    "}"
   ]
  },
  {
   "cell_type": "markdown",
   "metadata": {},
   "source": [
    "### Import the DateTimePlugin (consisting of native functions)"
   ]
  },
  {
   "cell_type": "code",
   "execution_count": 6,
   "metadata": {
    "dotnet_interactive": {
     "language": "csharp"
    },
    "polyglot_notebook": {
     "kernelName": "csharp"
    }
   },
   "outputs": [],
   "source": [
    "kernel.ImportPluginFromType<DateTimePlugin>(\"date\");"
   ]
  },
  {
   "cell_type": "markdown",
   "metadata": {},
   "source": [
    "### Create a new semantic function which is calling the native function in its prompt, then invoke the semantic function"
   ]
  },
  {
   "cell_type": "code",
   "execution_count": 7,
   "metadata": {
    "dotnet_interactive": {
     "language": "csharp"
    },
    "polyglot_notebook": {
     "kernelName": "csharp"
    }
   },
   "outputs": [
    {
     "data": {
      "text/plain": [
       "If today's date is April 29, 2024, we need to calculate the number of days until December 25, 2024.\n",
       "\n",
       "From April 29 to April 30 is 1 day.\n",
       "The month of May has 31 days.\n",
       "June has 30 days.\n",
       "July has 31 days.\n",
       "August has 31 days.\n",
       "September has 30 days.\n",
       "October has 31 days.\n",
       "November has 30 days.\n",
       "And December has 25 days (up to Christmas).\n",
       "\n",
       "Adding these together:\n",
       "\n",
       "1 (April 29 to April 30) + 31 (May) + 30 (June) + 31 (July) + 31 (August) + 30 (September) + 31 (October) + 30 (November) + 25 (December up to Christmas) = 240 days\n",
       "\n",
       "So, there are 240 days until Christmas from April 29, 2024."
      ]
     },
     "metadata": {},
     "output_type": "display_data"
    }
   ],
   "source": [
    "\n",
    "var promptTemplate = \"Considering that today date is {{date.GetCurrentDate}}, how many days until {{$input}}?\";\n",
    "\n",
    "var semanticFunction = kernel.CreateFunctionFromPrompt(promptTemplate);\n",
    "\n",
    "var response = await kernel.InvokeAsync(semanticFunction, kernelArguments);\n",
    "\n",
    "display(response.GetValue<string>())"
   ]
  },
  {
   "cell_type": "markdown",
   "metadata": {},
   "source": [
    "### 👀 Let's check the rendered prompt."
   ]
  },
  {
   "cell_type": "code",
   "execution_count": 8,
   "metadata": {
    "dotnet_interactive": {
     "language": "csharp"
    },
    "polyglot_notebook": {
     "kernelName": "csharp"
    }
   },
   "outputs": [
    {
     "name": "stdout",
     "output_type": "stream",
     "text": [
      "Considering that today date is 4/29/2024, how many days until Christmas?\r\n"
     ]
    }
   ],
   "source": [
    "#!import Helpers/PrintHelper.cs\n",
    "\n",
    "await PrintHelper.PrintRenderedPromptAsync(kernel, promptTemplate, kernelArguments);"
   ]
  },
  {
   "cell_type": "markdown",
   "metadata": {},
   "source": [
    "### 🚰 For a better user experience we can may want to use with streaming 🚰."
   ]
  },
  {
   "cell_type": "code",
   "execution_count": 9,
   "metadata": {
    "dotnet_interactive": {
     "language": "csharp"
    },
    "polyglot_notebook": {
     "kernelName": "csharp"
    }
   },
   "outputs": [
    {
     "name": "stdout",
     "output_type": "stream",
     "text": [
      "If today is April 29, 2024, we need to calculate the number of days until December 25, 2024.\n",
      "\n",
      "From April 29 to April 30 is 1 day.\n",
      "The month of May has 31 days.\n",
      "June has 30 days.\n",
      "July has 31 days.\n",
      "August has 31 days.\n",
      "September has 30 days.\n",
      "October has 31 days.\n",
      "November has 30 days.\n",
      "And December has 25 days (up to Christmas).\n",
      "\n",
      "Adding these together:\n",
      "\n",
      "1 (April 29 to April 30) + 31 (May) + 30 (June) + 31 (July) + 31 (August) + 30 (September) + 31 (October) + 30 (November) + 25 (December up to Christmas) = 240 days.\n",
      "\n",
      "So, there are 240 days until Christmas from April 29, 2024."
     ]
    }
   ],
   "source": [
    "await foreach (var token in kernel.InvokePromptStreamingAsync(promptTemplate, kernelArguments))\n",
    "{\n",
    "    Console.Write(token);\n",
    "}"
   ]
  },
  {
   "cell_type": "markdown",
   "metadata": {},
   "source": [
    "### There are many ways to build plugins in SK"
   ]
  },
  {
   "cell_type": "markdown",
   "metadata": {},
   "source": [
    "### You can build them and then add them to the kernel"
   ]
  },
  {
   "cell_type": "code",
   "execution_count": 10,
   "metadata": {
    "dotnet_interactive": {
     "language": "csharp"
    },
    "polyglot_notebook": {
     "kernelName": "csharp"
    }
   },
   "outputs": [],
   "source": [
    "// kernel.CreatePluginFromFunctions()\n",
    "\n",
    "// kernel.CreatePluginFromObject()\n",
    "\n",
    "// kernel.CreatePluginFromPromptDirectory()\n",
    "\n",
    "// kernel.CreatePluginFromType<>()\n",
    "\n",
    "\n",
    "// kernel.Plugins.Add(plugin);"
   ]
  },
  {
   "cell_type": "markdown",
   "metadata": {},
   "source": [
    "### Or you can add them directly (import)..."
   ]
  },
  {
   "cell_type": "code",
   "execution_count": 11,
   "metadata": {
    "dotnet_interactive": {
     "language": "csharp"
    },
    "polyglot_notebook": {
     "kernelName": "csharp"
    }
   },
   "outputs": [],
   "source": [
    "// kernel.ImportPluginFromPromptDirectory();           // semantic\n",
    "\n",
    "// kernel.ImportPluginFromFunctions()                  // native\n",
    "\n",
    "// kernel.ImportPluginFromPromptDirectory()            // semantic\n",
    "\n",
    "// kernel.ImportPluginFromObject()                     // native\n",
    "\n",
    "// kernel.ImportPluginFromType<>()                     // native or semantic from native\n",
    "\n",
    "// kernel.ImportPluginFromOpenAIAsync                  // semantic from OpenAI plugin"
   ]
  }
 ],
 "metadata": {
  "kernelspec": {
   "display_name": ".NET (C#)",
   "language": "C#",
   "name": ".net-csharp"
  },
  "language_info": {
   "name": "polyglot-notebook"
  },
  "polyglot_notebook": {
   "kernelInfo": {
    "defaultKernelName": "csharp",
    "items": [
     {
      "aliases": [],
      "name": "csharp"
     }
    ]
   }
  }
 },
 "nbformat": 4,
 "nbformat_minor": 2
}
