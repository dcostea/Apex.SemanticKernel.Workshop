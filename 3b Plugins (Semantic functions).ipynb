{
 "cells": [
  {
   "attachments": {},
   "cell_type": "markdown",
   "metadata": {},
   "source": [
    "# 🔌 Plugins (with semantic functions)"
   ]
  },
  {
   "cell_type": "markdown",
   "metadata": {},
   "source": [
    "### Initialize the kernel"
   ]
  },
  {
   "cell_type": "code",
   "execution_count": 1,
   "metadata": {
    "dotnet_interactive": {
     "language": "csharp"
    },
    "polyglot_notebook": {
     "kernelName": "csharp"
    }
   },
   "outputs": [
    {
     "data": {
      "text/html": [
       "<div><div></div><div></div><div><strong>Installed Packages</strong><ul><li><span>Microsoft.SemanticKernel, 1.7.1</span></li><li><span>Microsoft.SemanticKernel.Plugins.Core, 1.7.1-alpha</span></li></ul></div></div>"
      ]
     },
     "metadata": {},
     "output_type": "display_data"
    }
   ],
   "source": [
    "#r \"nuget: Microsoft.SemanticKernel, 1.7.1\"\n",
    "#r \"nuget: Microsoft.SemanticKernel.Plugins.Core, 1.7.1-alpha\"\n",
    "\n",
    "#!import Secrets.cs\n",
    "\n",
    "using Microsoft.SemanticKernel;\n",
    "using Microsoft.SemanticKernel.Connectors.OpenAI;\n",
    "\n",
    "var kernel = Kernel.CreateBuilder()\n",
    "    .AddAzureOpenAIChatCompletion(\n",
    "        deploymentName: Secrets.DeploymentName,\n",
    "        endpoint: Secrets.Endpoint,\n",
    "        apiKey: Secrets.ApyKey)\n",
    "    .Build();"
   ]
  },
  {
   "cell_type": "markdown",
   "metadata": {},
   "source": [
    "### 🦜 Let's building a plugin consisting of semantic functions."
   ]
  },
  {
   "cell_type": "markdown",
   "metadata": {},
   "source": [
    "### Now the kernel contains all plugins ever added, unless we start removing them.\n",
    "Entire plugins or individual functions can be removed from the kernel anytime."
   ]
  },
  {
   "cell_type": "markdown",
   "metadata": {},
   "source": [
    "Semantic code gets executed in the LLM.\n",
    "We can ground the AI in knowledge of the world outside LLM to know about today's date just by giving it a plugin that can access native code capabilities."
   ]
  },
  {
   "cell_type": "markdown",
   "metadata": {},
   "source": [
    "### 📋 Let's prepare the execution settings and the kernel arguments."
   ]
  },
  {
   "cell_type": "code",
   "execution_count": 2,
   "metadata": {
    "dotnet_interactive": {
     "language": "csharp"
    },
    "polyglot_notebook": {
     "kernelName": "csharp"
    }
   },
   "outputs": [],
   "source": [
    "var executionSettings = new OpenAIPromptExecutionSettings \n",
    "{\n",
    "     MaxTokens = 2000,\n",
    "     ResultsPerPrompt = 1,\n",
    "     Temperature = 0.1\n",
    "};\n",
    "\n",
    "var kernelArguments = new KernelArguments(executionSettings)\n",
    "{\n",
    "    [\"input\"] = \"Christmas\"\n",
    "};"
   ]
  },
  {
   "cell_type": "markdown",
   "metadata": {},
   "source": [
    "### 🪴 This simple bit of \"grounding\" reduces so-called 'hallucination' with LLMs"
   ]
  },
  {
   "cell_type": "markdown",
   "metadata": {},
   "source": [
    "In this first example, we invoke the kernel with a prompt that asks the AI for information it cannot provide. It has no idea what today might be for you, so it's likely to hallucinate."
   ]
  },
  {
   "cell_type": "code",
   "execution_count": 3,
   "metadata": {
    "dotnet_interactive": {
     "language": "csharp"
    },
    "polyglot_notebook": {
     "kernelName": "csharp"
    }
   },
   "outputs": [
    {
     "data": {
      "text/plain": [
       "Since my knowledge was last updated in March 2023 and today's date is not provided, I cannot give you the exact number of days until Christmas. However, Christmas is celebrated on December 25th every year. To find out how many days are left until Christmas, you can simply subtract today's date from December 25th of the current year.\n",
       "\n",
       "For example, if today were November 1st, you would have:\n",
       "\n",
       "December 25th - November 1st = 54 days until Christmas\n",
       "\n",
       "Please check today's date and perform a similar calculation to find out the number of days remaining until Christmas."
      ]
     },
     "metadata": {},
     "output_type": "display_data"
    }
   ],
   "source": [
    "var promptTemplate = \"How many days until {{$input}}?\";\n",
    "\n",
    "var semanticFunction = kernel.CreateFunctionFromPrompt(promptTemplate);\n",
    "\n",
    "var response = await kernel.InvokeAsync(semanticFunction, kernelArguments);\n",
    "\n",
    "display(response.GetValue<string>())"
   ]
  },
  {
   "cell_type": "markdown",
   "metadata": {},
   "source": [
    "In this second example, the plugin we've added `DateTimePlugin` is used in the templated prompt. The native function GetCurrentDate is invoked to enrich the prompt context with current date."
   ]
  },
  {
   "cell_type": "code",
   "execution_count": 4,
   "metadata": {
    "dotnet_interactive": {
     "language": "csharp"
    },
    "polyglot_notebook": {
     "kernelName": "csharp"
    }
   },
   "outputs": [
    {
     "ename": "Error",
     "evalue": "System.Collections.Generic.KeyNotFoundException: The plugin collection does not contain a plugin and/or function with the specified names. Plugin name - 'date', function name - 'GetCurrentDate'.\r\n   at Microsoft.SemanticKernel.KernelPluginExtensions.GetFunction(IReadOnlyKernelPluginCollection plugins, String pluginName, String functionName)\r\n   at Microsoft.SemanticKernel.Kernel.InvokeAsync(String pluginName, String functionName, KernelArguments arguments, CancellationToken cancellationToken)\r\n   at Microsoft.SemanticKernel.TemplateEngine.CodeBlock.RenderFunctionCallAsync(FunctionIdBlock fBlock, Kernel kernel, KernelArguments arguments, CancellationToken cancellationToken)\r\n   at Microsoft.SemanticKernel.KernelPromptTemplate.RenderAsync(List`1 blocks, Kernel kernel, KernelArguments arguments, CancellationToken cancellationToken)\r\n   at Microsoft.SemanticKernel.KernelFunctionFromPrompt.RenderPromptAsync(Kernel kernel, KernelArguments arguments, CancellationToken cancellationToken)\r\n   at Microsoft.SemanticKernel.KernelFunctionFromPrompt.InvokeCoreAsync(Kernel kernel, KernelArguments arguments, CancellationToken cancellationToken)\r\n   at Microsoft.SemanticKernel.KernelFunction.InvokeAsync(Kernel kernel, KernelArguments arguments, CancellationToken cancellationToken)\r\n   at Submission#6.<<Initialize>>d__0.MoveNext()\r\n--- End of stack trace from previous location ---\r\n   at Microsoft.CodeAnalysis.Scripting.ScriptExecutionState.RunSubmissionsAsync[TResult](ImmutableArray`1 precedingExecutors, Func`2 currentExecutor, StrongBox`1 exceptionHolderOpt, Func`2 catchExceptionOpt, CancellationToken cancellationToken)",
     "output_type": "error",
     "traceback": [
      "System.Collections.Generic.KeyNotFoundException: The plugin collection does not contain a plugin and/or function with the specified names. Plugin name - 'date', function name - 'GetCurrentDate'.\r\n",
      "   at Microsoft.SemanticKernel.KernelPluginExtensions.GetFunction(IReadOnlyKernelPluginCollection plugins, String pluginName, String functionName)\r\n",
      "   at Microsoft.SemanticKernel.Kernel.InvokeAsync(String pluginName, String functionName, KernelArguments arguments, CancellationToken cancellationToken)\r\n",
      "   at Microsoft.SemanticKernel.TemplateEngine.CodeBlock.RenderFunctionCallAsync(FunctionIdBlock fBlock, Kernel kernel, KernelArguments arguments, CancellationToken cancellationToken)\r\n",
      "   at Microsoft.SemanticKernel.KernelPromptTemplate.RenderAsync(List`1 blocks, Kernel kernel, KernelArguments arguments, CancellationToken cancellationToken)\r\n",
      "   at Microsoft.SemanticKernel.KernelFunctionFromPrompt.RenderPromptAsync(Kernel kernel, KernelArguments arguments, CancellationToken cancellationToken)\r\n",
      "   at Microsoft.SemanticKernel.KernelFunctionFromPrompt.InvokeCoreAsync(Kernel kernel, KernelArguments arguments, CancellationToken cancellationToken)\r\n",
      "   at Microsoft.SemanticKernel.KernelFunction.InvokeAsync(Kernel kernel, KernelArguments arguments, CancellationToken cancellationToken)\r\n",
      "   at Submission#6.<<Initialize>>d__0.MoveNext()\r\n",
      "--- End of stack trace from previous location ---\r\n",
      "   at Microsoft.CodeAnalysis.Scripting.ScriptExecutionState.RunSubmissionsAsync[TResult](ImmutableArray`1 precedingExecutors, Func`2 currentExecutor, StrongBox`1 exceptionHolderOpt, Func`2 catchExceptionOpt, CancellationToken cancellationToken)"
     ]
    }
   ],
   "source": [
    "var promptTemplate = \"Considering that today date is {{date.GetCurrentDate}}, how many days until {{$input}}?\";\n",
    "\n",
    "var semanticFunction = kernel.CreateFunctionFromPrompt(promptTemplate);\n",
    "\n",
    "var response = await kernel.InvokeAsync(semanticFunction, kernelArguments);\n",
    "\n",
    "display(response.GetValue<string>())"
   ]
  },
  {
   "cell_type": "markdown",
   "metadata": {},
   "source": [
    "### 👀 Let's check the rendered prompt."
   ]
  },
  {
   "cell_type": "code",
   "execution_count": 5,
   "metadata": {
    "dotnet_interactive": {
     "language": "csharp"
    },
    "polyglot_notebook": {
     "kernelName": "csharp"
    }
   },
   "outputs": [
    {
     "ename": "Error",
     "evalue": "System.Collections.Generic.KeyNotFoundException: The plugin collection does not contain a plugin and/or function with the specified names. Plugin name - 'date', function name - 'GetCurrentDate'.\r\n   at Microsoft.SemanticKernel.KernelPluginExtensions.GetFunction(IReadOnlyKernelPluginCollection plugins, String pluginName, String functionName)\r\n   at Microsoft.SemanticKernel.Kernel.InvokeAsync(String pluginName, String functionName, KernelArguments arguments, CancellationToken cancellationToken)\r\n   at Microsoft.SemanticKernel.TemplateEngine.CodeBlock.RenderFunctionCallAsync(FunctionIdBlock fBlock, Kernel kernel, KernelArguments arguments, CancellationToken cancellationToken)\r\n   at Microsoft.SemanticKernel.KernelPromptTemplate.RenderAsync(List`1 blocks, Kernel kernel, KernelArguments arguments, CancellationToken cancellationToken)\r\n   at Submission#7.PrintHelper.PrintRenderedPromptAsync(Kernel kernel, String promptTemplate, KernelArguments kernelArguments)\r\n   at Submission#8.<<Initialize>>d__0.MoveNext()\r\n--- End of stack trace from previous location ---\r\n   at Microsoft.CodeAnalysis.Scripting.ScriptExecutionState.RunSubmissionsAsync[TResult](ImmutableArray`1 precedingExecutors, Func`2 currentExecutor, StrongBox`1 exceptionHolderOpt, Func`2 catchExceptionOpt, CancellationToken cancellationToken)",
     "output_type": "error",
     "traceback": [
      "System.Collections.Generic.KeyNotFoundException: The plugin collection does not contain a plugin and/or function with the specified names. Plugin name - 'date', function name - 'GetCurrentDate'.\r\n",
      "   at Microsoft.SemanticKernel.KernelPluginExtensions.GetFunction(IReadOnlyKernelPluginCollection plugins, String pluginName, String functionName)\r\n",
      "   at Microsoft.SemanticKernel.Kernel.InvokeAsync(String pluginName, String functionName, KernelArguments arguments, CancellationToken cancellationToken)\r\n",
      "   at Microsoft.SemanticKernel.TemplateEngine.CodeBlock.RenderFunctionCallAsync(FunctionIdBlock fBlock, Kernel kernel, KernelArguments arguments, CancellationToken cancellationToken)\r\n",
      "   at Microsoft.SemanticKernel.KernelPromptTemplate.RenderAsync(List`1 blocks, Kernel kernel, KernelArguments arguments, CancellationToken cancellationToken)\r\n",
      "   at Submission#7.PrintHelper.PrintRenderedPromptAsync(Kernel kernel, String promptTemplate, KernelArguments kernelArguments)\r\n",
      "   at Submission#8.<<Initialize>>d__0.MoveNext()\r\n",
      "--- End of stack trace from previous location ---\r\n",
      "   at Microsoft.CodeAnalysis.Scripting.ScriptExecutionState.RunSubmissionsAsync[TResult](ImmutableArray`1 precedingExecutors, Func`2 currentExecutor, StrongBox`1 exceptionHolderOpt, Func`2 catchExceptionOpt, CancellationToken cancellationToken)"
     ]
    }
   ],
   "source": [
    "#!import Helpers/PrintHelper.cs\n",
    "\n",
    "await PrintHelper.PrintRenderedPromptAsync(kernel, promptTemplate, kernelArguments);"
   ]
  },
  {
   "cell_type": "markdown",
   "metadata": {},
   "source": [
    "### 🚰 For a better user experience we can may want to use with streaming 🚰."
   ]
  },
  {
   "cell_type": "code",
   "execution_count": 6,
   "metadata": {
    "dotnet_interactive": {
     "language": "csharp"
    },
    "polyglot_notebook": {
     "kernelName": "csharp"
    }
   },
   "outputs": [
    {
     "ename": "Error",
     "evalue": "System.Collections.Generic.KeyNotFoundException: The plugin collection does not contain a plugin and/or function with the specified names. Plugin name - 'date', function name - 'GetCurrentDate'.\r\n   at Microsoft.SemanticKernel.KernelPluginExtensions.GetFunction(IReadOnlyKernelPluginCollection plugins, String pluginName, String functionName)\r\n   at Microsoft.SemanticKernel.Kernel.InvokeAsync(String pluginName, String functionName, KernelArguments arguments, CancellationToken cancellationToken)\r\n   at Microsoft.SemanticKernel.TemplateEngine.CodeBlock.RenderFunctionCallAsync(FunctionIdBlock fBlock, Kernel kernel, KernelArguments arguments, CancellationToken cancellationToken)\r\n   at Microsoft.SemanticKernel.KernelPromptTemplate.RenderAsync(List`1 blocks, Kernel kernel, KernelArguments arguments, CancellationToken cancellationToken)\r\n   at Microsoft.SemanticKernel.KernelFunctionFromPrompt.RenderPromptAsync(Kernel kernel, KernelArguments arguments, CancellationToken cancellationToken)\r\n   at Microsoft.SemanticKernel.KernelFunctionFromPrompt.InvokeStreamingCoreAsync[TResult](Kernel kernel, KernelArguments arguments, CancellationToken cancellationToken)+MoveNext()\r\n   at Microsoft.SemanticKernel.KernelFunctionFromPrompt.InvokeStreamingCoreAsync[TResult](Kernel kernel, KernelArguments arguments, CancellationToken cancellationToken)+System.Threading.Tasks.Sources.IValueTaskSource<System.Boolean>.GetResult()\r\n   at Microsoft.SemanticKernel.KernelFunction.InvokeStreamingAsync[TResult](Kernel kernel, KernelArguments arguments, CancellationToken cancellationToken)+MoveNext()\r\n   at Microsoft.SemanticKernel.KernelFunction.InvokeStreamingAsync[TResult](Kernel kernel, KernelArguments arguments, CancellationToken cancellationToken)+MoveNext()\r\n   at Microsoft.SemanticKernel.KernelFunction.InvokeStreamingAsync[TResult](Kernel kernel, KernelArguments arguments, CancellationToken cancellationToken)+System.Threading.Tasks.Sources.IValueTaskSource<System.Boolean>.GetResult()\r\n   at Submission#9.<<Initialize>>d__0.MoveNext()\r\n--- End of stack trace from previous location ---\r\n   at Submission#9.<<Initialize>>d__0.MoveNext()\r\n--- End of stack trace from previous location ---\r\n   at Microsoft.CodeAnalysis.Scripting.ScriptExecutionState.RunSubmissionsAsync[TResult](ImmutableArray`1 precedingExecutors, Func`2 currentExecutor, StrongBox`1 exceptionHolderOpt, Func`2 catchExceptionOpt, CancellationToken cancellationToken)",
     "output_type": "error",
     "traceback": [
      "System.Collections.Generic.KeyNotFoundException: The plugin collection does not contain a plugin and/or function with the specified names. Plugin name - 'date', function name - 'GetCurrentDate'.\r\n",
      "   at Microsoft.SemanticKernel.KernelPluginExtensions.GetFunction(IReadOnlyKernelPluginCollection plugins, String pluginName, String functionName)\r\n",
      "   at Microsoft.SemanticKernel.Kernel.InvokeAsync(String pluginName, String functionName, KernelArguments arguments, CancellationToken cancellationToken)\r\n",
      "   at Microsoft.SemanticKernel.TemplateEngine.CodeBlock.RenderFunctionCallAsync(FunctionIdBlock fBlock, Kernel kernel, KernelArguments arguments, CancellationToken cancellationToken)\r\n",
      "   at Microsoft.SemanticKernel.KernelPromptTemplate.RenderAsync(List`1 blocks, Kernel kernel, KernelArguments arguments, CancellationToken cancellationToken)\r\n",
      "   at Microsoft.SemanticKernel.KernelFunctionFromPrompt.RenderPromptAsync(Kernel kernel, KernelArguments arguments, CancellationToken cancellationToken)\r\n",
      "   at Microsoft.SemanticKernel.KernelFunctionFromPrompt.InvokeStreamingCoreAsync[TResult](Kernel kernel, KernelArguments arguments, CancellationToken cancellationToken)+MoveNext()\r\n",
      "   at Microsoft.SemanticKernel.KernelFunctionFromPrompt.InvokeStreamingCoreAsync[TResult](Kernel kernel, KernelArguments arguments, CancellationToken cancellationToken)+System.Threading.Tasks.Sources.IValueTaskSource<System.Boolean>.GetResult()\r\n",
      "   at Microsoft.SemanticKernel.KernelFunction.InvokeStreamingAsync[TResult](Kernel kernel, KernelArguments arguments, CancellationToken cancellationToken)+MoveNext()\r\n",
      "   at Microsoft.SemanticKernel.KernelFunction.InvokeStreamingAsync[TResult](Kernel kernel, KernelArguments arguments, CancellationToken cancellationToken)+MoveNext()\r\n",
      "   at Microsoft.SemanticKernel.KernelFunction.InvokeStreamingAsync[TResult](Kernel kernel, KernelArguments arguments, CancellationToken cancellationToken)+System.Threading.Tasks.Sources.IValueTaskSource<System.Boolean>.GetResult()\r\n",
      "   at Submission#9.<<Initialize>>d__0.MoveNext()\r\n",
      "--- End of stack trace from previous location ---\r\n",
      "   at Submission#9.<<Initialize>>d__0.MoveNext()\r\n",
      "--- End of stack trace from previous location ---\r\n",
      "   at Microsoft.CodeAnalysis.Scripting.ScriptExecutionState.RunSubmissionsAsync[TResult](ImmutableArray`1 precedingExecutors, Func`2 currentExecutor, StrongBox`1 exceptionHolderOpt, Func`2 catchExceptionOpt, CancellationToken cancellationToken)"
     ]
    }
   ],
   "source": [
    "await foreach (var token in kernel.InvokePromptStreamingAsync(promptTemplate, kernelArguments))\n",
    "{\n",
    "    Console.Write(token);\n",
    "}"
   ]
  },
  {
   "cell_type": "markdown",
   "metadata": {},
   "source": [
    "### There are many ways to build plugins in SK"
   ]
  },
  {
   "cell_type": "markdown",
   "metadata": {},
   "source": [
    "### You can build them and then add them to the kernel"
   ]
  },
  {
   "cell_type": "code",
   "execution_count": 7,
   "metadata": {
    "dotnet_interactive": {
     "language": "csharp"
    },
    "polyglot_notebook": {
     "kernelName": "csharp"
    }
   },
   "outputs": [],
   "source": [
    "// kernel.CreatePluginFromFunctions()\n",
    "\n",
    "// kernel.CreatePluginFromObject()\n",
    "\n",
    "// kernel.CreatePluginFromPromptDirectory()\n",
    "\n",
    "// kernel.CreatePluginFromType<>()\n",
    "\n",
    "\n",
    "// kernel.Plugins.Add(plugin);"
   ]
  },
  {
   "cell_type": "markdown",
   "metadata": {},
   "source": [
    "### Or you can add them directly (import)..."
   ]
  },
  {
   "cell_type": "code",
   "execution_count": 8,
   "metadata": {
    "dotnet_interactive": {
     "language": "csharp"
    },
    "polyglot_notebook": {
     "kernelName": "csharp"
    }
   },
   "outputs": [],
   "source": [
    "// kernel.ImportPluginFromPromptDirectory();           // semantic\n",
    "\n",
    "// kernel.ImportPluginFromFunctions()                  // native\n",
    "\n",
    "// kernel.ImportPluginFromPromptDirectory()            // semantic\n",
    "\n",
    "// kernel.ImportPluginFromObject()                     // native\n",
    "\n",
    "// kernel.ImportPluginFromType<>()                     // native or semantic from native\n",
    "\n",
    "// kernel.ImportPluginFromOpenAIAsync                  // semantic from OpenAI plugin"
   ]
  }
 ],
 "metadata": {
  "kernelspec": {
   "display_name": ".NET (C#)",
   "language": "C#",
   "name": ".net-csharp"
  },
  "language_info": {
   "name": "polyglot-notebook"
  },
  "polyglot_notebook": {
   "kernelInfo": {
    "defaultKernelName": "csharp",
    "items": [
     {
      "aliases": [],
      "name": "csharp"
     }
    ]
   }
  }
 },
 "nbformat": 4,
 "nbformat_minor": 2
}
