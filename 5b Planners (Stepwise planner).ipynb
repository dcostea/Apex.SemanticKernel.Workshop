{
 "cells": [
  {
   "attachments": {},
   "cell_type": "markdown",
   "metadata": {},
   "source": [
    "# 🗺️ Planners (with FunctionCallingStepwise planner)"
   ]
  },
  {
   "cell_type": "markdown",
   "metadata": {},
   "source": [
    "### Initialize the kernel"
   ]
  },
  {
   "cell_type": "code",
   "execution_count": 1,
   "metadata": {
    "dotnet_interactive": {
     "language": "csharp"
    },
    "polyglot_notebook": {
     "kernelName": "csharp"
    }
   },
   "outputs": [
    {
     "data": {
      "text/html": [
       "<div><div></div><div></div><div><strong>Installed Packages</strong><ul><li><span>Microsoft.SemanticKernel, 1.15.0</span></li><li><span>Microsoft.SemanticKernel.Abstractions, 1.15.0</span></li><li><span>Microsoft.SemanticKernel.Planners.Handlebars, 1.15.0-preview</span></li><li><span>Microsoft.SemanticKernel.Planners.OpenAI, 1.15.0-preview</span></li><li><span>Microsoft.SemanticKernel.Plugins.Core, 1.15.0-alpha</span></li><li><span>Microsoft.SemanticKernel.Plugins.Web, 1.15.0-alpha</span></li></ul></div></div>"
      ]
     },
     "metadata": {},
     "output_type": "display_data"
    }
   ],
   "source": [
    "#r \"nuget: Microsoft.SemanticKernel, 1.15.0\"\n",
    "#r \"nuget: Microsoft.SemanticKernel.Abstractions, 1.15.0\"\n",
    "#r \"nuget: Microsoft.SemanticKernel.Plugins.Core, 1.15.0-alpha\"\n",
    "#r \"nuget: Microsoft.SemanticKernel.Plugins.Web, 1.15.0-alpha\"\n",
    "#r \"nuget: Microsoft.SemanticKernel.Planners.Handlebars, 1.15.0-preview\"\n",
    "#r \"nuget: Microsoft.SemanticKernel.Planners.OpenAI, 1.15.0-preview\"\n",
    "\n",
    "#!import Secrets.cs\n",
    "\n",
    "using Microsoft.SemanticKernel;\n",
    "using Microsoft.SemanticKernel.Plugins;\n",
    "using Microsoft.SemanticKernel.Connectors.OpenAI;\n",
    "\n",
    "var kernel = Kernel.CreateBuilder()\n",
    "    // .AddAzureOpenAIChatCompletion(\n",
    "    //     deploymentName: Secrets.DeploymentName,\n",
    "    //     endpoint: Secrets.Endpoint,\n",
    "    //     apiKey: Secrets.ApyKey)\n",
    "    .AddOpenAIChatCompletion(\n",
    "        modelId: Secrets.OpenAIModel,\n",
    "        apiKey: Secrets.OpenAIApiKey)    \n",
    "    .Build();"
   ]
  },
  {
   "cell_type": "markdown",
   "metadata": {},
   "source": [
    "### 🔌 Let's add a native plugin for use by the planner"
   ]
  },
  {
   "cell_type": "code",
   "execution_count": 2,
   "metadata": {
    "dotnet_interactive": {
     "language": "csharp"
    },
    "polyglot_notebook": {
     "kernelName": "csharp"
    }
   },
   "outputs": [
    {
     "name": "stdout",
     "output_type": "stream",
     "text": [
      "****** Registered 🔌 Plugins and 📦 Functions ******\n",
      "🔌 MotorPlugin\n",
      "   📦 /Backward: Moves the car backward.\n",
      "🔌 MotorPlugin\n",
      "   📦 /Forward: Moves the car forward.\n",
      "🔌 MotorPlugin\n",
      "   📦 /Stop: Stops the car.\n",
      "🔌 MotorPlugin\n",
      "   📦 /TurnLeft: Turns the car anticlockwise.\n",
      "🔌 MotorPlugin\n",
      "   📦 /TurnRight: Turns the car clockwise.\n"
     ]
    }
   ],
   "source": [
    "#!import Helpers/PrintHelper.cs\n",
    "#!import Plugins/MotorPlugin.cs\n",
    "\n",
    "kernel.Plugins.AddFromType<MotorPlugin>();\n",
    "\n",
    "PrintHelper.PrintAllPluginFunctions(kernel);"
   ]
  },
  {
   "cell_type": "markdown",
   "metadata": {},
   "source": [
    "### 📋 Prepare kernel arguments"
   ]
  },
  {
   "cell_type": "code",
   "execution_count": 3,
   "metadata": {
    "dotnet_interactive": {
     "language": "csharp"
    },
    "polyglot_notebook": {
     "kernelName": "csharp"
    }
   },
   "outputs": [],
   "source": [
    "var goal = \"You have a tree in front of the car. Avoid it.\";\n",
    "var kernelArguments = new KernelArguments()\n",
    "{\n",
    "    [\"input\"] = goal,\n",
    "    [\"commands\"] = \"go forward, go backward, turn left, turn right, and stop\"\n",
    "};"
   ]
  },
  {
   "cell_type": "markdown",
   "metadata": {},
   "source": [
    "### Refine the goal"
   ]
  },
  {
   "cell_type": "code",
   "execution_count": 4,
   "metadata": {
    "dotnet_interactive": {
     "language": "csharp"
    },
    "polyglot_notebook": {
     "kernelName": "csharp"
    }
   },
   "outputs": [
    {
     "data": {
      "text/plain": [
       "- Go forward (until the car is near the tree)\n",
       "- Stop\n",
       "- Turn right\n",
       "- Go forward (until the car has bypassed the tree)\n",
       "- Stop\n",
       "- Turn left\n",
       "- Go forward (until the car is back on its original path)\n",
       "- Stop"
      ]
     },
     "metadata": {},
     "output_type": "display_data"
    }
   ],
   "source": [
    "var commandsPlugin = kernel.CreatePluginFromPromptDirectory(System.IO.Path.Combine(System.IO.Directory.GetCurrentDirectory(), \"Plugins\", \"CommandsPlugin\"), \"CommandsPlugin\");\n",
    "kernel.Plugins.Add(commandsPlugin);\n",
    "var semanticFunction = commandsPlugin[\"ExtractBasicCommands\"];\n",
    "var response = await kernel.InvokeAsync(semanticFunction, kernelArguments);\n",
    "var refinedGoal = response.GetValue<string>();\n",
    "\n",
    "kernelArguments[\"input\"] = refinedGoal;\n",
    "\n",
    "display(refinedGoal)"
   ]
  },
  {
   "cell_type": "markdown",
   "metadata": {},
   "source": [
    "### 🗺️🧠 Generate FunctionCallingStepwise Plan\n",
    "\n",
    "This planner is different from the handlebarsplanner in that it doesn't generate a plan ahead of time, and simply progresses towards its goal."
   ]
  },
  {
   "cell_type": "markdown",
   "metadata": {},
   "source": [
    "### 🏃 Let's see it run"
   ]
  },
  {
   "cell_type": "code",
   "execution_count": 5,
   "metadata": {
    "dotnet_interactive": {
     "language": "csharp"
    },
    "polyglot_notebook": {
     "kernelName": "csharp"
    }
   },
   "outputs": [
    {
     "name": "stdout",
     "output_type": "stream",
     "text": [
      "****** Registered 🔌 Plugins and 📦 Functions ******\n",
      "🔌 MotorPlugin\n",
      "   📦 /Backward: Moves the car backward.\n",
      "🔌 MotorPlugin\n",
      "   📦 /Forward: Moves the car forward.\n",
      "🔌 MotorPlugin\n",
      "   📦 /Stop: Stops the car.\n",
      "🔌 MotorPlugin\n",
      "   📦 /TurnLeft: Turns the car anticlockwise.\n",
      "🔌 MotorPlugin\n",
      "   📦 /TurnRight: Turns the car clockwise.\n",
      "🔌 CommandsPlugin\n",
      "   📦 /ExtractBasicCommands: Break down complex actions into basic motor commands.\n",
      "      📥 Params:\n",
      "       • input: Complex action to be break down into basic motor commands. (default: '')\n",
      "       • commands: The basic motor commands to choose from. (default: '')\n"
     ]
    }
   ],
   "source": [
    "using Microsoft.SemanticKernel.Planning;\n",
    "\n",
    "#pragma warning disable SKEXP0060\n",
    "\n",
    "var functionCallingStepwisePlannerOptions = new FunctionCallingStepwisePlannerOptions\n",
    "{\n",
    "    MaxIterations = 30\n",
    "};\n",
    "\n",
    "functionCallingStepwisePlannerOptions.ExcludedPlugins.Add(\"CommandsPlugin\");\n",
    "\n",
    "PrintHelper.PrintAllPluginFunctions(kernel);"
   ]
  },
  {
   "cell_type": "code",
   "execution_count": 6,
   "metadata": {
    "dotnet_interactive": {
     "language": "csharp"
    },
    "polyglot_notebook": {
     "kernelName": "csharp"
    }
   },
   "outputs": [
    {
     "name": "stdout",
     "output_type": "stream",
     "text": [
      "🡲\n",
      "·\n",
      "🡶\n",
      "🡲\n",
      "·\n",
      "🡵\n",
      "🡲\n",
      "·\n"
     ]
    },
    {
     "data": {
      "text/plain": [
       "1. Move the car forward.\n",
       "2. Stop the car.\n",
       "3. Turn the car right.\n",
       "4. Move the car forward.\n",
       "5. Stop the car.\n",
       "6. Turn the car left.\n",
       "7. Move the car forward.\n",
       "8. Stop the car."
      ]
     },
     "metadata": {},
     "output_type": "display_data"
    }
   ],
   "source": [
    "#pragma warning disable SKEXP0060\n",
    "\n",
    "var planner = new FunctionCallingStepwisePlanner(functionCallingStepwisePlannerOptions);\n",
    "var plannerResult = await planner.ExecuteAsync(kernel, refinedGoal);\n",
    "\n",
    "display(plannerResult.FinalAnswer)"
   ]
  },
  {
   "cell_type": "code",
   "execution_count": null,
   "metadata": {
    "dotnet_interactive": {
     "language": "csharp"
    },
    "polyglot_notebook": {
     "kernelName": "csharp"
    }
   },
   "outputs": [],
   "source": [
    "#pragma warning disable SKEXP0060\n",
    "\n",
    "functionCallingStepwisePlannerOptions.ExcludedPlugins.Add(\"CommandsPlugin\");\n",
    "var planner = new FunctionCallingStepwisePlanner(functionCallingStepwisePlannerOptions);\n",
    "var plannerResult = await planner.ExecuteAsync(kernel, refinedGoal);\n",
    "\n",
    "display(plannerResult.FinalAnswer)"
   ]
  },
  {
   "cell_type": "code",
   "execution_count": null,
   "metadata": {
    "dotnet_interactive": {
     "language": "csharp"
    },
    "polyglot_notebook": {
     "kernelName": "csharp"
    }
   },
   "outputs": [],
   "source": []
  }
 ],
 "metadata": {
  "kernelspec": {
   "display_name": ".NET (C#)",
   "language": "C#",
   "name": ".net-csharp"
  },
  "language_info": {
   "name": "polyglot-notebook"
  },
  "polyglot_notebook": {
   "kernelInfo": {
    "defaultKernelName": "csharp",
    "items": [
     {
      "aliases": [],
      "name": "csharp"
     }
    ]
   }
  }
 },
 "nbformat": 4,
 "nbformat_minor": 2
}
