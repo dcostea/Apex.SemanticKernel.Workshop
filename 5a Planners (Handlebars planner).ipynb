{
 "cells": [
  {
   "attachments": {},
   "cell_type": "markdown",
   "metadata": {},
   "source": [
    "# 🗺️ Planners (with Handlebars planner)"
   ]
  },
  {
   "cell_type": "markdown",
   "metadata": {},
   "source": [
    "### Initialize the kernel"
   ]
  },
  {
   "cell_type": "code",
   "execution_count": 1,
   "metadata": {
    "dotnet_interactive": {
     "language": "csharp"
    },
    "polyglot_notebook": {
     "kernelName": "csharp"
    }
   },
   "outputs": [
    {
     "data": {
      "text/html": [
       "<div><div></div><div></div><div><strong>Installed Packages</strong><ul><li><span>Microsoft.SemanticKernel, 1.7.1</span></li><li><span>Microsoft.SemanticKernel.Abstractions, 1.7.1</span></li><li><span>Microsoft.SemanticKernel.Planners.Handlebars, 1.7.1-preview</span></li><li><span>Microsoft.SemanticKernel.Planners.OpenAI, 1.7.1-preview</span></li><li><span>Microsoft.SemanticKernel.Plugins.Core, 1.7.1-alpha</span></li><li><span>Microsoft.SemanticKernel.Plugins.Web, 1.7.1-alpha</span></li></ul></div></div>"
      ]
     },
     "metadata": {},
     "output_type": "display_data"
    }
   ],
   "source": [
    "#r \"nuget: Microsoft.SemanticKernel, 1.7.1\"\n",
    "#r \"nuget: Microsoft.SemanticKernel.Abstractions, 1.7.1\"\n",
    "#r \"nuget: Microsoft.SemanticKernel.Plugins.Core, 1.7.1-alpha\"\n",
    "#r \"nuget: Microsoft.SemanticKernel.Plugins.Web, 1.7.1-alpha\"\n",
    "#r \"nuget: Microsoft.SemanticKernel.Planners.Handlebars, 1.7.1-preview\"\n",
    "#r \"nuget: Microsoft.SemanticKernel.Planners.OpenAI, 1.7.1-preview\"\n",
    "\n",
    "#!import Settings.cs\n",
    "\n",
    "using Microsoft.SemanticKernel;\n",
    "using Microsoft.SemanticKernel.Plugins;\n",
    "using Microsoft.SemanticKernel.Connectors.OpenAI;\n",
    "\n",
    "var kernel = Settings.InitializeKernel();"
   ]
  },
  {
   "cell_type": "markdown",
   "metadata": {},
   "source": [
    "### 🔌 Let's add a native plugin for use by the planner"
   ]
  },
  {
   "cell_type": "code",
   "execution_count": 2,
   "metadata": {
    "dotnet_interactive": {
     "language": "csharp"
    },
    "polyglot_notebook": {
     "kernelName": "csharp"
    }
   },
   "outputs": [
    {
     "name": "stdout",
     "output_type": "stream",
     "text": [
      "****** Registered 🔌 Plugins and 📦 Functions ******\n",
      "🔌 MotorPlugin\n",
      "   📦 /Backward: Moves the car backward.\n",
      "🔌 MotorPlugin\n",
      "   📦 /Forward: Moves the car forward.\n",
      "🔌 MotorPlugin\n",
      "   📦 /Stop: Stops the car.\n",
      "🔌 MotorPlugin\n",
      "   📦 /TurnLeft: Turns the car anticlockwise.\n",
      "🔌 MotorPlugin\n",
      "   📦 /TurnRight: Turns the car clockwise.\n"
     ]
    }
   ],
   "source": [
    "#!import Helpers/PrintHelper.cs\n",
    "#!import Plugins/MotorPlugin.cs\n",
    "\n",
    "kernel.Plugins.AddFromType<MotorPlugin>();\n",
    "\n",
    "PrintHelper.PrintAllPluginFunctions(kernel);"
   ]
  },
  {
   "cell_type": "markdown",
   "metadata": {},
   "source": [
    "### 📋 Prepare kernel arguments"
   ]
  },
  {
   "cell_type": "code",
   "execution_count": 3,
   "metadata": {
    "dotnet_interactive": {
     "language": "csharp"
    },
    "polyglot_notebook": {
     "kernelName": "csharp"
    }
   },
   "outputs": [],
   "source": [
    "var goal = \"You have a tree in front of the car. Avoid it.\";\n",
    "var kernelArguments = new KernelArguments()\n",
    "{\n",
    "    [\"input\"] = goal,\n",
    "    [\"commands\"] = \"go forward, go backward, turn left, turn right, and stop\"\n",
    "};"
   ]
  },
  {
   "cell_type": "markdown",
   "metadata": {},
   "source": [
    "### Refine the goal"
   ]
  },
  {
   "cell_type": "code",
   "execution_count": 4,
   "metadata": {
    "dotnet_interactive": {
     "language": "csharp"
    },
    "polyglot_notebook": {
     "kernelName": "csharp"
    }
   },
   "outputs": [
    {
     "name": "stdout",
     "output_type": "stream",
     "text": [
      "****** Registered 🔌 Plugins and 📦 Functions ******\n",
      "🔌 MotorPlugin\n",
      "   📦 /Backward: Moves the car backward.\n",
      "🔌 MotorPlugin\n",
      "   📦 /Forward: Moves the car forward.\n",
      "🔌 MotorPlugin\n",
      "   📦 /Stop: Stops the car.\n",
      "🔌 MotorPlugin\n",
      "   📦 /TurnLeft: Turns the car anticlockwise.\n",
      "🔌 MotorPlugin\n",
      "   📦 /TurnRight: Turns the car clockwise.\n",
      "🔌 CommandsPlugin\n",
      "   📦 /ExtractBasicCommands: Break down complex actions into basic motor commands.\n",
      "      📥 Params:\n",
      "       • input: Complex action to be break down into basic motor commands. (default: '')\n",
      "       • commands: The basic motor commands to choose from. (default: '')\n"
     ]
    }
   ],
   "source": [
    "var commandsPlugin = kernel.CreatePluginFromPromptDirectory(System.IO.Path.Combine(System.IO.Directory.GetCurrentDirectory(), \"Plugins\", \"CommandsPlugin\"), \"CommandsPlugin\");\n",
    "kernel.Plugins.Add(commandsPlugin);\n",
    "PrintHelper.PrintAllPluginFunctions(kernel);"
   ]
  },
  {
   "cell_type": "code",
   "execution_count": 5,
   "metadata": {
    "dotnet_interactive": {
     "language": "csharp"
    },
    "polyglot_notebook": {
     "kernelName": "csharp"
    }
   },
   "outputs": [
    {
     "data": {
      "text/plain": [
       "To avoid the tree in front of the car and return to a stopped position, the following sequence of basic motor commands can be used:\n",
       "\n",
       "- Go forward (to start moving away from the initial stopped position)\n",
       "- Turn right (to start veering away from the tree)\n",
       "- Go forward (to pass beside the tree)\n",
       "- Turn left (to realign with the original direction past the tree)\n",
       "- Go forward (to create some distance from the tree)\n",
       "- Turn left (to make a U-turn)\n",
       "- Go forward (to head back towards the initial position)\n",
       "- Turn left (to face the original direction)\n",
       "- Go forward (to approach the initial position)\n",
       "- Stop (to reach the final state of being stopped)"
      ]
     },
     "metadata": {},
     "output_type": "display_data"
    }
   ],
   "source": [
    "var semanticFunction = commandsPlugin[\"ExtractBasicCommands\"];\n",
    "var response = await kernel.InvokeAsync(semanticFunction, kernelArguments);\n",
    "var refinedGoal = response.GetValue<string>();\n",
    "\n",
    "kernelArguments[\"input\"] = refinedGoal;\n",
    "\n",
    "display(refinedGoal)"
   ]
  },
  {
   "cell_type": "markdown",
   "metadata": {},
   "source": [
    "### 🗺️ Generate Handlebars Plan"
   ]
  },
  {
   "cell_type": "code",
   "execution_count": 6,
   "metadata": {
    "dotnet_interactive": {
     "language": "csharp"
    },
    "polyglot_notebook": {
     "kernelName": "csharp"
    }
   },
   "outputs": [],
   "source": [
    "using Microsoft.SemanticKernel.Planning.Handlebars;\n",
    "\n",
    "#pragma warning disable SKEXP0060\n",
    "\n",
    "var handlebarsPlannerOptions = new HandlebarsPlannerOptions \n",
    "{ \n",
    "    AllowLoops = true \n",
    "};\n",
    "handlebarsPlannerOptions.ExcludedPlugins.Add(\"CommandsPlugin\");\n",
    "var planner = new HandlebarsPlanner(handlebarsPlannerOptions);\n",
    "var plan = await planner.CreatePlanAsync(kernel, refinedGoal);\n",
    "\n",
    "//Console.WriteLine($\"The proposed plan in Handlebars format:\\n{plan}\");"
   ]
  },
  {
   "cell_type": "markdown",
   "metadata": {},
   "source": [
    "### 🗺️🚲 Let's run the plan!\n",
    "\n",
    "(Note that the final output is json but the planner strips the extra JSON syntax)"
   ]
  },
  {
   "cell_type": "code",
   "execution_count": 7,
   "metadata": {
    "dotnet_interactive": {
     "language": "csharp"
    },
    "polyglot_notebook": {
     "kernelName": "csharp"
    }
   },
   "outputs": [
    {
     "name": "stdout",
     "output_type": "stream",
     "text": [
      "🡲\n",
      "🡶\n",
      "🡲\n",
      "🡵\n",
      "🡲\n",
      "🡵\n",
      "🡲\n",
      "🡵\n",
      "🡲\n",
      "·\n",
      "The car has avoided the tree and returned to a stopped position.\n"
     ]
    }
   ],
   "source": [
    "#pragma warning disable SKEXP0060\n",
    "\n",
    "var planResult = await plan.InvokeAsync(kernel, kernelArguments);\n",
    "Console.WriteLine(planResult.Trim());"
   ]
  },
  {
   "cell_type": "code",
   "execution_count": 8,
   "metadata": {
    "dotnet_interactive": {
     "language": "csharp"
    },
    "polyglot_notebook": {
     "kernelName": "csharp"
    }
   },
   "outputs": [],
   "source": []
  }
 ],
 "metadata": {
  "kernelspec": {
   "display_name": ".NET (C#)",
   "language": "C#",
   "name": ".net-csharp"
  },
  "language_info": {
   "name": "polyglot-notebook"
  },
  "polyglot_notebook": {
   "kernelInfo": {
    "defaultKernelName": "csharp",
    "items": [
     {
      "aliases": [],
      "name": "csharp"
     }
    ]
   }
  }
 },
 "nbformat": 4,
 "nbformat_minor": 2
}
