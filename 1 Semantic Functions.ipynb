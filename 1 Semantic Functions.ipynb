{
 "cells": [
  {
   "attachments": {},
   "cell_type": "markdown",
   "metadata": {},
   "source": [
    "# Semantic functions"
   ]
  },
  {
   "cell_type": "markdown",
   "metadata": {},
   "source": [
    "### Initialize the kernel"
   ]
  },
  {
   "cell_type": "code",
   "execution_count": 1,
   "metadata": {
    "dotnet_interactive": {
     "language": "csharp"
    },
    "polyglot_notebook": {
     "kernelName": "csharp"
    },
    "vscode": {
     "languageId": "polyglot-notebook"
    }
   },
   "outputs": [
    {
     "data": {
      "text/html": [
       "<div><div></div><div></div><div><strong>Installed Packages</strong><ul><li><span>Microsoft.SemanticKernel, 1.7.1</span></li><li><span>Microsoft.SemanticKernel.Plugins.Core, 1.7.1-alpha</span></li></ul></div></div>"
      ]
     },
     "metadata": {},
     "output_type": "display_data"
    }
   ],
   "source": [
    "#r \"nuget: Microsoft.SemanticKernel, 1.7.1\"\n",
    "#r \"nuget: Microsoft.SemanticKernel.Plugins.Core, 1.7.1-alpha\"\n",
    "\n",
    "#!import Settings.cs\n",
    "\n",
    "using Microsoft.SemanticKernel;\n",
    "using Microsoft.SemanticKernel.Connectors.OpenAI;\n",
    "\n",
    "var kernel = Settings.InitializeKernel();"
   ]
  },
  {
   "cell_type": "markdown",
   "metadata": {},
   "source": [
    "### Create a simple plain semantic function"
   ]
  },
  {
   "cell_type": "code",
   "execution_count": 2,
   "metadata": {
    "dotnet_interactive": {
     "language": "csharp"
    },
    "polyglot_notebook": {
     "kernelName": "csharp"
    },
    "vscode": {
     "languageId": "polyglot-notebook"
    }
   },
   "outputs": [
    {
     "data": {
      "text/plain": [
       "As of my last update in 2023, the next total solar eclipse is projected to occur on April 8, 2024. This celestial event is expected to be visible across North America, from Mexico through the United States and into Canada.\n",
       "\n",
       "The path of totality, where the eclipse will be visible in its total phase, will pass through the following U.S. states:\n",
       "\n",
       "- Texas\n",
       "- Oklahoma\n",
       "- Arkansas\n",
       "- Missouri\n",
       "- Illinois\n",
       "- Kentucky\n",
       "- Indiana\n",
       "- Ohio\n",
       "- Pennsylvania\n",
       "- New York\n",
       "- Vermont\n",
       "- New Hampshire\n",
       "- Maine\n",
       "\n",
       "Outside of the path of totality, a partial solar eclipse will be visible over a much broader area. Eclipses are relatively rare events and are only visible from specific parts of the Earth, so if you are in the path of totality, it is a unique opportunity to experience this natural phenomenon. Remember to never look directly at the sun without proper eye protection, as it can cause serious eye damage."
      ]
     },
     "metadata": {},
     "output_type": "display_data"
    }
   ],
   "source": [
    "var promptTemplate = \"When is the next total solar eclipse?\";\n",
    "\n",
    "var semanticFunction = kernel.CreateFunctionFromPrompt(promptTemplate);\n",
    "var response = await kernel.InvokeAsync(semanticFunction);\n",
    "\n",
    "display(response.GetValue<string>())"
   ]
  },
  {
   "cell_type": "markdown",
   "metadata": {},
   "source": [
    "### Now let's create a more complete semantic function (with input variable and execution settings)"
   ]
  },
  {
   "cell_type": "code",
   "execution_count": null,
   "metadata": {
    "dotnet_interactive": {
     "language": "csharp"
    },
    "polyglot_notebook": {
     "kernelName": "csharp"
    },
    "vscode": {
     "languageId": "polyglot-notebook"
    }
   },
   "outputs": [],
   "source": [
    "var promptTemplate = \"When is the next total {{$input}} eclipse? Respond only with JSON.\";\n",
    "\n",
    "var executionSettings = new OpenAIPromptExecutionSettings \n",
    "{\n",
    "    MaxTokens = 500,\n",
    "    Temperature = 0.1\n",
    "};\n",
    "\n",
    "var semanticFunction = kernel.CreateFunctionFromPrompt(promptTemplate, executionSettings);\n",
    "var response = await kernel.InvokeAsync(semanticFunction, new() { [\"input\"] = \"solar\" });\n",
    "\n",
    "display(response.GetValue<string>())"
   ]
  },
  {
   "cell_type": "markdown",
   "metadata": {},
   "source": [
    "### But what about if we have more input variables?"
   ]
  },
  {
   "cell_type": "code",
   "execution_count": null,
   "metadata": {
    "dotnet_interactive": {
     "language": "csharp"
    },
    "polyglot_notebook": {
     "kernelName": "csharp"
    },
    "vscode": {
     "languageId": "polyglot-notebook"
    }
   },
   "outputs": [],
   "source": [
    "var promptTemplate = \"When is the next total {{$input}} eclipse? Today is {{$today}}. Respond only with JSON.\";\n",
    "\n",
    "var executionSettings = new OpenAIPromptExecutionSettings \n",
    "{\n",
    "     MaxTokens = 500,\n",
    "     Temperature = 0.1 \n",
    "};\n",
    "var kernelArguments = new KernelArguments(executionSettings)\n",
    "{\n",
    "    [\"input\"] = \"solar\",\n",
    "    [\"today\"] = \"21st of April 2024\"\n",
    "};\n",
    "\n",
    "var semanticFunction = kernel.CreateFunctionFromPrompt(promptTemplate);\n",
    "var response = await kernel.InvokeAsync(semanticFunction, kernelArguments);\n",
    "\n",
    "display(response.GetValue<string>())"
   ]
  },
  {
   "cell_type": "code",
   "execution_count": null,
   "metadata": {
    "dotnet_interactive": {
     "language": "csharp"
    },
    "polyglot_notebook": {
     "kernelName": "csharp"
    },
    "vscode": {
     "languageId": "polyglot-notebook"
    }
   },
   "outputs": [],
   "source": []
  }
 ],
 "metadata": {
  "kernelspec": {
   "display_name": ".NET (C#)",
   "language": "C#",
   "name": ".net-csharp"
  },
  "language_info": {
   "file_extension": ".cs",
   "mimetype": "text/x-csharp",
   "name": "C#",
   "pygments_lexer": "csharp",
   "version": "11.0"
  },
  "polyglot_notebook": {
   "kernelInfo": {
    "defaultKernelName": "csharp",
    "items": [
     {
      "aliases": [],
      "name": "csharp"
     }
    ]
   }
  }
 },
 "nbformat": 4,
 "nbformat_minor": 2
}
