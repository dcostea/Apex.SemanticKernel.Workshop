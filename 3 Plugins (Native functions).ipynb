{
 "cells": [
  {
   "attachments": {},
   "cell_type": "markdown",
   "metadata": {},
   "source": [
    "# 🔌 Plugins (with native functions)"
   ]
  },
  {
   "cell_type": "markdown",
   "metadata": {},
   "source": [
    "https://docs.google.com/presentation/d/1ansUV9VxvNVfLnB3xerFQypWAKvmv8QLhjuJqeQK2Dg/edit#slide=id.g284f11586a4_0_8"
   ]
  },
  {
   "cell_type": "markdown",
   "metadata": {},
   "source": [
    "### Initialize the kernel"
   ]
  },
  {
   "cell_type": "code",
   "execution_count": 1,
   "metadata": {
    "dotnet_interactive": {
     "language": "csharp"
    },
    "polyglot_notebook": {
     "kernelName": "csharp"
    }
   },
   "outputs": [
    {
     "data": {
      "text/html": [
       "<div><div></div><div></div><div><strong>Installed Packages</strong><ul><li><span>Microsoft.SemanticKernel, 1.7.1</span></li><li><span>Microsoft.SemanticKernel.Plugins.Core, 1.7.1-alpha</span></li></ul></div></div>"
      ]
     },
     "metadata": {},
     "output_type": "display_data"
    }
   ],
   "source": [
    "#r \"nuget: Microsoft.SemanticKernel, 1.7.1\"\n",
    "#r \"nuget: Microsoft.SemanticKernel.Plugins.Core, 1.7.1-alpha\"\n",
    "\n",
    "#!import Settings.cs\n",
    "\n",
    "using Microsoft.SemanticKernel;\n",
    "using Microsoft.SemanticKernel.Connectors.OpenAI;\n",
    "\n",
    "var kernel = Settings.InitializeKernel();"
   ]
  },
  {
   "cell_type": "markdown",
   "metadata": {},
   "source": [
    "### ⌚️ Let's building a plugin consisting of native functions."
   ]
  },
  {
   "cell_type": "code",
   "execution_count": 2,
   "metadata": {
    "dotnet_interactive": {
     "language": "csharp"
    },
    "polyglot_notebook": {
     "kernelName": "csharp"
    }
   },
   "outputs": [],
   "source": [
    "using System.ComponentModel;\n",
    "public class DateTimePlugin\n",
    "{\n",
    "    [KernelFunction]\n",
    "    [Description(\"Retrieves the current date.\")]\n",
    "    public string GetCurrentDate() => DateTime.Now.ToShortDateString();\n",
    "}\n"
   ]
  },
  {
   "cell_type": "markdown",
   "metadata": {},
   "source": [
    "### And add it to the kernel..."
   ]
  },
  {
   "cell_type": "code",
   "execution_count": null,
   "metadata": {
    "dotnet_interactive": {
     "language": "csharp"
    },
    "polyglot_notebook": {
     "kernelName": "csharp"
    }
   },
   "outputs": [],
   "source": [
    "\n",
    "kernel.ImportPluginFromType<DateTimePlugin>(\"date\");"
   ]
  },
  {
   "cell_type": "markdown",
   "metadata": {},
   "source": [
    "### Now the kernel contains all plugins ever added, unless we start removing them.\n",
    "Entire plugins or individual functions can be removed from the kernel anytime."
   ]
  },
  {
   "cell_type": "code",
   "execution_count": 3,
   "metadata": {
    "dotnet_interactive": {
     "language": "csharp"
    },
    "polyglot_notebook": {
     "kernelName": "csharp"
    }
   },
   "outputs": [
    {
     "ename": "Error",
     "evalue": "(1,53): error CS0246: The type or namespace name 'Orchestrator' could not be found (are you missing a using directive or an assembly reference?)\r\n(1,33): error CS1061: 'Kernel' does not contain a definition for 'ImportFunctions' and no accessible extension method 'ImportFunctions' accepting a first argument of type 'Kernel' could be found (are you missing a using directive or an assembly reference?)",
     "output_type": "error",
     "traceback": [
      "(1,53): error CS0246: The type or namespace name 'Orchestrator' could not be found (are you missing a using directive or an assembly reference?)\r\n",
      "(1,33): error CS1061: 'Kernel' does not contain a definition for 'ImportFunctions' and no accessible extension method 'ImportFunctions' accepting a first argument of type 'Kernel' could be found (are you missing a using directive or an assembly reference?)"
     ]
    }
   ],
   "source": [
    "//var plugin = kernel.ImportPluginFromFunctions()\n",
    "var plugin = kernel.ImportPluginFromObject() // native\n",
    "//var plugin = kernel.ImportPluginFromPromptDirectory() semantic\n",
    "//var plugin = kernel.ImportPluginFromType<>() // native or semantic from native\n",
    "//var plugin = kernel.ImportPluginFromOpenAIAsync\n",
    "kernel.CreateFunctionFromMethod()\n",
    "kernel.CreateFunctionFromPrompt()\n",
    "kernel.CreatePluginFromFunctions()\n",
    "kernel.CreatePluginFromObject()\n",
    "kernel.CreatePluginFromPromptDirectory()\n",
    "kernel.CreatePluginFromType<>()\n",
    "kernel.Plugins.Add(plugin);\n",
    "\n",
    "agent = await CreateAgentBuilder()\n",
    "    .FromTemplate(definition)\n",
    "    .WithPlugin(plugin)\n",
    "    \n",
    "//ImportPluginFromApiManifestAsync\n",
    "kernel.ImportPluginFromPromptDirectory(Path.Combine(folder, \"SummarizePlugin\"));\n",
    "\n",
    "//agent as plugin\n",
    "\n",
    "var plugin = KernelPluginFactory.CreateFromFunctions(\"spelling\", \"Spelling functions\", [function]);\n",
    "var plugin = KernelPluginFactory.CreateFromObject()\n",
    "var plugin = KernelPluginFactory.CreateFromType<>()\n",
    "\n",
    "\n",
    "\n"
   ]
  }
 ],
 "metadata": {
  "kernelspec": {
   "display_name": ".NET (C#)",
   "language": "C#",
   "name": ".net-csharp"
  },
  "language_info": {
   "name": "polyglot-notebook"
  },
  "polyglot_notebook": {
   "kernelInfo": {
    "defaultKernelName": "csharp",
    "items": [
     {
      "aliases": [],
      "name": "csharp"
     }
    ]
   }
  }
 },
 "nbformat": 4,
 "nbformat_minor": 2
}
