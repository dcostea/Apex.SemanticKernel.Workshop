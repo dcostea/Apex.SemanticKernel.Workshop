{
 "cells": [
  {
   "attachments": {},
   "cell_type": "markdown",
   "metadata": {},
   "source": [
    "# Dall-E 3\n"
   ]
  },
  {
   "cell_type": "markdown",
   "metadata": {},
   "source": [
    "### Initialize the kernel"
   ]
  },
  {
   "cell_type": "code",
   "execution_count": 3,
   "metadata": {
    "dotnet_interactive": {
     "language": "csharp"
    },
    "polyglot_notebook": {
     "kernelName": "csharp"
    },
    "vscode": {
     "languageId": "polyglot-notebook"
    }
   },
   "outputs": [
    {
     "data": {
      "text/html": [
       "<div><div></div><div></div><div><strong>Installed Packages</strong><ul><li><span>Microsoft.SemanticKernel, 1.7.1</span></li><li><span>Microsoft.SemanticKernel.Plugins.Core, 1.7.1-alpha</span></li><li><span>Microsoft.SemanticKernel.Plugins.Web, 1.7.1-alpha</span></li></ul></div></div>"
      ]
     },
     "metadata": {},
     "output_type": "display_data"
    },
    {
     "ename": "Error",
     "evalue": "(20,22): error SKEXP0010: 'Microsoft.SemanticKernel.OpenAIServiceCollectionExtensions.AddOpenAITextToImage(Microsoft.SemanticKernel.IKernelBuilder, string, string?, string?, System.Net.Http.HttpClient?)' is for evaluation purposes only and is subject to change or removal in future updates. Suppress this diagnostic to proceed.",
     "output_type": "error",
     "traceback": [
      "(20,22): error SKEXP0010: 'Microsoft.SemanticKernel.OpenAIServiceCollectionExtensions.AddOpenAITextToImage(Microsoft.SemanticKernel.IKernelBuilder, string, string?, string?, System.Net.Http.HttpClient?)' is for evaluation purposes only and is subject to change or removal in future updates. Suppress this diagnostic to proceed."
     ]
    },
    {
     "ename": "Error",
     "evalue": "(5,14): error CS0103: The name 'Settings' does not exist in the current context",
     "output_type": "error",
     "traceback": [
      "(5,14): error CS0103: The name 'Settings' does not exist in the current context"
     ]
    }
   ],
   "source": [
    "//#pragma warning disable SKEXP0010\n",
    "\n",
    "#r \"nuget: Microsoft.SemanticKernel, 1.7.1\"\n",
    "#r \"nuget: Microsoft.SemanticKernel.Plugins.Core, 1.7.1-alpha\"\n",
    "#r \"nuget: Microsoft.SemanticKernel.Plugins.Web, 1.7.1-alpha\"\n",
    "\n",
    "#!import Settings.cs\n",
    "\n",
    "using Microsoft.SemanticKernel;\n",
    "using Microsoft.SemanticKernel.Connectors.OpenAI;\n",
    "using Microsoft.SemanticKernel.TextToImage;\n",
    "\n",
    "var kernel = Settings.InitializeKernelWithVision();"
   ]
  },
  {
   "cell_type": "markdown",
   "metadata": {},
   "source": [
    "Dall-E"
   ]
  },
  {
   "cell_type": "code",
   "execution_count": null,
   "metadata": {
    "dotnet_interactive": {
     "language": "csharp"
    },
    "polyglot_notebook": {
     "kernelName": "csharp"
    },
    "vscode": {
     "languageId": "polyglot-notebook"
    }
   },
   "outputs": [],
   "source": [
    "\n",
    "var dallE = kernel.GetRequiredService<ITextToImageService>();\n",
    "\n",
    "var imageDescription = \"A cute baby sea otter\";\n",
    "var image = await dallE.GenerateImageAsync(imageDescription, 256, 256);\n",
    "\n",
    "Console.WriteLine(imageDescription);\n",
    "Console.WriteLine(\"Image URL: \" + image);\n",
    "\n",
    "/* Output:\n",
    "\n",
    "A cute baby sea otter\n",
    "Image URL: https://oaidalleapiprodscus.blob.core.windows.net/private/....\n",
    "\n",
    "*/\n",
    "\n",
    "Console.WriteLine(\"======== Chat with images ========\");\n",
    "\n",
    "var chatGPT = kernel.GetRequiredService<IChatCompletionService>();\n",
    "var chatHistory = new ChatHistory(\n",
    "   \"You're chatting with a user. Instead of replying directly to the user\" +\n",
    "   \" provide the description of an image that expresses what you want to say.\" +\n",
    "   \" The user won't see your message, they will see only the image. The system \" +\n",
    "   \" generates an image using your description, so it's important you describe the image with details.\");\n",
    "\n",
    "var msg = \"Hi, I'm from Tokyo, where are you from?\";\n",
    "chatHistory.AddUserMessage(msg);\n",
    "Console.WriteLine(\"User: \" + msg);\n",
    "\n",
    "var reply = await chatGPT.GetChatMessageContentAsync(chatHistory);\n",
    "chatHistory.Add(reply);\n",
    "image = await dallE.GenerateImageAsync(reply.Content!, 256, 256);\n",
    "Console.WriteLine(\"Bot: \" + image);\n",
    "Console.WriteLine(\"Img description: \" + reply);\n",
    "\n",
    "msg = \"Oh, wow. Not sure where that is, could you provide more details?\";\n",
    "chatHistory.AddUserMessage(msg);\n",
    "Console.WriteLine(\"User: \" + msg);\n",
    "\n",
    "reply = await chatGPT.GetChatMessageContentAsync(chatHistory);\n",
    "chatHistory.Add(reply);\n",
    "image = await dallE.GenerateImageAsync(reply.Content!, 256, 256);\n",
    "Console.WriteLine(\"Bot: \" + image);\n",
    "Console.WriteLine(\"Img description: \" + reply);\n",
    "\n",
    "/* Output:\n",
    "\n",
    "User: Hi, I'm from Tokyo, where are you from?\n",
    "Bot: https://oaidalleapiprodscus.blob.core.windows.net/private/...\n",
    "Img description: [An image of a globe with a pin dropped on a location in the middle of the ocean]\n",
    "\n",
    "User: Oh, wow. Not sure where that is, could you provide more details?\n",
    "Bot: https://oaidalleapiprodscus.blob.core.windows.net/private/...\n",
    "Img description: [An image of a map zooming in on the pin location, revealing a small island with a palm tree on it]\n",
    "\n",
    "*/"
   ]
  }
 ],
 "metadata": {
  "kernelspec": {
   "display_name": ".NET (C#)",
   "language": "C#",
   "name": ".net-csharp"
  },
  "language_info": {
   "file_extension": ".cs",
   "mimetype": "text/x-csharp",
   "name": "C#",
   "pygments_lexer": "csharp",
   "version": "11.0"
  },
  "polyglot_notebook": {
   "kernelInfo": {
    "defaultKernelName": "csharp",
    "items": [
     {
      "aliases": [],
      "name": "csharp"
     }
    ]
   }
  }
 },
 "nbformat": 4,
 "nbformat_minor": 2
}
