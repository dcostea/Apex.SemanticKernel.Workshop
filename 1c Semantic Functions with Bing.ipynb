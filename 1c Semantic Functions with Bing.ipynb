{
 "cells": [
  {
   "attachments": {},
   "cell_type": "markdown",
   "metadata": {},
   "source": [
    "# Installing Semantic Kernel"
   ]
  },
  {
   "cell_type": "code",
   "execution_count": 1,
   "metadata": {
    "dotnet_interactive": {
     "language": "csharp"
    },
    "polyglot_notebook": {
     "kernelName": "csharp"
    },
    "vscode": {
     "languageId": "polyglot-notebook"
    }
   },
   "outputs": [
    {
     "data": {
      "text/html": [
       "<div><div></div><div></div><div><strong>Installed Packages</strong><ul><li><span>Microsoft.SemanticKernel, 1.7.1</span></li><li><span>Microsoft.SemanticKernel.Plugins.Core, 1.7.1-alpha</span></li><li><span>Microsoft.SemanticKernel.Plugins.Web, 1.7.1-alpha</span></li></ul></div></div>"
      ]
     },
     "metadata": {},
     "output_type": "display_data"
    }
   ],
   "source": [
    "#r \"nuget: Microsoft.SemanticKernel, 1.7.1\"\n",
    "#r \"nuget: Microsoft.SemanticKernel.Plugins.Core, 1.7.1-alpha\"\n",
    "#r \"nuget: Microsoft.SemanticKernel.Plugins.Web, 1.7.1-alpha\"\n",
    "\n",
    "#!import Secrets.cs\n",
    "\n",
    "using Microsoft.SemanticKernel;\n",
    "using Microsoft.SemanticKernel.Connectors.OpenAI;\n",
    "using Microsoft.SemanticKernel.Plugins.Web;\n",
    "using Microsoft.SemanticKernel.Plugins.Web.Bing;\n",
    "\n",
    "var kernel = Kernel.CreateBuilder()\n",
    "    .AddAzureOpenAIChatCompletion(\n",
    "        deploymentName: Secrets.DeploymentName,\n",
    "        endpoint: Secrets.Endpoint,\n",
    "        apiKey: Secrets.ApyKey)\n",
    "    .Build();"
   ]
  },
  {
   "cell_type": "code",
   "execution_count": 6,
   "metadata": {
    "dotnet_interactive": {
     "language": "csharp"
    },
    "polyglot_notebook": {
     "kernelName": "csharp"
    },
    "vscode": {
     "languageId": "polyglot-notebook"
    }
   },
   "outputs": [],
   "source": [
    "#!import Secrets.cs\n",
    "\n",
    "#pragma warning disable SKEXP0050\n",
    "\n",
    "var bingConnector = new BingConnector(Secrets.BingSearchKey);\n",
    "var bing = new WebSearchEnginePlugin(bingConnector);\n",
    "\n",
    "kernel.ImportPluginFromObject(bing, \"bing\");"
   ]
  },
  {
   "cell_type": "markdown",
   "metadata": {},
   "source": [
    "### 📋 Add some arguments"
   ]
  },
  {
   "cell_type": "code",
   "execution_count": 7,
   "metadata": {
    "dotnet_interactive": {
     "language": "csharp"
    },
    "polyglot_notebook": {
     "kernelName": "csharp"
    },
    "vscode": {
     "languageId": "polyglot-notebook"
    }
   },
   "outputs": [
    {
     "data": {
      "text/plain": [
       "[\"Eclipses. Next Eclipses in the Netherlands. Partial Lunar Eclipse. Sep 18, 2024. Partial Lunar Eclipse. Mar 14, 2025. Partial Solar Eclipse. Mar 29, 2025. Total Lunar Eclipse. Sep 7, 2025. Partial Solar Eclipse. Aug 12, 2026. Partial Lunar Eclipse. Aug 28, 2026. Penumbral Lunar Eclipse. Feb 20, 2027. Partial Solar Eclipse. Aug 2, 2027.\",\"Astronomy Index. List of Total Solar Eclipses Worldwide Next 10 Years. Check where the eclipses are visible and if you can see them.\",\"The Monday, April 8, 2024, total solar eclipse will cross North America, passing over Mexico, the United States, and Canada. The total solar eclipse will begin over the South Pacific Ocean.\",\"It’s never too soon to start thinking about the next solar eclipse. On April 8, the moon’s shadow will sweep across North America, bringing a total solar eclipse over the homes of more than 30...\",\"When will the next totality be visible from the U.S.? The next U.S. taste of totality comes in 2033 when an eclipse brushes Alaska and Russia. And in 2044, one will cross Greenland and western...\",\"The next total solar eclipse will occur on Aug. 12, 2026, but it will mostly pass over the Arctic Ocean. Totality, when the moon fully obscures the sun’s light, will be visible along a path...\",\"The next total solar eclipse with a coast-to-coast path spanning the Lower 48 states will occur on August 12, 2045. The path of totality will arc over California, Nevada, Utah, Colorado,...\",\"April 8, 2024. Leer en español. Follow our live updates on the total solar eclipse. On April 8, North America will experience its second total solar eclipse in seven years. The moon will...\",\"After the total solar eclipse on April 8, 2024, the next total solar eclipse that can be seen from the contiguous United States will be on Aug. 23, 2044. We can’t normally see the corona ­– the Sun’s outer atmosphere – because the Sun’s surface below it is so much brighter.\",\"The total solar eclipse of July 22, 2028, will cross the continent of Australia and southern New Zealand. Image via Fred Espenak/ Eclipsewise. November 25, 2030. After a one-year drought, a...\"]"
      ]
     },
     "metadata": {},
     "output_type": "display_data"
    }
   ],
   "source": [
    "var promptTemplate = \"When is the next total {{$input}} eclipse?\";\n",
    "var function = kernel.Plugins[\"bing\"][\"search\"];\n",
    "var bingResult = await kernel.InvokeAsync(function, new() { [\"query\"] = promptTemplate });\n",
    "\n",
    "var currentContext = bingResult.GetValue<string>();\n",
    "display(currentContext)"
   ]
  },
  {
   "cell_type": "markdown",
   "metadata": {},
   "source": [
    "### 🏃‍♀️ Run prompt"
   ]
  },
  {
   "cell_type": "code",
   "execution_count": null,
   "metadata": {
    "dotnet_interactive": {
     "language": "csharp"
    },
    "polyglot_notebook": {
     "kernelName": "csharp"
    },
    "vscode": {
     "languageId": "polyglot-notebook"
    }
   },
   "outputs": [],
   "source": [
    "var promptTemplate = \"\"\"\n",
    "    When is the next total {{$input}} eclipse?\n",
    "\n",
    "    ### real-time search result context\n",
    "    {{$currentContext}} \n",
    "\n",
    "    Respond only with JSON.\n",
    "    \"\"\";\n",
    "\n",
    "var executionSettings = new OpenAIPromptExecutionSettings \n",
    "{\n",
    "     MaxTokens = 500,\n",
    "     Temperature = 0.1 \n",
    "};\n",
    "var kernelArguments = new KernelArguments(executionSettings)\n",
    "{\n",
    "    [\"input\"] = \"solar\",\n",
    "    [\"currentContext\"] = currentContext\n",
    "};\n",
    "\n",
    "var semanticFunction = kernel.CreateFunctionFromPrompt(promptTemplate);\n",
    "var response = await kernel.InvokeAsync(semanticFunction, kernelArguments);\n",
    "\n",
    "display(response.GetValue<string>())"
   ]
  },
  {
   "cell_type": "markdown",
   "metadata": {},
   "source": [
    "### 👀 See rendered prompt"
   ]
  },
  {
   "cell_type": "code",
   "execution_count": null,
   "metadata": {
    "dotnet_interactive": {
     "language": "csharp"
    },
    "polyglot_notebook": {
     "kernelName": "csharp"
    },
    "vscode": {
     "languageId": "polyglot-notebook"
    }
   },
   "outputs": [],
   "source": [
    "var promptTemplateFactory = new KernelPromptTemplateFactory();\n",
    "var promptTemplateRenderer = promptTemplateFactory.Create(new PromptTemplateConfig(promptTemplate));\n",
    "var renderedPrompt = await promptTemplateRenderer.RenderAsync(kernel, kernelArguments);\n",
    "\n",
    "display(renderedPrompt)"
   ]
  },
  {
   "cell_type": "code",
   "execution_count": null,
   "metadata": {
    "dotnet_interactive": {
     "language": "csharp"
    },
    "polyglot_notebook": {
     "kernelName": "csharp"
    },
    "vscode": {
     "languageId": "polyglot-notebook"
    }
   },
   "outputs": [],
   "source": []
  }
 ],
 "metadata": {
  "kernelspec": {
   "display_name": ".NET (C#)",
   "language": "C#",
   "name": ".net-csharp"
  },
  "language_info": {
   "file_extension": ".cs",
   "mimetype": "text/x-csharp",
   "name": "C#",
   "pygments_lexer": "csharp",
   "version": "11.0"
  },
  "polyglot_notebook": {
   "kernelInfo": {
    "defaultKernelName": "csharp",
    "items": [
     {
      "aliases": [],
      "name": "csharp"
     }
    ]
   }
  }
 },
 "nbformat": 4,
 "nbformat_minor": 2
}
