{
 "cells": [
  {
   "attachments": {},
   "cell_type": "markdown",
   "metadata": {},
   "source": [
    "# Installing Semantic Kernel"
   ]
  },
  {
   "cell_type": "code",
   "execution_count": 2,
   "metadata": {
    "dotnet_interactive": {
     "language": "csharp"
    },
    "polyglot_notebook": {
     "kernelName": "csharp"
    },
    "vscode": {
     "languageId": "polyglot-notebook"
    }
   },
   "outputs": [
    {
     "data": {
      "text/html": [
       "<div><div></div><div></div><div><strong>Installed Packages</strong><ul><li><span>Microsoft.SemanticKernel, 1.7.1</span></li><li><span>Microsoft.SemanticKernel.Plugins.Core, 1.7.1-alpha</span></li><li><span>Microsoft.SemanticKernel.Plugins.Web, 1.7.1-alpha</span></li></ul></div></div>"
      ]
     },
     "metadata": {},
     "output_type": "display_data"
    }
   ],
   "source": [
    "#r \"nuget: Microsoft.SemanticKernel, 1.7.1\"\n",
    "#r \"nuget: Microsoft.SemanticKernel.Plugins.Core, 1.7.1-alpha\"\n",
    "#r \"nuget: Microsoft.SemanticKernel.Plugins.Web, 1.7.1-alpha\"\n",
    "\n",
    "#!import Settings.cs\n",
    "\n",
    "using Microsoft.SemanticKernel;\n",
    "using Microsoft.SemanticKernel.Connectors.OpenAI;\n",
    "using Microsoft.SemanticKernel.Plugins.Web;\n",
    "using Microsoft.SemanticKernel.Plugins.Web.Bing;\n",
    "\n",
    "var kernel = Settings.InitializeKernel();"
   ]
  },
  {
   "cell_type": "code",
   "execution_count": 3,
   "metadata": {
    "dotnet_interactive": {
     "language": "csharp"
    },
    "polyglot_notebook": {
     "kernelName": "csharp"
    },
    "vscode": {
     "languageId": "polyglot-notebook"
    }
   },
   "outputs": [],
   "source": [
    "#pragma warning disable SKEXP0050\n",
    "var bingConnector = new BingConnector(\"d1dfed6c3bd24b5596becde4bec6d35c\");\n",
    "var bing = new WebSearchEnginePlugin(bingConnector);\n",
    "#pragma warning restore SKEXP0050\n",
    "\n",
    "kernel.ImportPluginFromObject(bing, \"bing\");"
   ]
  },
  {
   "cell_type": "code",
   "execution_count": 5,
   "metadata": {
    "dotnet_interactive": {
     "language": "csharp"
    },
    "polyglot_notebook": {
     "kernelName": "csharp"
    },
    "vscode": {
     "languageId": "polyglot-notebook"
    }
   },
   "outputs": [
    {
     "data": {
      "text/plain": [
       "[\"Astronomy Index. List of Total Solar Eclipses Worldwide Next 10 Years. Check where the eclipses are visible and if you can see them.\",\"It’s never too soon to start thinking about the next solar eclipse. On April 8, the moon’s shadow will sweep across North America, bringing a total solar eclipse over the homes of more than 30...\",\"NASA's Scientific Visualization Studio. The Monday, April 8, 2024, total solar eclipse will cross North America, passing over Mexico, the United States, and Canada. The total solar eclipse will begin over the South Pacific Ocean.\",\"The next U.S. taste of totality comes in 2033 when an eclipse brushes Alaska and Russia. And in 2044, one will cross Greenland and western Canada, touching swaths of North Dakota and Montana. An ...\",\"The next total solar eclipse with a coast-to-coast path spanning the Lower 48 states will occur on August 12, 2045. The path of totality will arc over California, Nevada, Utah, Colorado, Kansas ...\",\"The Eclipse is over but you can still watch our broadcast of the total solar eclipse as it moved across North America on April 8, 2024, traveling through Mexico, across the United States from Texas to Maine, and out across Canada’s Atlantic coast. Learn More. Safety. What to Expect. Where & When. Eclipse Citizen Science. Safety.\",\"On April 8, 2024, a total solar eclipse will cross North and Central America creating a path of totality. During a total solar eclipse, the Moon completely blocks the Sun while it passes between the Sun and Earth.\",\"April 8, 2024. Leer en español. Follow our live updates on the total solar eclipse. On April 8, North America will experience its second total solar eclipse in seven years. The moon will...\",\"On April 8, 2024, a total solar eclipse will be visible in the continental United States. Glimpse the full glory of the Sun’s outer atmosphere, or corona, visible only when the Sun’s disc is completely covered by the moon. Credit: Romeo Durscher/NASA. Be on the path of totality.\"]"
      ]
     },
     "metadata": {},
     "output_type": "display_data"
    }
   ],
   "source": [
    "var promptTemplate = \"When is the next total {{$input}} eclipse?\";\n",
    "var function = kernel.Plugins[\"bing\"][\"search\"];\n",
    "var bingResult = await kernel.InvokeAsync(function, new() { [\"query\"] = promptTemplate });\n",
    "\n",
    "var currentContext = bingResult.GetValue<string>();\n",
    "display(currentContext)"
   ]
  },
  {
   "cell_type": "code",
   "execution_count": 16,
   "metadata": {
    "dotnet_interactive": {
     "language": "csharp"
    },
    "polyglot_notebook": {
     "kernelName": "csharp"
    },
    "vscode": {
     "languageId": "polyglot-notebook"
    }
   },
   "outputs": [
    {
     "data": {
      "text/plain": [
       "{\"next_total_solar_eclipse\": \"April 8, 2024\"}"
      ]
     },
     "metadata": {},
     "output_type": "display_data"
    }
   ],
   "source": [
    "var promptTemplate = \"\"\"\n",
    "    When is the next total {{$input}} eclipse?\n",
    "\n",
    "    ### real-time search result context\n",
    "    {{$currentContext}} \n",
    "\n",
    "    Respond only with JSON.\n",
    "    \"\"\";\n",
    "\n",
    "var executionSettings = new OpenAIPromptExecutionSettings \n",
    "{\n",
    "     MaxTokens = 500,\n",
    "     Temperature = 0.1 \n",
    "};\n",
    "var kernelArguments = new KernelArguments(executionSettings)\n",
    "{\n",
    "    [\"input\"] = \"solar\",\n",
    "    [\"currentContext\"] = currentContext\n",
    "};\n",
    "\n",
    "var semanticFunction = kernel.CreateFunctionFromPrompt(promptTemplate);\n",
    "var response = await kernel.InvokeAsync(semanticFunction, kernelArguments);\n",
    "\n",
    "display(response.GetValue<string>())"
   ]
  },
  {
   "cell_type": "code",
   "execution_count": 17,
   "metadata": {
    "dotnet_interactive": {
     "language": "csharp"
    },
    "polyglot_notebook": {
     "kernelName": "csharp"
    },
    "vscode": {
     "languageId": "polyglot-notebook"
    }
   },
   "outputs": [
    {
     "data": {
      "text/plain": [
       "When is the next total solar eclipse?\r\n",
       "\r\n",
       "### real-time search result context\r\n",
       "[\"Astronomy Index. List of Total Solar Eclipses Worldwide Next 10 Years. Check where the eclipses are visible and if you can see them.\",\"It’s never too soon to start thinking about the next solar eclipse. On April 8, the moon’s shadow will sweep across North America, bringing a total solar eclipse over the homes of more than 30...\",\"NASA's Scientific Visualization Studio. The Monday, April 8, 2024, total solar eclipse will cross North America, passing over Mexico, the United States, and Canada. The total solar eclipse will begin over the South Pacific Ocean.\",\"The next U.S. taste of totality comes in 2033 when an eclipse brushes Alaska and Russia. And in 2044, one will cross Greenland and western Canada, touching swaths of North Dakota and Montana. An ...\",\"The next total solar eclipse with a coast-to-coast path spanning the Lower 48 states will occur on August 12, 2045. The path of totality will arc over California, Nevada, Utah, Colorado, Kansas ...\",\"The Eclipse is over but you can still watch our broadcast of the total solar eclipse as it moved across North America on April 8, 2024, traveling through Mexico, across the United States from Texas to Maine, and out across Canada’s Atlantic coast. Learn More. Safety. What to Expect. Where & When. Eclipse Citizen Science. Safety.\",\"On April 8, 2024, a total solar eclipse will cross North and Central America creating a path of totality. During a total solar eclipse, the Moon completely blocks the Sun while it passes between the Sun and Earth.\",\"April 8, 2024. Leer en español. Follow our live updates on the total solar eclipse. On April 8, North America will experience its second total solar eclipse in seven years. The moon will...\",\"On April 8, 2024, a total solar eclipse will be visible in the continental United States. Glimpse the full glory of the Sun’s outer atmosphere, or corona, visible only when the Sun’s disc is completely covered by the moon. Credit: Romeo Durscher/NASA. Be on the path of totality.\"] \r\n",
       "\r\n",
       "Respond only with JSON."
      ]
     },
     "metadata": {},
     "output_type": "display_data"
    }
   ],
   "source": [
    "var promptTemplateFactory = new KernelPromptTemplateFactory();\n",
    "var promptTemplateRenderer = promptTemplateFactory.Create(new PromptTemplateConfig(promptTemplate));\n",
    "var renderedPrompt = await promptTemplateRenderer.RenderAsync(kernel, kernelArguments);\n",
    "\n",
    "display(renderedPrompt)"
   ]
  },
  {
   "cell_type": "code",
   "execution_count": null,
   "metadata": {
    "dotnet_interactive": {
     "language": "csharp"
    },
    "polyglot_notebook": {
     "kernelName": "csharp"
    },
    "vscode": {
     "languageId": "polyglot-notebook"
    }
   },
   "outputs": [],
   "source": []
  }
 ],
 "metadata": {
  "kernelspec": {
   "display_name": ".NET (C#)",
   "language": "C#",
   "name": ".net-csharp"
  },
  "language_info": {
   "file_extension": ".cs",
   "mimetype": "text/x-csharp",
   "name": "C#",
   "pygments_lexer": "csharp",
   "version": "11.0"
  },
  "polyglot_notebook": {
   "kernelInfo": {
    "defaultKernelName": "csharp",
    "items": [
     {
      "aliases": [],
      "name": "csharp"
     }
    ]
   }
  }
 },
 "nbformat": 4,
 "nbformat_minor": 2
}
