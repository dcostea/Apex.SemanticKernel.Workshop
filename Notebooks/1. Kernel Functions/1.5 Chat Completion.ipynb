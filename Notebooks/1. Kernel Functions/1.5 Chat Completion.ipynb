{
 "cells": [
  {
   "cell_type": "markdown",
   "metadata": {},
   "source": [
    "### Initialize the kernel"
   ]
  },
  {
   "cell_type": "code",
   "execution_count": 1,
   "metadata": {
    "dotnet_interactive": {
     "language": "csharp"
    },
    "polyglot_notebook": {
     "kernelName": "csharp"
    },
    "vscode": {
     "languageId": "polyglot-notebook"
    }
   },
   "outputs": [
    {
     "data": {
      "text/html": [
       "<div><div></div><div></div><div><strong>Installed Packages</strong><ul><li><span>Microsoft.SemanticKernel, 1.18.0-rc</span></li><li><span>Microsoft.SemanticKernel.Plugins.Core, 1.18.0-alpha</span></li></ul></div></div>"
      ]
     },
     "metadata": {},
     "output_type": "display_data"
    }
   ],
   "source": [
    "#r \"nuget: Microsoft.SemanticKernel, 1.18.0-rc\"\n",
    "#r \"nuget: Microsoft.SemanticKernel.Plugins.Core, 1.18.0-alpha\"\n",
    "\n",
    "using Microsoft.SemanticKernel;\n",
    "using Microsoft.SemanticKernel.ChatCompletion;\n",
    "using Microsoft.SemanticKernel.Connectors.OpenAI;\n",
    "\n",
    "#!import ../../Secrets.cs\n",
    "\n",
    "using Microsoft.SemanticKernel;\n",
    "\n",
    "var kernel = Kernel.CreateBuilder()\n",
    "    .AddAzureOpenAIChatCompletion(\n",
    "        deploymentName: Secrets.DeploymentName,\n",
    "        endpoint: Secrets.Endpoint,\n",
    "        apiKey: Secrets.ApyKey)\n",
    "    // .AddOpenAIChatCompletion(\n",
    "    //     modelId: Secrets.OpenAIModel,\n",
    "    //     apiKey: Secrets.OpenAIApiKey)\n",
    "    .Build();"
   ]
  },
  {
   "cell_type": "markdown",
   "metadata": {},
   "source": [
    "### Initialize Chat Completion service"
   ]
  },
  {
   "cell_type": "code",
   "execution_count": 2,
   "metadata": {
    "dotnet_interactive": {
     "language": "csharp"
    },
    "polyglot_notebook": {
     "kernelName": "csharp"
    },
    "vscode": {
     "languageId": "polyglot-notebook"
    }
   },
   "outputs": [],
   "source": [
    "var chatGPT = kernel.GetRequiredService<IChatCompletionService>();\n"
   ]
  },
  {
   "cell_type": "markdown",
   "metadata": {},
   "source": [
    "### Initialize chat history"
   ]
  },
  {
   "cell_type": "code",
   "execution_count": 3,
   "metadata": {
    "dotnet_interactive": {
     "language": "csharp"
    },
    "polyglot_notebook": {
     "kernelName": "csharp"
    },
    "vscode": {
     "languageId": "polyglot-notebook"
    }
   },
   "outputs": [],
   "source": [
    "using Microsoft.SemanticKernel.ChatCompletion;\n",
    "\n",
    "var systemMessage = \"You are a librarian, expert about books\";\n",
    "var chatHistory = new ChatHistory(systemMessage);\n",
    "\n",
    "// or in a more compact form\n",
    "//var chatHistory = new ChatHistory(\"You are a librarian, expert about books\");\n"
   ]
  },
  {
   "cell_type": "markdown",
   "metadata": {},
   "source": [
    "### Let's rebuild a chat history by adding some user and assistants messages to it.\n",
    "### Please notice that we have two types of messages below: user and assistant messsages."
   ]
  },
  {
   "cell_type": "code",
   "execution_count": 4,
   "metadata": {
    "dotnet_interactive": {
     "language": "csharp"
    },
    "polyglot_notebook": {
     "kernelName": "csharp"
    },
    "vscode": {
     "languageId": "polyglot-notebook"
    }
   },
   "outputs": [],
   "source": [
    "chatHistory.AddUserMessage(\"Hi, I'm looking for book suggestions\");"
   ]
  },
  {
   "cell_type": "markdown",
   "metadata": {},
   "source": [
    "### 🤖 And now adding an assistant message (in fact, a response from model)"
   ]
  },
  {
   "cell_type": "code",
   "execution_count": 5,
   "metadata": {
    "dotnet_interactive": {
     "language": "csharp"
    },
    "polyglot_notebook": {
     "kernelName": "csharp"
    },
    "vscode": {
     "languageId": "polyglot-notebook"
    }
   },
   "outputs": [],
   "source": [
    "\n",
    "chatHistory.AddAssistantMessage(\"Great, I'd be happy to help with book suggestions. To better assist you, could you let me know what genres or types of books you're interested in? Some further details such as your favorite books or authors, themes you enjoy, or what mood you're in for reading could help me provide more tailored recommendations.\");"
   ]
  },
  {
   "cell_type": "markdown",
   "metadata": {},
   "source": [
    "### 👩‍💻 Add one more user message"
   ]
  },
  {
   "cell_type": "code",
   "execution_count": 6,
   "metadata": {
    "dotnet_interactive": {
     "language": "csharp"
    },
    "polyglot_notebook": {
     "kernelName": "csharp"
    },
    "vscode": {
     "languageId": "polyglot-notebook"
    }
   },
   "outputs": [],
   "source": [
    "\n",
    "chatHistory.AddUserMessage(\"I love history and philosophy, I'd like to learn something new about Greece, any suggestion?\");"
   ]
  },
  {
   "cell_type": "markdown",
   "metadata": {},
   "source": [
    "### Let's inspect the chat history so far"
   ]
  },
  {
   "cell_type": "code",
   "execution_count": 7,
   "metadata": {
    "dotnet_interactive": {
     "language": "csharp"
    },
    "polyglot_notebook": {
     "kernelName": "csharp"
    },
    "vscode": {
     "languageId": "polyglot-notebook"
    }
   },
   "outputs": [
    {
     "name": "stdout",
     "output_type": "stream",
     "text": [
      "system > You are a librarian, expert about books\n",
      "user > Hi, I'm looking for book suggestions\n",
      "assistant > Great, I'd be happy to help with book suggestions. To better assist you, could you let me know what genres or types of books you're interested in? Some further details such as your favorite books or authors, themes you enjoy, or what mood you're in for reading could help me provide more tailored recommendations.\n",
      "user > I love history and philosophy, I'd like to learn something new about Greece, any suggestion?\n"
     ]
    }
   ],
   "source": [
    "foreach (var message in chatHistory)\n",
    "{\n",
    "    Console.WriteLine($\"{message.Role} > {message.Content}\");\n",
    "}"
   ]
  },
  {
   "cell_type": "markdown",
   "metadata": {},
   "source": [
    "### 🤖🏃‍♂️Now we ask the model for a response (we can notice the reply from the assistant message)"
   ]
  },
  {
   "cell_type": "code",
   "execution_count": 8,
   "metadata": {
    "dotnet_interactive": {
     "language": "csharp"
    },
    "polyglot_notebook": {
     "kernelName": "csharp"
    },
    "vscode": {
     "languageId": "polyglot-notebook"
    }
   },
   "outputs": [
    {
     "data": {
      "text/plain": [
       "Assistant > Wonderful! Greece has a rich history and a profound philosophical heritage. Here are a few book suggestions that cover different aspects of Greek history and philosophy:\n",
       "\n",
       "### History:\n",
       "1. **\"The Histories\" by Herodotus**\n",
       "   - Known as \"The Father of History,\" Herodotus offers an engaging narrative on the Greco-Persian Wars and various cultures of the ancient world.\n",
       "\n",
       "2. **\"The Peloponnesian War\" by Thucydides**\n",
       "   - A detailed account of the war between Athens and Sparta, offering deep insights into the political and social dynamics of ancient Greece.\n",
       "\n",
       "3. **\"Alexander the Great\" by Philip Freeman**\n",
       "   - A biography that provides a comprehensive look at the life and legacy of one of history’s most legendary military leaders.\n",
       "\n",
       "4. **\"The Birth of Classical Europe: A History from Troy to Augustine\" by Simon Price and Peter Thonemann**\n",
       "   - This book covers Greek history extensively, from the Mycenaean period to the rise of Rome.\n",
       "\n",
       "### Philosophy:\n",
       "1. **\"The Republic\" by Plato**\n",
       "   - One of Plato's best-known works, it explores justice, the just city-state, and the education of the ruling class.\n",
       "\n",
       "2. **\"Nicomachean Ethics\" by Aristotle**\n",
       "   - A collection of Aristotle's lectures that delve into the nature of moral virtue and the path to a good life.\n",
       "\n",
       "3. **\"Lives of the Eminent Philosophers\" by Diogenes Laertius**\n",
       "   - A biographical account that provides details on the lives and thoughts of ancient Greek philosophers.\n",
       "\n",
       "4. **\"Greek Philosophy: Thales to Aristotle\" by Reginald E. Allen**\n",
       "   - This anthology includes important works from major pre-Socratic philosophers, Socrates, Plato, and Aristotle.\n",
       "\n",
       "Would you like more information on any of these books or additional recommendations?"
      ]
     },
     "metadata": {},
     "output_type": "display_data"
    }
   ],
   "source": [
    "var reply = await chatGPT.GetChatMessageContentAsync(chatHistory);\n",
    "chatHistory.Add(reply);\n",
    "\n",
    "$\"{chatHistory[^1].Role} > {chatHistory[^1].Content}\""
   ]
  },
  {
   "cell_type": "markdown",
   "metadata": {},
   "source": [
    "### 🚰 🤖🏃‍♂️ We can ask the model for a response in streaming flavour"
   ]
  },
  {
   "cell_type": "code",
   "execution_count": 9,
   "metadata": {
    "dotnet_interactive": {
     "language": "csharp"
    },
    "polyglot_notebook": {
     "kernelName": "csharp"
    },
    "vscode": {
     "languageId": "polyglot-notebook"
    }
   },
   "outputs": [
    {
     "name": "stdout",
     "output_type": "stream",
     "text": [
      "assistant > Great! Greece has a rich history and profound philosophical heritage. Here are a few book suggestions that cover different aspects of Greek history and philosophy:\n",
      "\n",
      "### History of Greece:\n",
      "\n",
      "1. **\"The Histories\" by Herodotus**\n",
      "   - Often referred to as \"The Father of History,\" Herodotus offers an engaging account of the Greco-Persian Wars and the various cultures he encountered.\n",
      "\n",
      "2. **\"The Peloponnesian War\" by Thucydides**\n",
      "   - A detailed and critical narrative of the war between Athens and Sparta, considered one of the greatest works of history.\n",
      "\n",
      "3. **\"The Rise and Fall of Classical Greece\" by Josiah Ober**\n",
      "   - Explores the political, cultural, and economic aspects that led to the rise and later decline of Classical Greece.\n",
      "\n",
      "4. **\"Alexander the Great\" by Philip Freeman**\n",
      "   - Offers an accessible yet comprehensive biography of one of history's most fascinating military leaders.\n",
      "\n",
      "### Greek Philosophy:\n",
      "\n",
      "1. **\"The Republic\" by Plato**\n",
      "   - A foundational text in Western philosophy, discussing justice, the ideal state, and the philosopher-king.\n",
      "\n",
      "2. **\"Nicomachean Ethics\" by Aristotle**\n",
      "   - Explores the concept of virtue and the path to a good life, laying the groundwork for Western ethical thought.\n",
      "\n",
      "3. **\"Lives of the Eminent Philosophers\" by Diogenes Laertius**\n",
      "   - Provides biographies and anecdotes of key ancient philosophers, giving insight into their lives and teachings.\n",
      "\n",
      "4. **\"The Presocratic Philosophers\" by G.S. Kirk, J.E. Raven, and M. Schofield**\n",
      "   - A scholarly and comprehensive examination of the early Greek philosophers who preceded Socrates.\n",
      "\n",
      "Would you like more details on any of these books or need additional recommendations?"
     ]
    }
   ],
   "source": [
    "Console.Write(\"assistant > \");\n",
    "await foreach (var content in chatGPT.GetStreamingChatMessageContentsAsync(chatHistory))\n",
    "{\n",
    "    Console.Write(content);\n",
    "}"
   ]
  },
  {
   "cell_type": "code",
   "execution_count": 10,
   "metadata": {
    "dotnet_interactive": {
     "language": "csharp"
    },
    "polyglot_notebook": {
     "kernelName": "csharp"
    },
    "vscode": {
     "languageId": "polyglot-notebook"
    }
   },
   "outputs": [],
   "source": []
  }
 ],
 "metadata": {
  "kernelspec": {
   "display_name": ".NET (C#)",
   "language": "C#",
   "name": ".net-csharp"
  },
  "language_info": {
   "file_extension": ".cs",
   "mimetype": "text/x-csharp",
   "name": "C#",
   "pygments_lexer": "csharp",
   "version": "11.0"
  },
  "polyglot_notebook": {
   "kernelInfo": {
    "defaultKernelName": "csharp",
    "items": [
     {
      "aliases": [],
      "name": "csharp"
     }
    ]
   }
  }
 },
 "nbformat": 4,
 "nbformat_minor": 2
}
