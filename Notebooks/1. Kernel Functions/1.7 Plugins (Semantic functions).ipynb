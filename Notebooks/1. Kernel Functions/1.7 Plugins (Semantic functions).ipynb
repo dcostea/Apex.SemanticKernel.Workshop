{
 "cells": [
  {
   "attachments": {},
   "cell_type": "markdown",
   "metadata": {},
   "source": [
    "# 🔌 Plugins (with semantic functions)"
   ]
  },
  {
   "cell_type": "markdown",
   "metadata": {},
   "source": [
    "### Initialize the kernel"
   ]
  },
  {
   "cell_type": "code",
   "execution_count": null,
   "metadata": {
    "dotnet_interactive": {
     "language": "csharp"
    },
    "polyglot_notebook": {
     "kernelName": "csharp"
    }
   },
   "outputs": [],
   "source": [
    "#r \"nuget: Microsoft.SemanticKernel, 1.18.0-rc\"\n",
    "#r \"nuget: Microsoft.SemanticKernel.Plugins.Core, 1.18.0-alpha\"\n",
    "\n",
    "#!import ../../Secrets.cs\n",
    "\n",
    "using Microsoft.SemanticKernel;\n",
    "using Microsoft.SemanticKernel.Connectors.OpenAI;\n",
    "\n",
    "var kernel = Kernel.CreateBuilder()\n",
    "    .AddAzureOpenAIChatCompletion(\n",
    "        deploymentName: Secrets.DeploymentName,\n",
    "        endpoint: Secrets.Endpoint,\n",
    "        apiKey: Secrets.ApyKey)\n",
    "    // .AddOpenAIChatCompletion(\n",
    "    //     modelId: Secrets.OpenAIModel,\n",
    "    //     apiKey: Secrets.OpenAIApiKey)\n",
    "    .Build();"
   ]
  },
  {
   "cell_type": "markdown",
   "metadata": {},
   "source": [
    "### 🦜 Let's build a plugin consisting of semantic functions."
   ]
  },
  {
   "cell_type": "markdown",
   "metadata": {},
   "source": [
    "### Now the kernel contains all plugins ever added, unless we start removing them.\n",
    "Entire plugins or individual functions can be removed from the kernel anytime."
   ]
  },
  {
   "cell_type": "markdown",
   "metadata": {},
   "source": [
    "### 📋 Let's prepare the execution settings and the kernel arguments."
   ]
  },
  {
   "cell_type": "code",
   "execution_count": null,
   "metadata": {
    "dotnet_interactive": {
     "language": "csharp"
    },
    "polyglot_notebook": {
     "kernelName": "csharp"
    }
   },
   "outputs": [],
   "source": [
    "var executionSettings = new OpenAIPromptExecutionSettings \n",
    "{\n",
    "     MaxTokens = 2000,\n",
    "     Temperature = 0.1\n",
    "};\n",
    "\n",
    "var kernelArguments = new KernelArguments(executionSettings)\n",
    "{\n",
    "    [\"input\"] = \"Christmas\",\n",
    "    [\"today\"] = \"15th June 2024\"\n",
    "};"
   ]
  },
  {
   "cell_type": "markdown",
   "metadata": {},
   "source": [
    "### and import the datetime semantic plugin"
   ]
  },
  {
   "cell_type": "code",
   "execution_count": null,
   "metadata": {
    "dotnet_interactive": {
     "language": "csharp"
    },
    "polyglot_notebook": {
     "kernelName": "csharp"
    }
   },
   "outputs": [],
   "source": [
    "using System.IO;\n",
    "\n",
    "kernel.ImportPluginFromPromptDirectory(\n",
    "    Path.Combine(Directory.GetCurrentDirectory(), \"../../Plugins\", \"DateTimeSemanticPlugin\"), \n",
    "    \"date_semantic\");"
   ]
  },
  {
   "cell_type": "markdown",
   "metadata": {},
   "source": [
    "### We just imported a new plugin, let's take a look at it."
   ]
  },
  {
   "cell_type": "code",
   "execution_count": null,
   "metadata": {
    "dotnet_interactive": {
     "language": "csharp"
    },
    "polyglot_notebook": {
     "kernelName": "csharp"
    }
   },
   "outputs": [],
   "source": [
    "#!import ../../Helpers/PrintHelper.cs\n",
    "\n",
    "PrintHelper.PrintAllPluginFunctions(kernel);"
   ]
  },
  {
   "cell_type": "markdown",
   "metadata": {},
   "source": [
    "choose DaysTo function from the semantic plugin and invoke it"
   ]
  },
  {
   "cell_type": "code",
   "execution_count": null,
   "metadata": {
    "dotnet_interactive": {
     "language": "csharp"
    },
    "polyglot_notebook": {
     "kernelName": "csharp"
    }
   },
   "outputs": [],
   "source": [
    "var daysToFunction = kernel.Plugins[\"date_semantic\"][\"DaysTo\"];\n",
    "\n",
    "var response = await kernel.InvokeAsync(daysToFunction, kernelArguments);\n",
    "\n",
    "display(response.GetValue<string>())"
   ]
  },
  {
   "cell_type": "markdown",
   "metadata": {},
   "source": [
    "### In this example, the plugin we've added `DateTimePlugin` is used in the templated prompt. The native function GetCurrentDate is invoked to enrich the prompt context with current date."
   ]
  },
  {
   "cell_type": "code",
   "execution_count": null,
   "metadata": {
    "dotnet_interactive": {
     "language": "csharp"
    },
    "polyglot_notebook": {
     "kernelName": "csharp"
    }
   },
   "outputs": [],
   "source": [
    "using System.ComponentModel;\n",
    "public class DateTimePlugin\n",
    "{\n",
    "    [KernelFunction]\n",
    "    [Description(\"Retrieves the current date\")]\n",
    "    public string GetCurrentDate() => DateTime.Now.ToShortDateString();\n",
    "}"
   ]
  },
  {
   "cell_type": "markdown",
   "metadata": {},
   "source": [
    "### Import the DateTimePlugin (consisting of native functions)"
   ]
  },
  {
   "cell_type": "code",
   "execution_count": null,
   "metadata": {
    "dotnet_interactive": {
     "language": "csharp"
    },
    "polyglot_notebook": {
     "kernelName": "csharp"
    }
   },
   "outputs": [],
   "source": [
    "kernel.ImportPluginFromType<DateTimePlugin>(\"date_native\");"
   ]
  },
  {
   "cell_type": "markdown",
   "metadata": {},
   "source": [
    "### We have importend another plugin, let's take another look at kernel plugins."
   ]
  },
  {
   "cell_type": "code",
   "execution_count": null,
   "metadata": {
    "dotnet_interactive": {
     "language": "csharp"
    },
    "polyglot_notebook": {
     "kernelName": "csharp"
    }
   },
   "outputs": [],
   "source": [
    "PrintHelper.PrintAllPluginFunctions(kernel);"
   ]
  },
  {
   "cell_type": "markdown",
   "metadata": {},
   "source": [
    "### Create a new semantic function which is calling the native function in its prompt, then invoke the semantic function"
   ]
  },
  {
   "cell_type": "code",
   "execution_count": null,
   "metadata": {
    "dotnet_interactive": {
     "language": "csharp"
    },
    "polyglot_notebook": {
     "kernelName": "csharp"
    }
   },
   "outputs": [],
   "source": [
    "\n",
    "// date_native.GetCurrentDate is resolved before invoking the GPT\n",
    "// is crucial that GetCurrentDate function to exist in kernel already\n",
    "var promptTemplate = \"Considering that today date is {{date_native.GetCurrentDate}}, how many days until {{$input}}?\";\n",
    "\n",
    "var semanticFunction = kernel.CreateFunctionFromPrompt(promptTemplate);\n",
    "\n",
    "var response = await kernel.InvokeAsync(semanticFunction, kernelArguments);\n",
    "\n",
    "display(response.GetValue<string>())"
   ]
  },
  {
   "cell_type": "markdown",
   "metadata": {},
   "source": [
    "### 👀 Let's check the rendered prompt."
   ]
  },
  {
   "cell_type": "code",
   "execution_count": null,
   "metadata": {
    "dotnet_interactive": {
     "language": "csharp"
    },
    "polyglot_notebook": {
     "kernelName": "csharp"
    }
   },
   "outputs": [],
   "source": [
    "#pragma warning disable SKEXP0001\n",
    "display(response.RenderedPrompt);"
   ]
  },
  {
   "cell_type": "markdown",
   "metadata": {},
   "source": [
    "### 🚰 For a better user experience we can may want to use with streaming 🚰."
   ]
  },
  {
   "cell_type": "code",
   "execution_count": null,
   "metadata": {
    "dotnet_interactive": {
     "language": "csharp"
    },
    "polyglot_notebook": {
     "kernelName": "csharp"
    }
   },
   "outputs": [],
   "source": [
    "await foreach (var token in kernel.InvokePromptStreamingAsync(promptTemplate, kernelArguments))\n",
    "{\n",
    "    Console.Write(token);\n",
    "}"
   ]
  },
  {
   "cell_type": "markdown",
   "metadata": {},
   "source": [
    "### There are many ways to build plugins in SK"
   ]
  },
  {
   "cell_type": "markdown",
   "metadata": {},
   "source": [
    "### You can build them and then add them to the kernel"
   ]
  },
  {
   "cell_type": "code",
   "execution_count": null,
   "metadata": {
    "dotnet_interactive": {
     "language": "csharp"
    },
    "polyglot_notebook": {
     "kernelName": "csharp"
    }
   },
   "outputs": [],
   "source": [
    "// create plugins\n",
    "// kernel.CreatePluginFromFunctions()\n",
    "\n",
    "// kernel.CreatePluginFromObject()\n",
    "\n",
    "// kernel.CreatePluginFromPromptDirectory()\n",
    "\n",
    "// kernel.CreatePluginFromType<>()\n",
    "\n",
    "// add plugins to kernel\n",
    "// kernel.Plugins.Add(plugin);"
   ]
  },
  {
   "cell_type": "markdown",
   "metadata": {},
   "source": [
    "### Or you can add them directly (import)..."
   ]
  },
  {
   "cell_type": "code",
   "execution_count": null,
   "metadata": {
    "dotnet_interactive": {
     "language": "csharp"
    },
    "polyglot_notebook": {
     "kernelName": "csharp"
    }
   },
   "outputs": [],
   "source": [
    "// kernel.ImportPluginFromPromptDirectory();           // semantic\n",
    "\n",
    "// kernel.ImportPluginFromFunctions()                  // native\n",
    "\n",
    "// kernel.ImportPluginFromObject()                     // native\n",
    "\n",
    "// kernel.ImportPluginFromType<>()                     // native or semantic from native\n",
    "\n",
    "// kernel.ImportPluginFromOpenAIAsync()                // semantic from OpenAI plugin"
   ]
  }
 ],
 "metadata": {
  "kernelspec": {
   "display_name": ".NET (C#)",
   "language": "C#",
   "name": ".net-csharp"
  },
  "language_info": {
   "name": "polyglot-notebook"
  },
  "polyglot_notebook": {
   "kernelInfo": {
    "defaultKernelName": "csharp",
    "items": [
     {
      "aliases": [],
      "name": "csharp"
     }
    ]
   }
  }
 },
 "nbformat": 4,
 "nbformat_minor": 2
}
