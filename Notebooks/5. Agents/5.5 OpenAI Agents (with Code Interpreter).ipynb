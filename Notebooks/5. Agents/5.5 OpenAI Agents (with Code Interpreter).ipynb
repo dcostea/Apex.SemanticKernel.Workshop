{
 "cells": [
  {
   "cell_type": "markdown",
   "metadata": {},
   "source": [
    "# 👨‍💼👨‍🚀👨‍💻 Agent with Code Interpreter\n",
    "\n",
    "This notebook is restricted to OpenAI API only"
   ]
  },
  {
   "cell_type": "markdown",
   "metadata": {},
   "source": [
    "### Initialize the kernel"
   ]
  },
  {
   "cell_type": "code",
   "execution_count": null,
   "metadata": {
    "dotnet_interactive": {
     "language": "csharp"
    },
    "polyglot_notebook": {
     "kernelName": "csharp"
    },
    "vscode": {
     "languageId": "polyglot-notebook"
    }
   },
   "outputs": [],
   "source": [
    "#r \"nuget: Microsoft.SemanticKernel, 1.15.0\"\n",
    "#r \"nuget: Microsoft.SemanticKernel.Plugins.Core, 1.15.0-alpha\"\n",
    "#r \"nuget: Microsoft.SemanticKernel.Plugins.Web, 1.15.0-alpha\"\n",
    "#r \"nuget: Microsoft.SemanticKernel.Agents.Core, 1.15.0-alpha\"\n",
    "#r \"nuget: Microsoft.SemanticKernel.Agents.OpenAI, 1.15.0-alpha\"\n",
    "\n",
    "#!import ../../Secrets.cs\n",
    "\n",
    "using Microsoft.SemanticKernel;\n",
    "using Microsoft.SemanticKernel.Connectors.OpenAI;\n",
    "using Microsoft.SemanticKernel.Agents;\n",
    "using Microsoft.SemanticKernel.Agents.Chat;\n",
    "using Microsoft.SemanticKernel.Agents.OpenAI;\n",
    "using Microsoft.SemanticKernel.ChatCompletion;\n",
    "\n",
    "var kernel = Kernel.CreateBuilder()\n",
    "    // .AddAzureOpenAIChatCompletion(\n",
    "    //     deploymentName: Secrets.DeploymentName,\n",
    "    //     endpoint: Secrets.Endpoint,\n",
    "    //     apiKey: Secrets.ApyKey)\n",
    "    .AddOpenAIChatCompletion(\n",
    "        modelId: Secrets.OpenAIModel,\n",
    "        apiKey: Secrets.OpenAIApiKey)\n",
    "    .Build();"
   ]
  },
  {
   "cell_type": "markdown",
   "metadata": {},
   "source": [
    "### Let's create a chat group for agents and add a goal to the chat."
   ]
  },
  {
   "cell_type": "code",
   "execution_count": null,
   "metadata": {
    "dotnet_interactive": {
     "language": "csharp"
    },
    "polyglot_notebook": {
     "kernelName": "csharp"
    },
    "vscode": {
     "languageId": "polyglot-notebook"
    }
   },
   "outputs": [],
   "source": [
    "#pragma warning disable SKEXP0110\n",
    "\n",
    "AgentGroupChat chat = new();\n",
    "\n",
    "var goal = \"\"\"\n",
    "    Jack Sparrow must solve the next equation: 4*x^2 + 2*x = 0\n",
    "    Do not show how the equation was solved, only the final values.\n",
    "    \"\"\";\n",
    "\n",
    "chat.AddChatMessage(new ChatMessageContent(AuthorRole.User, goal));\n"
   ]
  },
  {
   "cell_type": "markdown",
   "metadata": {},
   "source": [
    "### Create Jack Sparrow agent with file retrieval capabilities (agents are using the out-of-the-box RAG feature of the OpenAI assistants)"
   ]
  },
  {
   "cell_type": "code",
   "execution_count": null,
   "metadata": {
    "dotnet_interactive": {
     "language": "csharp"
    },
    "polyglot_notebook": {
     "kernelName": "csharp"
    },
    "vscode": {
     "languageId": "polyglot-notebook"
    }
   },
   "outputs": [],
   "source": [
    "#pragma warning disable SKEXP0110\n",
    "\n",
    "var agent = await OpenAIAssistantAgent.CreateAsync(\n",
    "    kernel: kernel,\n",
    "    config: new OpenAIAssistantConfiguration(Secrets.OpenAIApiKey!),\n",
    "    definition: new OpenAIAssistantDefinition\n",
    "    {\n",
    "        Instructions = \"\"\"\n",
    "            You are Jack Sparrow talking in Jack Sparrow style.\n",
    "            Evaluate the context and reply providing exactly one meaningful dialog line.\n",
    "            The dialog line must be only one sentence of maximum 50 words.\n",
    "            \"\"\",\n",
    "        Description = \"A chat bot that replies to the message in the voice of Jack Sparrow talking style.\",\n",
    "        Name = \"JackSparrow\",\n",
    "        Id = \"JackSparrow_01\",\n",
    "        EnableCodeInterpreter = true,\n",
    "        ModelId = Secrets.OpenAIModel\n",
    "    });"
   ]
  },
  {
   "cell_type": "markdown",
   "metadata": {},
   "source": [
    "### Now let's set EnableCodeInterpreter = true and rerun the notebook."
   ]
  },
  {
   "cell_type": "markdown",
   "metadata": {},
   "source": [
    "### ⚡ The chat is invoking Jack Sparrow agent"
   ]
  },
  {
   "cell_type": "code",
   "execution_count": null,
   "metadata": {
    "dotnet_interactive": {
     "language": "csharp"
    },
    "polyglot_notebook": {
     "kernelName": "csharp"
    },
    "vscode": {
     "languageId": "polyglot-notebook"
    }
   },
   "outputs": [],
   "source": [
    "#pragma warning disable SKEXP0001\n",
    "#pragma warning disable SKEXP0110\n",
    "\n",
    "Console.WriteLine($\">>>>>>> {AuthorRole.User} > {goal}\");\n",
    "\n",
    "await foreach (var content in chat.InvokeAsync(agent))\n",
    "{\n",
    "    Console.WriteLine($\"\\n>>>>>>> {content.Role} [{content.AuthorName}] > {content.Content}\");\n",
    "}"
   ]
  },
  {
   "cell_type": "markdown",
   "metadata": {},
   "source": [
    "### Notice that the agent is computing the missing information using code interpreter! (in our case is solving a quadratic equation)."
   ]
  },
  {
   "cell_type": "markdown",
   "metadata": {},
   "source": []
  }
 ],
 "metadata": {
  "kernelspec": {
   "display_name": ".NET (C#)",
   "language": "C#",
   "name": ".net-csharp"
  },
  "language_info": {
   "name": "python"
  },
  "polyglot_notebook": {
   "kernelInfo": {
    "defaultKernelName": "csharp",
    "items": [
     {
      "aliases": [],
      "name": "csharp"
     }
    ]
   }
  }
 },
 "nbformat": 4,
 "nbformat_minor": 2
}
