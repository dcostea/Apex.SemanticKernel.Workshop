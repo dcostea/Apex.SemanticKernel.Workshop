{
 "cells": [
  {
   "cell_type": "markdown",
   "metadata": {},
   "source": [
    "# 👨‍💼👨‍🚀👨‍💻 Agents with Plugins"
   ]
  },
  {
   "cell_type": "markdown",
   "metadata": {},
   "source": [
    "### Initialize the kernel"
   ]
  },
  {
   "cell_type": "code",
   "execution_count": null,
   "metadata": {
    "dotnet_interactive": {
     "language": "csharp"
    },
    "polyglot_notebook": {
     "kernelName": "csharp"
    },
    "vscode": {
     "languageId": "polyglot-notebook"
    }
   },
   "outputs": [],
   "source": [
    "#r \"nuget: Microsoft.SemanticKernel, 1.18.0-rc\"\n",
    "#r \"nuget: Microsoft.SemanticKernel.Plugins.Core, 1.18.0-alpha\"\n",
    "#r \"nuget: Microsoft.SemanticKernel.Plugins.Web, 1.18.0-alpha\"\n",
    "#r \"nuget: Microsoft.SemanticKernel.Agents.Core, 1.18.0-alpha\"\n",
    "\n",
    "#!import ../../Secrets.cs\n",
    "\n",
    "using Microsoft.SemanticKernel;\n",
    "using Microsoft.SemanticKernel.Connectors.OpenAI;\n",
    "using Microsoft.SemanticKernel.Agents;\n",
    "using Microsoft.SemanticKernel.Agents.Chat;\n",
    "using Microsoft.SemanticKernel.ChatCompletion;\n",
    "\n",
    "var kernel = Kernel.CreateBuilder()\n",
    "    .AddAzureOpenAIChatCompletion(\n",
    "        deploymentName: Secrets.DeploymentName,\n",
    "        endpoint: Secrets.Endpoint,\n",
    "        apiKey: Secrets.ApyKey)\n",
    "    //.AddOpenAIChatCompletion(\n",
    "    //    modelId: Secrets.OpenAIModel,\n",
    "    //    apiKey: Secrets.OpenAIApiKey)    \n",
    "    .Build();"
   ]
  },
  {
   "cell_type": "markdown",
   "metadata": {},
   "source": [
    "### Let's equip the kernel with the Alerts plugin"
   ]
  },
  {
   "cell_type": "code",
   "execution_count": null,
   "metadata": {
    "dotnet_interactive": {
     "language": "csharp"
    },
    "polyglot_notebook": {
     "kernelName": "csharp"
    },
    "vscode": {
     "languageId": "polyglot-notebook"
    }
   },
   "outputs": [],
   "source": [
    "#!import ../../Plugins/AlertsPlugin.cs\n",
    "\n",
    "kernel.Plugins.AddFromType<AlertsPlugin>();"
   ]
  },
  {
   "cell_type": "markdown",
   "metadata": {},
   "source": [
    "### 🧱 A persona is the behaviour we give to an agent. Our newly created agent gets the behavior of Jack Sparrow pirate."
   ]
  },
  {
   "cell_type": "code",
   "execution_count": null,
   "metadata": {
    "dotnet_interactive": {
     "language": "csharp"
    },
    "polyglot_notebook": {
     "kernelName": "csharp"
    },
    "vscode": {
     "languageId": "polyglot-notebook"
    }
   },
   "outputs": [],
   "source": [
    "#pragma warning disable SKEXP0110\n",
    "\n",
    "ChatCompletionAgent jackSparrowAgent = new() \n",
    "{ \n",
    "    Arguments = new KernelArguments (new OpenAIPromptExecutionSettings { ToolCallBehavior = ToolCallBehavior.AutoInvokeKernelFunctions }),\n",
    "    Kernel = kernel,\n",
    "    Instructions = \"\"\"\n",
    "        You are Jack Sparrow talking in Jack Sparrow style.\n",
    "        Evaluate the context and reply to the last message by providing exactly one meaningful dialog line.\n",
    "        The dialog line must be only one sentence of maximum 10 words.\n",
    "        \"\"\",\n",
    "    Description = \"A chat bot that replies to the message in the voice of Jack Sparrow talking style.\",\n",
    "    Name = \"JackSparrow\",\n",
    "    Id = \"JackSparrow_01\",\n",
    "};"
   ]
  },
  {
   "cell_type": "markdown",
   "metadata": {},
   "source": [
    "### 🧱 Let's make another agent. This one impersonates Yoda."
   ]
  },
  {
   "cell_type": "code",
   "execution_count": null,
   "metadata": {
    "dotnet_interactive": {
     "language": "csharp"
    },
    "polyglot_notebook": {
     "kernelName": "csharp"
    },
    "vscode": {
     "languageId": "polyglot-notebook"
    }
   },
   "outputs": [],
   "source": [
    "#pragma warning disable SKEXP0110\n",
    "\n",
    "ChatCompletionAgent yodaAgent = new()\n",
    "{\n",
    "    Arguments = new KernelArguments (new OpenAIPromptExecutionSettings { ToolCallBehavior = ToolCallBehavior.AutoInvokeKernelFunctions }),\n",
    "    Kernel = kernel,\n",
    "    Instructions = \"\"\"\n",
    "        You are Yoda talking in Yoda style.\n",
    "        Evaluate the context and reply to the last message by providing exactly one meaningful dialog line.\n",
    "        The dialog line must be only one sentence of maximum 10 words.\n",
    "        \"\"\",\n",
    "    Description = \"A chat bot that replies to the message in the voice of Yoda talking style.\",\n",
    "    Name = \"Yoda\",\n",
    "    Id = \"Yoda_01\",\n",
    "};"
   ]
  },
  {
   "cell_type": "markdown",
   "metadata": {},
   "source": [
    "### See that the execution settings tool behaviour is set o autoinvoke kernel plugins!\n",
    "### Both agents are connected to the same kernel, therefore they share the same plugins."
   ]
  },
  {
   "cell_type": "markdown",
   "metadata": {},
   "source": [
    "### Let's create a chat group for agents and add a goal to the chat."
   ]
  },
  {
   "cell_type": "code",
   "execution_count": null,
   "metadata": {
    "dotnet_interactive": {
     "language": "csharp"
    },
    "polyglot_notebook": {
     "kernelName": "csharp"
    },
    "vscode": {
     "languageId": "polyglot-notebook"
    }
   },
   "outputs": [],
   "source": [
    "#pragma warning disable SKEXP0110\n",
    "\n",
    "AgentGroupChat chat = new(jackSparrowAgent, yodaAgent)\n",
    "{\n",
    "    ExecutionSettings = new()\n",
    "    {\n",
    "        TerminationStrategy = new AggregatorTerminationStrategy(\n",
    "            new RegexTerminationStrategy(@\"\\b(rum)\\b\")\n",
    "            {\n",
    "                Agents = [jackSparrowAgent]\n",
    "            },\n",
    "            new RegexTerminationStrategy(@\"\\b(tea)\\b\")\n",
    "            {\n",
    "                Agents = [yodaAgent]\n",
    "            }\n",
    "        )\n",
    "        { \n",
    "            Condition = AggregateTerminationCondition.Any,\n",
    "            MaximumIterations = 10\n",
    "        },\n",
    "        SelectionStrategy = new SequentialSelectionStrategy\n",
    "        {\n",
    "        },\n",
    "    }\n",
    "};\n",
    "\n",
    "var goal = \"\"\"\n",
    "    Jack Sparrow makes a bad joke about Yoda's taste in drinks.\n",
    "    \"\"\";\n",
    "\n",
    "chat.AddChatMessage(new ChatMessageContent(AuthorRole.User, goal));\n"
   ]
  },
  {
   "cell_type": "markdown",
   "metadata": {},
   "source": [
    "### ⚡Let the story (chat) begin!"
   ]
  },
  {
   "cell_type": "code",
   "execution_count": null,
   "metadata": {
    "dotnet_interactive": {
     "language": "csharp"
    },
    "polyglot_notebook": {
     "kernelName": "csharp"
    },
    "vscode": {
     "languageId": "polyglot-notebook"
    }
   },
   "outputs": [],
   "source": [
    "#pragma warning disable SKEXP0001\n",
    "#pragma warning disable SKEXP0110\n",
    "\n",
    "Console.WriteLine($\">>>>>>> {AuthorRole.User} > {goal}.\");\n",
    "\n",
    "await foreach (var content in chat.InvokeAsync())\n",
    "{\n",
    "    Console.WriteLine($\"\\n>>>>>>> {content.Role} [{content.AuthorName}] > {content.Content}\");\n",
    "}\n",
    "\n",
    "Console.WriteLine($\"IS COMPLETE: {chat.IsComplete}\");"
   ]
  },
  {
   "cell_type": "markdown",
   "metadata": {},
   "source": [
    "### Notice that the chat history is invoked for all attached agents. Even the plugins were triggered, as well. "
   ]
  }
 ],
 "metadata": {
  "kernelspec": {
   "display_name": ".NET (C#)",
   "language": "C#",
   "name": ".net-csharp"
  },
  "language_info": {
   "name": "python"
  },
  "polyglot_notebook": {
   "kernelInfo": {
    "defaultKernelName": "csharp",
    "items": [
     {
      "aliases": [],
      "name": "csharp"
     }
    ]
   }
  }
 },
 "nbformat": 4,
 "nbformat_minor": 2
}
