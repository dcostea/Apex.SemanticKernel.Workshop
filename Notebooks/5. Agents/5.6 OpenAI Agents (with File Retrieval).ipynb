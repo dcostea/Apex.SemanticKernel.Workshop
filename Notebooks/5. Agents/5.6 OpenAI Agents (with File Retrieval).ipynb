{
 "cells": [
  {
   "cell_type": "markdown",
   "metadata": {},
   "source": [
    "# 👨‍💼👨‍🚀👨‍💻 RAG with File Retrieval\n",
    "\n",
    "This notebook is restricted to OpenAI API only!"
   ]
  },
  {
   "cell_type": "markdown",
   "metadata": {},
   "source": [
    "### Initialize the kernel"
   ]
  },
  {
   "cell_type": "code",
   "execution_count": null,
   "metadata": {
    "dotnet_interactive": {
     "language": "csharp"
    },
    "polyglot_notebook": {
     "kernelName": "csharp"
    },
    "vscode": {
     "languageId": "polyglot-notebook"
    }
   },
   "outputs": [],
   "source": [
    "#r \"nuget: Microsoft.SemanticKernel, 1.18.0-rc\"\n",
    "#r \"nuget: Microsoft.SemanticKernel.Plugins.Core, 1.18.0-alpha\"\n",
    "#r \"nuget: Microsoft.SemanticKernel.Plugins.Web, 1.18.0-alpha\"\n",
    "#r \"nuget: Microsoft.SemanticKernel.Agents.Core, 1.18.0-alpha\"\n",
    "#r \"nuget: Microsoft.SemanticKernel.Agents.OpenAI, 1.18.0-alpha\"\n",
    "\n",
    "#!import ../../Secrets.cs\n",
    "\n",
    "using Microsoft.SemanticKernel;\n",
    "using Microsoft.SemanticKernel.Connectors.OpenAI;\n",
    "using Microsoft.SemanticKernel.Agents;\n",
    "using Microsoft.SemanticKernel.Agents.Chat;\n",
    "using Microsoft.SemanticKernel.Agents.OpenAI;\n",
    "using Microsoft.SemanticKernel.ChatCompletion;\n",
    "\n",
    "var kernel = Kernel.CreateBuilder()\n",
    "    .AddOpenAIChatCompletion(\n",
    "        modelId: Secrets.OpenAIModel,\n",
    "        apiKey: Secrets.OpenAIApiKey)\n",
    "    .Build();"
   ]
  },
  {
   "cell_type": "markdown",
   "metadata": {},
   "source": [
    "### Let's create a chat group for agents and add a goal to the chat."
   ]
  },
  {
   "cell_type": "code",
   "execution_count": null,
   "metadata": {
    "dotnet_interactive": {
     "language": "csharp"
    },
    "polyglot_notebook": {
     "kernelName": "csharp"
    },
    "vscode": {
     "languageId": "polyglot-notebook"
    }
   },
   "outputs": [],
   "source": [
    "#pragma warning disable SKEXP0110\n",
    "\n",
    "AgentGroupChat chat = new();\n",
    "\n",
    "var goal = \"\"\"\n",
    "    Jack Sparrow makes a bad joke about Don Quijote's new favorite drink and his new horse.\n",
    "    \"\"\";\n",
    "\n",
    "chat.AddChatMessage(new ChatMessageContent(AuthorRole.User, goal));\n"
   ]
  },
  {
   "cell_type": "markdown",
   "metadata": {},
   "source": [
    "### Read _details.txt_ file and upload it to the model"
   ]
  },
  {
   "cell_type": "code",
   "execution_count": null,
   "metadata": {
    "dotnet_interactive": {
     "language": "csharp"
    },
    "polyglot_notebook": {
     "kernelName": "csharp"
    },
    "vscode": {
     "languageId": "polyglot-notebook"
    }
   },
   "outputs": [],
   "source": [
    "#pragma warning disable SKEXP0010\n",
    "#pragma warning disable SKEXP0001\n",
    "\n",
    "var fileService = new OpenAIFileService(Secrets.OpenAIApiKey);\n",
    "var bytes = await System.IO.File.ReadAllBytesAsync(\"../../Resources/Data/details.txt\");\n",
    "var binaryContent = new BinaryContent(bytes, mimeType: \"text/plain\");\n",
    "var executionSettings = new OpenAIFileUploadExecutionSettings(\"../../Resources/Data/details.txt\", OpenAIFilePurpose.Assistants);\n",
    "var uploadFile = await fileService.UploadContentAsync(\n",
    "    binaryContent,\n",
    "    executionSettings\n",
    ");"
   ]
  },
  {
   "cell_type": "markdown",
   "metadata": {},
   "source": [
    "### Create Jack Sparrow agent with file retrieval capabilities (agents are using the out-of-the-box RAG feature of the OpenAI assistants)"
   ]
  },
  {
   "cell_type": "code",
   "execution_count": null,
   "metadata": {
    "dotnet_interactive": {
     "language": "csharp"
    },
    "polyglot_notebook": {
     "kernelName": "csharp"
    },
    "vscode": {
     "languageId": "polyglot-notebook"
    }
   },
   "outputs": [],
   "source": [
    "#pragma warning disable SKEXP0110\n",
    "\n",
    "using System.ClientModel;\n",
    "\n",
    "var agent = await OpenAIAssistantAgent.CreateAsync(\n",
    "    kernel: kernel,\n",
    "    clientProvider: OpenAIClientProvider.ForOpenAI(new ApiKeyCredential(Secrets.OpenAIApiKey!)),\n",
    "    definition: new OpenAIAssistantDefinition(Secrets.OpenAIModel)\n",
    "    {\n",
    "        Instructions = \"\"\"\n",
    "            You are Jack Sparrow talking in Jack Sparrow style.\n",
    "            Evaluate the context and reply providing exactly one meaningful dialog line.\n",
    "            The dialog line must be only one sentence of maximum 50 words.\n",
    "            \"\"\",\n",
    "        Description = \"A chat bot that replies to the message in the voice of Jack Sparrow talking style.\",\n",
    "        Name = \"JackSparrow\",\n",
    "        Id = \"JackSparrow_01\",\n",
    "        EnableFileSearch = true,\n",
    "        CodeInterpreterFileIds = [uploadFile.Id]\n",
    "    });"
   ]
  },
  {
   "cell_type": "markdown",
   "metadata": {},
   "source": [
    "### ⚡ The chat is invoking Jack Sparrow agent"
   ]
  },
  {
   "cell_type": "code",
   "execution_count": null,
   "metadata": {
    "dotnet_interactive": {
     "language": "csharp"
    },
    "polyglot_notebook": {
     "kernelName": "csharp"
    },
    "vscode": {
     "languageId": "polyglot-notebook"
    }
   },
   "outputs": [],
   "source": [
    "#pragma warning disable SKEXP0001\n",
    "#pragma warning disable SKEXP0110\n",
    "\n",
    "Console.WriteLine($\"{AuthorRole.User} > {goal}.\");\n",
    "\n",
    "await foreach (var content in chat.InvokeAsync(agent))\n",
    "{\n",
    "    Console.WriteLine($\"{content.Role} [{content.AuthorName}] > {content.Content}\");\n",
    "}"
   ]
  },
  {
   "cell_type": "markdown",
   "metadata": {},
   "source": [
    "### Notice that the agent is fetching additional context from the external file _details.txt_"
   ]
  },
  {
   "cell_type": "markdown",
   "metadata": {},
   "source": []
  }
 ],
 "metadata": {
  "kernelspec": {
   "display_name": ".NET (C#)",
   "language": "C#",
   "name": ".net-csharp"
  },
  "language_info": {
   "name": "python"
  },
  "polyglot_notebook": {
   "kernelInfo": {
    "defaultKernelName": "csharp",
    "items": [
     {
      "aliases": [],
      "name": "csharp"
     }
    ]
   }
  }
 },
 "nbformat": 4,
 "nbformat_minor": 2
}
