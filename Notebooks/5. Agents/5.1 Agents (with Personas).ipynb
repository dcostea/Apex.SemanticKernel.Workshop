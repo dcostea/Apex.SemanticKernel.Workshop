{
 "cells": [
  {
   "cell_type": "markdown",
   "metadata": {},
   "source": [
    "# 👨‍💼👨‍🚀👨‍💻 Agents with Personas"
   ]
  },
  {
   "cell_type": "markdown",
   "metadata": {},
   "source": [
    "### Initialize the kernel"
   ]
  },
  {
   "cell_type": "code",
   "execution_count": null,
   "metadata": {
    "dotnet_interactive": {
     "language": "csharp"
    },
    "polyglot_notebook": {
     "kernelName": "csharp"
    },
    "vscode": {
     "languageId": "polyglot-notebook"
    }
   },
   "outputs": [],
   "source": [
    "#r \"nuget: Microsoft.SemanticKernel, 1.18.0-rc\"\n",
    "#r \"nuget: Microsoft.SemanticKernel.Plugins.Core, 1.18.0-alpha\"\n",
    "#r \"nuget: Microsoft.SemanticKernel.Plugins.Web, 1.18.0-alpha\"\n",
    "#r \"nuget: Microsoft.SemanticKernel.Agents.Core, 1.18.0-alpha\"\n",
    "\n",
    "#!import ../../Secrets.cs\n",
    "\n",
    "using Microsoft.SemanticKernel;\n",
    "using Microsoft.SemanticKernel.Connectors.OpenAI;\n",
    "using Microsoft.SemanticKernel.Agents;\n",
    "using Microsoft.SemanticKernel.Agents.Chat;\n",
    "using Microsoft.SemanticKernel.ChatCompletion;\n",
    "\n",
    "var kernel = Kernel.CreateBuilder()\n",
    "    .AddAzureOpenAIChatCompletion(\n",
    "        deploymentName: Secrets.DeploymentName,\n",
    "        endpoint: Secrets.Endpoint,\n",
    "        apiKey: Secrets.ApyKey)\n",
    "    //.AddOpenAIChatCompletion(\n",
    "    //    modelId: Secrets.OpenAIModel,\n",
    "    //    apiKey: Secrets.OpenAIApiKey)    \n",
    "    .Build();"
   ]
  },
  {
   "cell_type": "markdown",
   "metadata": {},
   "source": [
    "### 🧱 A persona is the behaviour we give to an agent. Our newly created agent gets the behavior of Jack Sparrow pirate."
   ]
  },
  {
   "cell_type": "code",
   "execution_count": null,
   "metadata": {
    "dotnet_interactive": {
     "language": "csharp"
    },
    "polyglot_notebook": {
     "kernelName": "csharp"
    },
    "vscode": {
     "languageId": "polyglot-notebook"
    }
   },
   "outputs": [],
   "source": [
    "#pragma warning disable SKEXP0110\n",
    "\n",
    "ChatCompletionAgent jackSparrowAgent = new() \n",
    "{ \n",
    "    Kernel = kernel,\n",
    "    Instructions = \"\"\"\n",
    "        You are Jack Sparrow talking in Jack Sparrow style.\n",
    "        Evaluate the context and reply providing exactly one meaningful dialog line.\n",
    "        The dialog line must be only one sentence of maximum 10 words.\n",
    "        \"\"\",\n",
    "    Description = \"A chat bot that replies to the message in the voice of Jack Sparrow talking style.\",\n",
    "    Name = \"JackSparrow\",\n",
    "    Id = \"JackSparrow_01\",\n",
    "};"
   ]
  },
  {
   "cell_type": "markdown",
   "metadata": {},
   "source": [
    "### Let's create a chat group for agents and add a goal to the chat"
   ]
  },
  {
   "cell_type": "code",
   "execution_count": null,
   "metadata": {
    "dotnet_interactive": {
     "language": "csharp"
    },
    "polyglot_notebook": {
     "kernelName": "csharp"
    },
    "vscode": {
     "languageId": "polyglot-notebook"
    }
   },
   "outputs": [],
   "source": [
    "#pragma warning disable SKEXP0110\n",
    "\n",
    "AgentGroupChat chat = new();\n",
    "\n",
    "//ChatHistory x;\n",
    "\n",
    "var goal = \"\"\"\n",
    "    Jack Sparrow makes a bad joke about Don Quijote's taste in drinks.\n",
    "    Jack Sparrow gets a threat from Don Quijote and Don Quijote is launching a fake attack.\n",
    "    \"\"\";\n",
    "\n",
    "// actions: Jack makes a bad joke, Don Quijote threats Jack, Don Quijote is launching a fake attach\n",
    "\n",
    "chat.AddChatMessage(new ChatMessageContent(AuthorRole.User, goal));\n",
    "\n",
    "Console.WriteLine($\">>>>>>> {AuthorRole.User}: {goal}\");\n"
   ]
  },
  {
   "cell_type": "code",
   "execution_count": null,
   "metadata": {
    "dotnet_interactive": {
     "language": "csharp"
    },
    "polyglot_notebook": {
     "kernelName": "csharp"
    },
    "vscode": {
     "languageId": "polyglot-notebook"
    }
   },
   "outputs": [],
   "source": [
    "//x.AddUserMessage(goal);\n",
    "//x.InvokeAsync(jackSparrowAgent);"
   ]
  },
  {
   "cell_type": "markdown",
   "metadata": {},
   "source": [
    "### ⚡ The chat is invoking Jack Sparrow agent on its history"
   ]
  },
  {
   "cell_type": "code",
   "execution_count": null,
   "metadata": {
    "dotnet_interactive": {
     "language": "csharp"
    },
    "polyglot_notebook": {
     "kernelName": "csharp"
    },
    "vscode": {
     "languageId": "polyglot-notebook"
    }
   },
   "outputs": [],
   "source": [
    "#pragma warning disable SKEXP0001\n",
    "#pragma warning disable SKEXP0110\n",
    "\n",
    "// jackSparrow agent is reacting to the chat history\n",
    "await foreach (var content in chat.InvokeAsync(jackSparrowAgent))\n",
    "{\n",
    "    Console.WriteLine($\"{content.Role} [{content.AuthorName}] > {content.Content}\");\n",
    "}"
   ]
  },
  {
   "cell_type": "markdown",
   "metadata": {},
   "source": [
    "### 🧱 Let's make another agent. This one impersonates Don Quijote."
   ]
  },
  {
   "cell_type": "code",
   "execution_count": null,
   "metadata": {
    "dotnet_interactive": {
     "language": "csharp"
    },
    "polyglot_notebook": {
     "kernelName": "csharp"
    },
    "vscode": {
     "languageId": "polyglot-notebook"
    }
   },
   "outputs": [],
   "source": [
    "#pragma warning disable SKEXP0110\n",
    "\n",
    "ChatCompletionAgent donQuijoteAgent = new() \n",
    "{ \n",
    "    Arguments = new KernelArguments (new OpenAIPromptExecutionSettings { ToolCallBehavior = ToolCallBehavior.AutoInvokeKernelFunctions }),\n",
    "    Kernel = kernel,\n",
    "    Instructions = \"\"\"\n",
    "        You are Don Quijote talking in Don Quijote style.\n",
    "        Evaluate the context and reply to the last message by providing exactly one meaningful dialog line.\n",
    "        The dialog line must be only one sentence of maximum 10 words.\n",
    "        \"\"\",\n",
    "    Description = \"A chat bot that replies to the message in the voice of Don Quijote talking style.\",\n",
    "    Name = \"DonQuijote\",\n",
    "    Id = \"DonQuijote_01\",\n",
    "};"
   ]
  },
  {
   "cell_type": "markdown",
   "metadata": {},
   "source": [
    "### ⚡ The chat is invoking Don Quijote agent on its history"
   ]
  },
  {
   "cell_type": "code",
   "execution_count": null,
   "metadata": {
    "dotnet_interactive": {
     "language": "csharp"
    },
    "polyglot_notebook": {
     "kernelName": "csharp"
    },
    "vscode": {
     "languageId": "polyglot-notebook"
    }
   },
   "outputs": [],
   "source": [
    "#pragma warning disable SKEXP0001\n",
    "#pragma warning disable SKEXP0110\n",
    "\n",
    "// jackSparrow agent is reacting to the chat history\n",
    "await foreach (var content in chat.InvokeAsync(donQuijoteAgent))\n",
    "{\n",
    "    Console.WriteLine($\"{content.Role} [{content.AuthorName}] > {content.Content}\");\n",
    "}\n"
   ]
  },
  {
   "cell_type": "code",
   "execution_count": null,
   "metadata": {
    "dotnet_interactive": {
     "language": "csharp"
    },
    "polyglot_notebook": {
     "kernelName": "csharp"
    },
    "vscode": {
     "languageId": "polyglot-notebook"
    }
   },
   "outputs": [],
   "source": [
    "#pragma warning disable SKEXP0110\n",
    "\n",
    "Console.WriteLine(\"Chat history: \");\n",
    "await foreach (var m in chat.GetChatMessagesAsync())\n",
    "{\n",
    "    Console.WriteLine($\"[{m.Role}] {m.Content}\");\n",
    "}"
   ]
  },
  {
   "cell_type": "markdown",
   "metadata": {},
   "source": [
    "### Notice that the chat history is having the responses from both agents."
   ]
  },
  {
   "cell_type": "markdown",
   "metadata": {},
   "source": []
  },
  {
   "cell_type": "markdown",
   "metadata": {},
   "source": []
  }
 ],
 "metadata": {
  "kernelspec": {
   "display_name": ".NET (C#)",
   "language": "C#",
   "name": ".net-csharp"
  },
  "language_info": {
   "name": "python"
  },
  "polyglot_notebook": {
   "kernelInfo": {
    "defaultKernelName": "csharp",
    "items": [
     {
      "aliases": [],
      "name": "csharp"
     }
    ]
   }
  }
 },
 "nbformat": 4,
 "nbformat_minor": 2
}
