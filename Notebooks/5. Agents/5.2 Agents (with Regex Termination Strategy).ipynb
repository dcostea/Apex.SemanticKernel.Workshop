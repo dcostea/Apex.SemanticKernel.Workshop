{
 "cells": [
  {
   "cell_type": "markdown",
   "metadata": {},
   "source": [
    "# 👨‍💼👨‍🚀👨‍💻 Agents with Termination Strategies"
   ]
  },
  {
   "cell_type": "markdown",
   "metadata": {},
   "source": [
    "### Initialize the kernel"
   ]
  },
  {
   "cell_type": "code",
   "execution_count": null,
   "metadata": {
    "dotnet_interactive": {
     "language": "csharp"
    },
    "polyglot_notebook": {
     "kernelName": "csharp"
    },
    "vscode": {
     "languageId": "polyglot-notebook"
    }
   },
   "outputs": [],
   "source": [
    "#r \"nuget: Microsoft.SemanticKernel, 1.18.0-rc\"\n",
    "#r \"nuget: Microsoft.SemanticKernel.Plugins.Core, 1.18.0-alpha\"\n",
    "#r \"nuget: Microsoft.SemanticKernel.Plugins.Web, 1.18.0-alpha\"\n",
    "#r \"nuget: Microsoft.SemanticKernel.Agents.Core, 1.18.0-alpha\"\n",
    "\n",
    "#!import ../../Secrets.cs\n",
    "\n",
    "using Microsoft.SemanticKernel;\n",
    "using Microsoft.SemanticKernel.Connectors.OpenAI;\n",
    "using Microsoft.SemanticKernel.Agents;\n",
    "using Microsoft.SemanticKernel.Agents.Chat;\n",
    "using Microsoft.SemanticKernel.ChatCompletion;\n",
    "\n",
    "var kernel = Kernel.CreateBuilder()\n",
    "    .AddAzureOpenAIChatCompletion(\n",
    "        deploymentName: Secrets.DeploymentName,\n",
    "        endpoint: Secrets.Endpoint,\n",
    "        apiKey: Secrets.ApyKey)\n",
    "    //.AddOpenAIChatCompletion(\n",
    "    //    modelId: Secrets.OpenAIModel,\n",
    "    //    apiKey: Secrets.OpenAIApiKey)    \n",
    "    .Build();"
   ]
  },
  {
   "cell_type": "markdown",
   "metadata": {},
   "source": [
    "### 🧱 Our first agent gets the behavior of Jack Sparrow pirate."
   ]
  },
  {
   "cell_type": "code",
   "execution_count": null,
   "metadata": {
    "dotnet_interactive": {
     "language": "csharp"
    },
    "polyglot_notebook": {
     "kernelName": "csharp"
    },
    "vscode": {
     "languageId": "polyglot-notebook"
    }
   },
   "outputs": [],
   "source": [
    "#pragma warning disable SKEXP0110\n",
    "\n",
    "ChatCompletionAgent jackSparrowAgent = new() \n",
    "{ \n",
    "    Kernel = kernel,\n",
    "    Instructions = \"\"\"\n",
    "        You are Jack Sparrow talking in Jack Sparrow style.\n",
    "        Evaluate the context and reply to the last message by providing exactly one meaningful dialog line.\n",
    "        The dialog line must be only one sentence of maximum 20 words.\n",
    "        \"\"\",\n",
    "    Description = \"A chat bot that replies to the message in the voice of Jack Sparrow talking style.\",\n",
    "    Name = \"JackSparrow\"\n",
    "};"
   ]
  },
  {
   "cell_type": "markdown",
   "metadata": {},
   "source": [
    "### 🧱 The second agent impersonates Yoda."
   ]
  },
  {
   "cell_type": "code",
   "execution_count": null,
   "metadata": {
    "dotnet_interactive": {
     "language": "csharp"
    },
    "polyglot_notebook": {
     "kernelName": "csharp"
    },
    "vscode": {
     "languageId": "polyglot-notebook"
    }
   },
   "outputs": [],
   "source": [
    "#pragma warning disable SKEXP0110\n",
    "\n",
    "ChatCompletionAgent yodaAgent = new()\n",
    "{\n",
    "    Kernel = kernel,\n",
    "    Instructions = \"\"\"\n",
    "        You are Yoda talking in Yoda style.\n",
    "        Evaluate the context and reply to the last message by providing exactly one meaningful dialog line.\n",
    "        The dialog line must be only one sentence of maximum 20 words.\n",
    "        \"\"\",\n",
    "    Description = \"A chat bot that replies to the message in the voice of Yoda talking style.\",\n",
    "    Name = \"Yoda\"\n",
    "};"
   ]
  },
  {
   "cell_type": "markdown",
   "metadata": {},
   "source": [
    "### We want to create a poem contest.\n",
    "### 🧱 Let's make an agent which impersonates a jury. The jury has to rate the poems written by Yoda and Jack Sparrow."
   ]
  },
  {
   "cell_type": "code",
   "execution_count": null,
   "metadata": {
    "dotnet_interactive": {
     "language": "csharp"
    },
    "polyglot_notebook": {
     "kernelName": "csharp"
    },
    "vscode": {
     "languageId": "polyglot-notebook"
    }
   },
   "outputs": [],
   "source": [
    "#pragma warning disable SKEXP0110\n",
    "\n",
    "ChatCompletionAgent juryAgent = new()\n",
    "{\n",
    "    Kernel = kernel,\n",
    "    Instructions = \"\"\"\n",
    "        You are a jury able to rate poems.\n",
    "        Evaluate each poem in the chat with a rating between 1 and 5, depending on how good the poem rhythms are.\n",
    "        If there is a winner then always respond with 'WIN', then show the rating and name of each contestant, in descending order.\n",
    "        if the ratings are equal then always respond with 'DEUCE', then show the rating and name of each contestant.\n",
    "        Never add additional comments, stick to what I asked.\n",
    "        \"\"\",\n",
    "    Description = \"A chat bot that evaluates poems and decide the winner.\",\n",
    "    Name = \"Jury\"\n",
    "};"
   ]
  },
  {
   "cell_type": "markdown",
   "metadata": {},
   "source": [
    "### Let's create a chat group for agents and add a goal to the chat."
   ]
  },
  {
   "cell_type": "code",
   "execution_count": null,
   "metadata": {
    "dotnet_interactive": {
     "language": "csharp"
    },
    "polyglot_notebook": {
     "kernelName": "csharp"
    },
    "vscode": {
     "languageId": "polyglot-notebook"
    }
   },
   "outputs": [],
   "source": [
    "#pragma warning disable SKEXP0110\n",
    "\n",
    "AgentGroupChat chat = new(jackSparrowAgent, yodaAgent, juryAgent)\n",
    "{\n",
    "    ExecutionSettings = new()\n",
    "    {\n",
    "        TerminationStrategy = new RegexTerminationStrategy(@\"\\b(WIN)\\b\")\n",
    "        {\n",
    "            Agents = [juryAgent],\n",
    "            MaximumIterations = 50\n",
    "        }\n",
    "    }\n",
    "};\n",
    "\n",
    "var goal = \"\"\"\n",
    "    A poem contest starts between Yoda and Jack Sparrow. They have to write 4 lines poem.\n",
    "    The contestants always respond with their poems, nothing else!\n",
    "    \"\"\";\n",
    "\n",
    "chat.AddChatMessage(new ChatMessageContent(AuthorRole.User, goal));\n"
   ]
  },
  {
   "cell_type": "markdown",
   "metadata": {},
   "source": [
    "### See the chat arguments (the three agents!) along with the termination strategy and the selection strategy defined in execution settings.\n",
    "\n",
    "### The termination strategy is a regex termination strategy checking for the word 'WIN'."
   ]
  },
  {
   "cell_type": "markdown",
   "metadata": {},
   "source": [
    "### ⚡Let the story (chat) begin!"
   ]
  },
  {
   "cell_type": "code",
   "execution_count": null,
   "metadata": {
    "dotnet_interactive": {
     "language": "csharp"
    },
    "polyglot_notebook": {
     "kernelName": "csharp"
    },
    "vscode": {
     "languageId": "polyglot-notebook"
    }
   },
   "outputs": [],
   "source": [
    "#pragma warning disable SKEXP0001\n",
    "#pragma warning disable SKEXP0110\n",
    "\n",
    "Console.WriteLine($\">>>>>>> {AuthorRole.User} > {goal}.\");\n",
    "\n",
    "await foreach (var content in chat.InvokeAsync())\n",
    "{\n",
    "    Console.WriteLine($\"\\n>>>>>>> {content.Role} [{content.AuthorName}] > {content.Content}\");\n",
    "}\n",
    "\n",
    "Console.WriteLine($\"IS COMPLETE: {chat.IsComplete}\");"
   ]
  },
  {
   "cell_type": "markdown",
   "metadata": {},
   "source": [
    "### Notice that the chat history is invoked for all attached agents."
   ]
  },
  {
   "cell_type": "markdown",
   "metadata": {},
   "source": []
  }
 ],
 "metadata": {
  "kernelspec": {
   "display_name": ".NET (C#)",
   "language": "C#",
   "name": ".net-csharp"
  },
  "language_info": {
   "name": "python"
  },
  "polyglot_notebook": {
   "kernelInfo": {
    "defaultKernelName": "csharp",
    "items": [
     {
      "aliases": [],
      "name": "csharp"
     }
    ]
   }
  }
 },
 "nbformat": 4,
 "nbformat_minor": 2
}
