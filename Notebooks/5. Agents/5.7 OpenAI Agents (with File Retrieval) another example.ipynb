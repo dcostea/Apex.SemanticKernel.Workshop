{
 "cells": [
  {
   "cell_type": "markdown",
   "metadata": {},
   "source": [
    "# 👨‍💼👨‍🚀👨‍💻 RAG with File Retrieval\n",
    "\n",
    "This notebook is restricted to OpenAI API only!"
   ]
  },
  {
   "cell_type": "markdown",
   "metadata": {},
   "source": [
    "### Initialize the kernel"
   ]
  },
  {
   "cell_type": "code",
   "execution_count": null,
   "metadata": {
    "dotnet_interactive": {
     "language": "csharp"
    },
    "polyglot_notebook": {
     "kernelName": "csharp"
    },
    "vscode": {
     "languageId": "polyglot-notebook"
    }
   },
   "outputs": [],
   "source": [
    "#r \"nuget: Microsoft.SemanticKernel, 1.15.1\"\n",
    "#r \"nuget: Microsoft.SemanticKernel.Plugins.Core, 1.15.1-alpha\"\n",
    "#r \"nuget: Microsoft.SemanticKernel.Plugins.Web, 1.15.1-alpha\"\n",
    "#r \"nuget: Microsoft.SemanticKernel.Agents.Core, 1.15.1-alpha\"\n",
    "#r \"nuget: Microsoft.SemanticKernel.Agents.OpenAI, 1.15.1-alpha\"\n",
    "\n",
    "#!import ../../Secrets.cs\n",
    "\n",
    "using Microsoft.SemanticKernel;\n",
    "using Microsoft.SemanticKernel.Connectors.OpenAI;\n",
    "using Microsoft.SemanticKernel.Agents;\n",
    "using Microsoft.SemanticKernel.Agents.Chat;\n",
    "using Microsoft.SemanticKernel.Agents.OpenAI;\n",
    "using Microsoft.SemanticKernel.ChatCompletion;\n",
    "\n",
    "var kernel = Kernel.CreateBuilder()\n",
    "    // .AddAzureOpenAIChatCompletion(\n",
    "    //     deploymentName: Secrets.DeploymentName,\n",
    "    //     endpoint: Secrets.Endpoint,\n",
    "    //     apiKey: Secrets.ApyKey)\n",
    "    .AddOpenAIChatCompletion(\n",
    "        modelId: Secrets.OpenAIModel,\n",
    "        apiKey: Secrets.OpenAIApiKey)\n",
    "    .Build();"
   ]
  },
  {
   "cell_type": "markdown",
   "metadata": {},
   "source": [
    "### Let's create a chat group for agents and add a goal to the chat."
   ]
  },
  {
   "cell_type": "code",
   "execution_count": null,
   "metadata": {
    "dotnet_interactive": {
     "language": "csharp"
    },
    "polyglot_notebook": {
     "kernelName": "csharp"
    },
    "vscode": {
     "languageId": "polyglot-notebook"
    }
   },
   "outputs": [],
   "source": [
    "#pragma warning disable SKEXP0110\n",
    "\n",
    "var goal = \"\"\"\n",
    "    Here’s a recipe for low carb pancakes with quantities:\n",
    "\n",
    "    Ingredients:\n",
    "\n",
    "    2 eggs\n",
    "    1 cup almond flour\n",
    "    1 teaspoon vanilla extract\n",
    "    1 teaspoon baking powder\n",
    "    1 tbsp. Confectioners Swerve\n",
    "    Pinch of salt\n",
    "    3 tablespoon butter, melted\n",
    "    Instructions:\n",
    "\n",
    "    In a medium bowl, whisk together the eggs, almond flour, vanilla extract, baking powder, Confectioners Swerve, and salt.\n",
    "    Melt the butter and add it to the mixture, whisking until well combined.\n",
    "    Heat a non-stick skillet over medium heat.\n",
    "    Spoon a portion of the pancake mix onto the hot skillet.\n",
    "    Cook until bubbles form on the surface, then flip and cook until browned on the other side.\n",
    "    Repeat with the remaining batter.\n",
    "    Serve your low carb pancakes with your favorite low-carb syrup or fresh berries.\n",
    "    Enjoy your meal! 😊\n",
    "    \"\"\";\n",
    "\n",
    "AgentGroupChat chat = new();\n",
    "\n",
    "// short-term memory\n",
    "chat.AddChatMessage(new ChatMessageContent(AuthorRole.User, goal));\n"
   ]
  },
  {
   "cell_type": "markdown",
   "metadata": {},
   "source": [
    "### Read _USDA.pdf_ file and upload it to the model"
   ]
  },
  {
   "cell_type": "code",
   "execution_count": null,
   "metadata": {
    "dotnet_interactive": {
     "language": "csharp"
    },
    "polyglot_notebook": {
     "kernelName": "csharp"
    },
    "vscode": {
     "languageId": "polyglot-notebook"
    }
   },
   "outputs": [],
   "source": [
    "#pragma warning disable SKEXP0010\n",
    "#pragma warning disable SKEXP0001\n",
    "\n",
    "// uploading the file content (byte array) to the service\n",
    "var fileService = new OpenAIFileService(Secrets.OpenAIApiKey);\n",
    "var bytes = await System.IO.File.ReadAllBytesAsync(\"../../Resources/Data/USDA.pdf\");\n",
    "var binaryContent = new BinaryContent(bytes, mimeType: \"application/pdf\");\n",
    "var executionSettings = new OpenAIFileUploadExecutionSettings(\"../../Resources/Data/USDA.pdf\", OpenAIFilePurpose.Assistants);\n",
    "var uploadFile = await fileService.UploadContentAsync(\n",
    "    binaryContent,\n",
    "    executionSettings\n",
    ");\n",
    "// this is the long-term memory\n",
    "\n",
    "// we will refer the uploaded file by its id"
   ]
  },
  {
   "cell_type": "markdown",
   "metadata": {},
   "source": [
    "### Create nutritionist agent with file retrieval capabilities (agents are using the out-of-the-box RAG feature of the OpenAI assistants)"
   ]
  },
  {
   "cell_type": "code",
   "execution_count": null,
   "metadata": {
    "dotnet_interactive": {
     "language": "csharp"
    },
    "polyglot_notebook": {
     "kernelName": "csharp"
    },
    "vscode": {
     "languageId": "polyglot-notebook"
    }
   },
   "outputs": [],
   "source": [
    "#pragma warning disable SKEXP0110\n",
    "\n",
    "var agent = await OpenAIAssistantAgent.CreateAsync(\n",
    "    kernel: kernel,\n",
    "    config: new OpenAIAssistantConfiguration(Secrets.OpenAIApiKey!),\n",
    "    definition: new OpenAIAssistantDefinition\n",
    "    {\n",
    "        Instructions = \"\"\"\n",
    "            You are an expert nutritionist.\n",
    "            If you are provided with meal recipes, you respond with the number of calories for the provided meal recipe.\n",
    "            If you are not provided with meal recipes then you politely suggest the user to input a meal recipe.\n",
    "            \"\"\",\n",
    "        Description = \"An expert nutritionist.\",\n",
    "        Name = \"Nutritionist\",\n",
    "        Id = \"Nutritionist_01\",\n",
    "        EnableRetrieval = true,\n",
    "        FileIds = [uploadFile.Id],\n",
    "        ModelId = Secrets.OpenAIModel\n",
    "    });"
   ]
  },
  {
   "cell_type": "markdown",
   "metadata": {},
   "source": [
    "### ⚡ The chat is invoking nutitionist agent"
   ]
  },
  {
   "cell_type": "code",
   "execution_count": null,
   "metadata": {
    "dotnet_interactive": {
     "language": "csharp"
    },
    "polyglot_notebook": {
     "kernelName": "csharp"
    },
    "vscode": {
     "languageId": "polyglot-notebook"
    }
   },
   "outputs": [],
   "source": [
    "#pragma warning disable SKEXP0001\n",
    "#pragma warning disable SKEXP0110\n",
    "\n",
    "Console.WriteLine($\"{AuthorRole.User} > {goal}.\");\n",
    "\n",
    "chat.AddAgent(agent);\n",
    "\n",
    "await foreach (var content in chat.InvokeAsync())\n",
    "{\n",
    "    Console.WriteLine($\"\\n{content.Role} [{content.AuthorName}] > {content.Content}\");\n",
    "}"
   ]
  },
  {
   "cell_type": "markdown",
   "metadata": {},
   "source": [
    "### Notice that the agent is fetching additional context from the external file _USDA.pdf_"
   ]
  },
  {
   "cell_type": "markdown",
   "metadata": {},
   "source": []
  }
 ],
 "metadata": {
  "kernelspec": {
   "display_name": ".NET (C#)",
   "language": "C#",
   "name": ".net-csharp"
  },
  "language_info": {
   "name": "python"
  },
  "polyglot_notebook": {
   "kernelInfo": {
    "defaultKernelName": "csharp",
    "items": [
     {
      "aliases": [],
      "name": "csharp"
     }
    ]
   }
  }
 },
 "nbformat": 4,
 "nbformat_minor": 2
}
