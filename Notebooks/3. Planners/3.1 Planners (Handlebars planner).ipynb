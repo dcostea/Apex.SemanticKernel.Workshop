{
 "cells": [
  {
   "attachments": {},
   "cell_type": "markdown",
   "metadata": {},
   "source": [
    "# 🗺️ Planners (with Handlebars planner)"
   ]
  },
  {
   "cell_type": "markdown",
   "metadata": {},
   "source": [
    "### Initialize the kernel"
   ]
  },
  {
   "cell_type": "code",
   "execution_count": null,
   "metadata": {
    "dotnet_interactive": {
     "language": "csharp"
    },
    "polyglot_notebook": {
     "kernelName": "csharp"
    }
   },
   "outputs": [],
   "source": [
    "#r \"nuget: Microsoft.SemanticKernel, 1.15.0\"\n",
    "#r \"nuget: Microsoft.SemanticKernel.Abstractions, 1.15.0\"\n",
    "#r \"nuget: Microsoft.SemanticKernel.Plugins.Core, 1.15.0-alpha\"\n",
    "#r \"nuget: Microsoft.SemanticKernel.Plugins.Web, 1.15.0-alpha\"\n",
    "#r \"nuget: Microsoft.SemanticKernel.Planners.Handlebars, 1.15.0-preview\"\n",
    "#r \"nuget: Microsoft.SemanticKernel.Planners.OpenAI, 1.15.0-preview\"\n",
    "\n",
    "#!import ../../Secrets.cs\n",
    "\n",
    "using Microsoft.SemanticKernel;\n",
    "using Microsoft.SemanticKernel.Plugins;\n",
    "using Microsoft.SemanticKernel.Connectors.OpenAI;\n",
    "\n",
    "var kernel = Kernel.CreateBuilder()\n",
    "    // .AddAzureOpenAIChatCompletion(\n",
    "    //     deploymentName: Secrets.DeploymentName,\n",
    "    //     endpoint: Secrets.Endpoint,\n",
    "    //     apiKey: Secrets.ApyKey)\n",
    "    .AddOpenAIChatCompletion(\n",
    "        modelId: Secrets.OpenAIModel,\n",
    "        apiKey: Secrets.OpenAIApiKey)    \n",
    "    .Build();"
   ]
  },
  {
   "cell_type": "markdown",
   "metadata": {},
   "source": [
    "### 🔌 Let's add a native plugin for use by the planner"
   ]
  },
  {
   "cell_type": "code",
   "execution_count": null,
   "metadata": {
    "dotnet_interactive": {
     "language": "csharp"
    },
    "polyglot_notebook": {
     "kernelName": "csharp"
    }
   },
   "outputs": [],
   "source": [
    "#!import ../../Helpers/PrintHelper.cs\n",
    "#!import ../../Plugins/MotorPlugin.cs\n",
    "\n",
    "kernel.Plugins.AddFromType<MotorPlugin>();\n",
    "\n",
    "PrintHelper.PrintAllPluginFunctions(kernel);"
   ]
  },
  {
   "cell_type": "markdown",
   "metadata": {},
   "source": [
    "### 📋 Prepare kernel arguments"
   ]
  },
  {
   "cell_type": "code",
   "execution_count": null,
   "metadata": {
    "dotnet_interactive": {
     "language": "csharp"
    },
    "polyglot_notebook": {
     "kernelName": "csharp"
    }
   },
   "outputs": [],
   "source": [
    "var goal = \"You have a tree in front of the car. Avoid it.\";\n",
    "var kernelArguments = new KernelArguments()\n",
    "{\n",
    "    [\"input\"] = goal,\n",
    "    [\"commands\"] = \"go forward, go backward, turn left, turn right, and stop\"\n",
    "};"
   ]
  },
  {
   "cell_type": "markdown",
   "metadata": {},
   "source": [
    "### Refine the goal"
   ]
  },
  {
   "cell_type": "code",
   "execution_count": null,
   "metadata": {
    "dotnet_interactive": {
     "language": "csharp"
    },
    "polyglot_notebook": {
     "kernelName": "csharp"
    }
   },
   "outputs": [],
   "source": [
    "var commandsPlugin = kernel.CreatePluginFromPromptDirectory(System.IO.Path.Combine(System.IO.Directory.GetCurrentDirectory(), \"../../Plugins\", \"CommandsPlugin\"), \"CommandsPlugin\");\n",
    "kernel.Plugins.Add(commandsPlugin);\n",
    "PrintHelper.PrintAllPluginFunctions(kernel);"
   ]
  },
  {
   "cell_type": "code",
   "execution_count": null,
   "metadata": {
    "dotnet_interactive": {
     "language": "csharp"
    },
    "polyglot_notebook": {
     "kernelName": "csharp"
    }
   },
   "outputs": [],
   "source": [
    "var semanticFunction = commandsPlugin[\"ExtractBasicCommands\"];\n",
    "var response = await kernel.InvokeAsync(semanticFunction, kernelArguments);\n",
    "var refinedGoal = response.GetValue<string>();\n",
    "\n",
    "kernelArguments[\"input\"] = refinedGoal;\n",
    "\n",
    "display(refinedGoal)"
   ]
  },
  {
   "cell_type": "markdown",
   "metadata": {},
   "source": [
    "### 🗺️ Generate Handlebars Plan"
   ]
  },
  {
   "cell_type": "code",
   "execution_count": null,
   "metadata": {
    "dotnet_interactive": {
     "language": "csharp"
    },
    "polyglot_notebook": {
     "kernelName": "csharp"
    }
   },
   "outputs": [],
   "source": [
    "using Microsoft.SemanticKernel.Planning.Handlebars;\n",
    "\n",
    "#pragma warning disable SKEXP0060\n",
    "\n",
    "var handlebarsPlannerOptions = new HandlebarsPlannerOptions \n",
    "{ \n",
    "    AllowLoops = true \n",
    "};\n",
    "handlebarsPlannerOptions.ExcludedPlugins.Add(\"CommandsPlugin\");\n",
    "var planner = new HandlebarsPlanner(handlebarsPlannerOptions);\n",
    "var plan = await planner.CreatePlanAsync(kernel, refinedGoal);\n",
    "\n",
    "//Console.WriteLine($\"The proposed plan in Handlebars format:\\n{plan}\");"
   ]
  },
  {
   "cell_type": "markdown",
   "metadata": {},
   "source": [
    "### 🗺️🚲 Let's run the plan!\n",
    "\n",
    "(Note that the final output is json but the planner strips the extra JSON syntax)"
   ]
  },
  {
   "cell_type": "code",
   "execution_count": null,
   "metadata": {
    "dotnet_interactive": {
     "language": "csharp"
    },
    "polyglot_notebook": {
     "kernelName": "csharp"
    }
   },
   "outputs": [],
   "source": [
    "#pragma warning disable SKEXP0060\n",
    "\n",
    "var planResult = await plan.InvokeAsync(kernel, kernelArguments);\n",
    "Console.WriteLine(planResult.Trim());"
   ]
  },
  {
   "cell_type": "code",
   "execution_count": null,
   "metadata": {
    "dotnet_interactive": {
     "language": "csharp"
    },
    "polyglot_notebook": {
     "kernelName": "csharp"
    }
   },
   "outputs": [],
   "source": []
  }
 ],
 "metadata": {
  "kernelspec": {
   "display_name": ".NET (C#)",
   "language": "C#",
   "name": ".net-csharp"
  },
  "language_info": {
   "name": "polyglot-notebook"
  },
  "polyglot_notebook": {
   "kernelInfo": {
    "defaultKernelName": "csharp",
    "items": [
     {
      "aliases": [],
      "name": "csharp"
     }
    ]
   }
  }
 },
 "nbformat": 4,
 "nbformat_minor": 2
}
