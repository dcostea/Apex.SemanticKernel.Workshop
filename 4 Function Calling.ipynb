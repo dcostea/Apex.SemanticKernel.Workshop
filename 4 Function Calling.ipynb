{
 "cells": [
  {
   "attachments": {},
   "cell_type": "markdown",
   "metadata": {},
   "source": [
    "# 🔌 4 Function Calling"
   ]
  },
  {
   "cell_type": "markdown",
   "metadata": {},
   "source": [
    "⚠️ Note function-calling compatible GPT models: (https://platform.openai.com/docs/guides/function-calling)."
   ]
  },
  {
   "cell_type": "markdown",
   "metadata": {},
   "source": [
    "### Initialize the kernel"
   ]
  },
  {
   "cell_type": "code",
   "execution_count": 1,
   "metadata": {
    "dotnet_interactive": {
     "language": "csharp"
    },
    "polyglot_notebook": {
     "kernelName": "csharp"
    }
   },
   "outputs": [
    {
     "data": {
      "text/html": [
       "<div><div></div><div></div><div><strong>Installed Packages</strong><ul><li><span>Microsoft.SemanticKernel, 1.7.1</span></li><li><span>Microsoft.SemanticKernel.Plugins.Core, 1.7.1-alpha</span></li></ul></div></div>"
      ]
     },
     "metadata": {},
     "output_type": "display_data"
    }
   ],
   "source": [
    "#r \"nuget: Microsoft.SemanticKernel, 1.7.1\"\n",
    "#r \"nuget: Microsoft.SemanticKernel.Plugins.Core, 1.7.1-alpha\"\n",
    "\n",
    "#!import Settings.cs\n",
    "\n",
    "using Microsoft.SemanticKernel;\n",
    "using Microsoft.SemanticKernel.Connectors.OpenAI;\n",
    "\n",
    "var kernel = Settings.InitializeKernel();"
   ]
  },
  {
   "cell_type": "markdown",
   "metadata": {},
   "source": [
    "### ⌚️ Let's use a native function written in C#."
   ]
  },
  {
   "cell_type": "code",
   "execution_count": 2,
   "metadata": {
    "dotnet_interactive": {
     "language": "csharp"
    },
    "polyglot_notebook": {
     "kernelName": "csharp"
    }
   },
   "outputs": [],
   "source": [
    "using System.ComponentModel;\n",
    "public class DateTimePlugin\n",
    "{\n",
    "    [KernelFunction]\n",
    "    [Description(\"Retrieves the current date.\")]\n",
    "    public string GetCurrentDate() => DateTime.Now.ToShortDateString();\n",
    "}\n",
    "\n",
    "kernel.ImportPluginFromType<DateTimePlugin>(\"date\");"
   ]
  },
  {
   "cell_type": "markdown",
   "metadata": {},
   "source": [
    "### Let's prepare the execution settings and the kernel arguments."
   ]
  },
  {
   "cell_type": "code",
   "execution_count": 3,
   "metadata": {
    "dotnet_interactive": {
     "language": "csharp"
    },
    "polyglot_notebook": {
     "kernelName": "csharp"
    }
   },
   "outputs": [
    {
     "data": {
      "text/plain": [
       "Today is April 18, 2024. Since Christmas is on December 25, the number of days until Christmas from today's date is:\n",
       "\n",
       "- December has 31 days, so from December 1 to December 25, there are 25 days.\n",
       "- The number of days remaining in April after the 18th is 30 - 18 = 12 days.\n",
       "- The months of May, June, July, August, September, October, and November have a total of:\n",
       "  - May: 31 days\n",
       "  - June: 30 days\n",
       "  - July: 31 days\n",
       "  - August: 31 days\n",
       "  - September: 30 days\n",
       "  - October: 31 days\n",
       "  - November: 30 days\n",
       "\n",
       "Let's add them all up:\n",
       "\n",
       "12 days (remaining in April) + 31 (May) + 30 (June) + 31 (July) + 31 (August) + 30 (September) + 31 (October) + 30 (November) + 25 (December) =\n",
       "\n",
       "12 + 31 + 30 + 31 + 31 + 30 + 31 + 30 + 25 = 251 days.\n",
       "\n",
       "There are 251 days until Christmas from April 18, 2024."
      ]
     },
     "metadata": {},
     "output_type": "display_data"
    }
   ],
   "source": [
    "var executionSettings = new OpenAIPromptExecutionSettings\n",
    "{\n",
    "    ToolCallBehavior = ToolCallBehavior.AutoInvokeKernelFunctions \n",
    "};\n",
    "\n",
    "var kernelArguments = new KernelArguments(executionSettings)\n",
    "{\n",
    "    [\"input\"] = \"Christmas\"\n",
    "};\n",
    "\n",
    "var promptTemplate = \"How many days until {{$input}}?\";\n",
    "\n",
    "var response = await kernel.InvokePromptAsync(promptTemplate, kernelArguments);\n",
    "\n",
    "display(response.GetValue<string>())"
   ]
  },
  {
   "cell_type": "markdown",
   "metadata": {},
   "source": [
    "### 🏃💨 This is the same example as above, but with streaming too"
   ]
  },
  {
   "cell_type": "code",
   "execution_count": 4,
   "metadata": {
    "dotnet_interactive": {
     "language": "csharp"
    },
    "polyglot_notebook": {
     "kernelName": "csharp"
    }
   },
   "outputs": [
    {
     "name": "stdout",
     "output_type": "stream",
     "text": [
      "Today is April 18, 2024. To calculate the number of days until Christmas:\n",
      "\n",
      "Christmas is on December 25, 2024.\n",
      "\n",
      "From April 18 to May 18 is 30 days.\n",
      "From May 18 to December 18 is 7 full months. Since the months May, July, August, October, and December have 31 days, and June and September have 30 days, that's:\n",
      "4 months with 31 days = 4 * 31 = 124 days\n",
      "2 months with 30 days = 2 * 30 = 60 days\n",
      "1 month with 31 days (July) since we don't count December itself just yet.\n",
      "So, 124 days + 60 days + 31 days = 215 days\n",
      "Then, from December 18 to December 25 is another 7 days.\n",
      "\n",
      "Adding those intervals together gives us:\n",
      "30 days (April 18 to May 18) + 215 days (May 18 to December 18) + 7 days (December 18 to December 25) = 30 + 215 + 7 = 252 days.\n",
      "\n",
      "There are 252 days until Christmas from April 18, 2024."
     ]
    }
   ],
   "source": [
    "var executionSettings = new OpenAIPromptExecutionSettings\n",
    "{\n",
    "    ToolCallBehavior = ToolCallBehavior.AutoInvokeKernelFunctions \n",
    "};\n",
    "\n",
    "var kernelArguments = new KernelArguments(executionSettings)\n",
    "{\n",
    "    [\"input\"] = \"Christmas\"\n",
    "};\n",
    "\n",
    "await foreach (var update in kernel.InvokePromptStreamingAsync(\"How many days until {{$input}}?\", kernelArguments))\n",
    "{\n",
    "    Console.Write(update);\n",
    "}"
   ]
  },
  {
   "cell_type": "markdown",
   "metadata": {},
   "source": [
    "# Manual"
   ]
  },
  {
   "cell_type": "code",
   "execution_count": 6,
   "metadata": {
    "dotnet_interactive": {
     "language": "csharp"
    },
    "polyglot_notebook": {
     "kernelName": "csharp"
    }
   },
   "outputs": [
    {
     "name": "stdout",
     "output_type": "stream",
     "text": [
      "  >> 🔌 date-GetCurrentDate: /GetCurrentDate\n",
      "       Result: \"4/18/2024\"\n",
      "Today is April 18, 2024. Christmas Day is on December 25th. To calculate how many days until Christmas:\n",
      "\n",
      "From April 18 to April 30 is 12 days (completing April).\n",
      "From May to November is 7 full months. Given that May, July, August, October, and December have 31 days, and June and September have 30 days, and November has 30 days, the total is: 31 (May) + 30 (June) + 31 (July) + 31 (August) + 30 (September) + 31 (October) + 30 (November) = 214 days.\n",
      "From December 1 to December 25 is 24 days.\n",
      "\n",
      "Adding these up: 12 + 214 + 24 = 250 days until Christmas Day on December 25, 2024."
     ]
    }
   ],
   "source": [
    "using System;\n",
    "using System.Collections.Generic;\n",
    "using System.Linq;\n",
    "using System.Text.Json;\n",
    "using System.Threading.Tasks;\n",
    "using Azure.AI.OpenAI;\n",
    "using Microsoft.Extensions.DependencyInjection;\n",
    "using Microsoft.Extensions.Logging;\n",
    "using Microsoft.SemanticKernel;\n",
    "using Microsoft.SemanticKernel.ChatCompletion;\n",
    "using Microsoft.SemanticKernel.Connectors.OpenAI;\n",
    "\n",
    "var chat = kernel.GetRequiredService<IChatCompletionService>();\n",
    "var chatHistory = new ChatHistory();\n",
    "\n",
    "var executionSettings = new OpenAIPromptExecutionSettings\n",
    "{\n",
    "    ToolCallBehavior = ToolCallBehavior.EnableKernelFunctions \n",
    "};\n",
    "\n",
    "chatHistory.AddUserMessage(\"How many days until Christmas?\");\n",
    "while (true)\n",
    "{\n",
    "    var result = (OpenAIChatMessageContent)await chat.GetChatMessageContentAsync(chatHistory, executionSettings, kernel);\n",
    "\n",
    "    if (result.Content is not null)\n",
    "    {\n",
    "        Console.Write(result.Content);\n",
    "    }\n",
    "\n",
    "    List<ChatCompletionsFunctionToolCall> toolCalls = result.ToolCalls.OfType<ChatCompletionsFunctionToolCall>().ToList();\n",
    "    if (toolCalls.Count == 0)\n",
    "    {\n",
    "        break;\n",
    "    }\n",
    "\n",
    "    chatHistory.Add(result);\n",
    "    foreach (var toolCall in toolCalls)\n",
    "    {\n",
    "        string content = kernel.Plugins.TryGetFunctionAndArguments(toolCall, out KernelFunction? function, out KernelArguments arguments) ?\n",
    "            JsonSerializer.Serialize((await function.InvokeAsync(kernel, arguments)).GetValue<object>()) :\n",
    "            \"Unable to find function. Please try again!\";\n",
    "\n",
    "        if (function != null)\n",
    "        {\n",
    "            Console.WriteLine($\"  >> 🔌 {toolCall.Name.ToString()}: /{function.Name}\");\n",
    "        }\n",
    "\n",
    "        Console.WriteLine($\"       Result: {content}\");\n",
    "\n",
    "        chatHistory.Add(new ChatMessageContent(\n",
    "            AuthorRole.Tool,\n",
    "            content,\n",
    "            metadata: new Dictionary<string, object>(1) { { OpenAIChatMessageContent.ToolIdProperty, toolCall.Id } }));\n",
    "    }\n",
    "}"
   ]
  },
  {
   "cell_type": "markdown",
   "metadata": {},
   "source": []
  }
 ],
 "metadata": {
  "kernelspec": {
   "display_name": ".NET (C#)",
   "language": "C#",
   "name": ".net-csharp"
  },
  "language_info": {
   "name": "polyglot-notebook"
  },
  "polyglot_notebook": {
   "kernelInfo": {
    "defaultKernelName": "csharp",
    "items": [
     {
      "aliases": [],
      "name": "csharp"
     }
    ]
   }
  }
 },
 "nbformat": 4,
 "nbformat_minor": 2
}
