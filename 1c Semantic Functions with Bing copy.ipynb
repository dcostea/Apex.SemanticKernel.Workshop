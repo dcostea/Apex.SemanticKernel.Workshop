{
 "cells": [
  {
   "attachments": {},
   "cell_type": "markdown",
   "metadata": {},
   "source": [
    "# Installing Semantic Kernel"
   ]
  },
  {
   "cell_type": "code",
   "execution_count": 1,
   "metadata": {
    "dotnet_interactive": {
     "language": "csharp"
    },
    "polyglot_notebook": {
     "kernelName": "csharp"
    },
    "vscode": {
     "languageId": "polyglot-notebook"
    }
   },
   "outputs": [
    {
     "data": {
      "text/html": [
       "<div><div></div><div></div><div><strong>Installed Packages</strong><ul><li><span>Microsoft.SemanticKernel, 1.7.1</span></li><li><span>Microsoft.SemanticKernel.Plugins.Core, 1.7.1-alpha</span></li><li><span>Microsoft.SemanticKernel.Plugins.Web, 1.7.1-alpha</span></li></ul></div></div>"
      ]
     },
     "metadata": {},
     "output_type": "display_data"
    }
   ],
   "source": [
    "#r \"nuget: Microsoft.SemanticKernel, 1.7.1\"\n",
    "#r \"nuget: Microsoft.SemanticKernel.Plugins.Core, 1.7.1-alpha\"\n",
    "#r \"nuget: Microsoft.SemanticKernel.Plugins.Web, 1.7.1-alpha\"\n",
    "\n",
    "#!import Secrets.cs\n",
    "\n",
    "using Microsoft.SemanticKernel;\n",
    "using Microsoft.SemanticKernel.Connectors.OpenAI;\n",
    "using Microsoft.SemanticKernel.Plugins.Web;\n",
    "using Microsoft.SemanticKernel.Plugins.Web.Bing;\n",
    "\n",
    "var kernel = Kernel.CreateBuilder()\n",
    "    .AddAzureOpenAIChatCompletion(\n",
    "        deploymentName: Secrets.DeploymentName,\n",
    "        endpoint: Secrets.Endpoint,\n",
    "        apiKey: Secrets.ApyKey)\n",
    "    .Build();"
   ]
  },
  {
   "cell_type": "code",
   "execution_count": 2,
   "metadata": {
    "dotnet_interactive": {
     "language": "csharp"
    },
    "polyglot_notebook": {
     "kernelName": "csharp"
    },
    "vscode": {
     "languageId": "polyglot-notebook"
    }
   },
   "outputs": [],
   "source": [
    "#pragma warning disable SKEXP0050\n",
    "var bingConnector = new BingConnector(\"d1dfed6c3bd24b5596becde4bec6d35c\");\n",
    "var bing = new WebSearchEnginePlugin(bingConnector);\n",
    "#pragma warning restore SKEXP0050\n",
    "\n",
    "kernel.ImportPluginFromObject(bing, \"bing\");"
   ]
  },
  {
   "cell_type": "markdown",
   "metadata": {},
   "source": [
    "### 📋 Add some arguments"
   ]
  },
  {
   "cell_type": "code",
   "execution_count": 3,
   "metadata": {
    "dotnet_interactive": {
     "language": "csharp"
    },
    "polyglot_notebook": {
     "kernelName": "csharp"
    },
    "vscode": {
     "languageId": "polyglot-notebook"
    }
   },
   "outputs": [
    {
     "data": {
      "text/plain": [
       "[\"When is the next eclipse in your city? Eclipses in 2026. Aug 12Solar Eclipse (Total) Eclipses in 2027. Aug 2Solar Eclipse (Total) Eclipses in 2028. Jul 22Solar Eclipse (Total) Eclipses in 2030. Nov 25Solar Eclipse (Total) Eclipses in 2031. Nov 14Solar Eclipse (Total) Eclipses in 2033. Mar 30Solar Eclipse (Total) Eclipses in 2034.\",\"It's been a long time since a total solar eclipse passed through Europe, but on Aug. 12, 2026, totality will come to the extreme northwest and southwest of the continent. Visible in Greenland ...\",\"Explore a map of the next 15 total solar eclipses. In case you miss this year’s solar eclipse, there are 14 more in the next 20 years. This map of eclipse paths from 2024 to 2044...\",\"According to NASA, after Monday's total solar eclipse, the next one viewable from the contiguous U.S. will be on Aug. 23, 2044. Total solar eclipse 2024: Watch video and see photos of the...\",\"When is the next total solar eclipse? Total solar eclipses happen about every year or two or three, due to a precise alignment of the sun, moon and Earth. They can occur anywhere across...\",\"What does it mean? How Often Do Solar Eclipses Happen? There are between 2 and 5 solar eclipses every year, each one visible only in a limited area. Total Solar Eclipse. Total solar eclipses occur when the New Moon comes between the Sun and Earth and casts the darkest part of its shadow, the umbra, on Earth. Partial Solar Eclipse.\",\"The next total solar eclipse will occur on Aug. 12, 2026, but it will mostly pass over the Arctic Ocean. Totality, when the moon fully obscures the sun’s light, will be visible along a path that...\",\"The total solar eclipse of November 25, 2030, starts in the Atlantic off southern Africa, crosses the southern countries of Africa, zips across the Indian Ocean and into Australia. Image via...\",\"Video Ad Feedback. Watch: Everything you need to know about eclipses in two minutes. 01:45 - Source: CNN. Editor’s note: Follow along with CNN’s live updates of the total solar eclipse. CNN —...\",\"The next total solar eclipse with a coast-to-coast path spanning the Lower 48 states will occur on August 12, 2045. The path of totality will arc over California, Nevada, Utah, Colorado,...\"]"
      ]
     },
     "metadata": {},
     "output_type": "display_data"
    }
   ],
   "source": [
    "var promptTemplate = \"When is the next total {{$input}} eclipse?\";\n",
    "var function = kernel.Plugins[\"bing\"][\"search\"];\n",
    "var bingResult = await kernel.InvokeAsync(function, new() { [\"query\"] = promptTemplate });\n",
    "\n",
    "var currentContext = bingResult.GetValue<string>();\n",
    "display(currentContext)"
   ]
  },
  {
   "cell_type": "markdown",
   "metadata": {},
   "source": [
    "### 🏃‍♀️ Run prompt"
   ]
  },
  {
   "cell_type": "code",
   "execution_count": 4,
   "metadata": {
    "dotnet_interactive": {
     "language": "csharp"
    },
    "polyglot_notebook": {
     "kernelName": "csharp"
    },
    "vscode": {
     "languageId": "polyglot-notebook"
    }
   },
   "outputs": [
    {
     "data": {
      "text/plain": [
       "```json\n",
       "{\n",
       "  \"next_total_solar_eclipse\": {\n",
       "    \"date\": \"August 12, 2026\",\n",
       "    \"visibility\": {\n",
       "      \"regions\": [\n",
       "        \"Greenland\",\n",
       "        \"extreme northwest of Europe\",\n",
       "        \"southwest of Europe\"\n",
       "      ],\n",
       "      \"note\": \"mostly over the Arctic Ocean\"\n",
       "    }\n",
       "  }\n",
       "}\n",
       "```"
      ]
     },
     "metadata": {},
     "output_type": "display_data"
    }
   ],
   "source": [
    "var promptTemplate = \"\"\"\n",
    "    When is the next total {{$input}} eclipse?\n",
    "\n",
    "    ### real-time search result context\n",
    "    {{$currentContext}} \n",
    "\n",
    "    Respond only with JSON.\n",
    "    \"\"\";\n",
    "\n",
    "var executionSettings = new OpenAIPromptExecutionSettings \n",
    "{\n",
    "     MaxTokens = 500,\n",
    "     Temperature = 0.1 \n",
    "};\n",
    "var kernelArguments = new KernelArguments(executionSettings)\n",
    "{\n",
    "    [\"input\"] = \"solar\",\n",
    "    [\"currentContext\"] = currentContext\n",
    "};\n",
    "\n",
    "var semanticFunction = kernel.CreateFunctionFromPrompt(promptTemplate);\n",
    "var response = await kernel.InvokeAsync(semanticFunction, kernelArguments);\n",
    "\n",
    "display(response.GetValue<string>())"
   ]
  },
  {
   "cell_type": "markdown",
   "metadata": {},
   "source": [
    "### 👀 See rendered prompt"
   ]
  },
  {
   "cell_type": "code",
   "execution_count": 5,
   "metadata": {
    "dotnet_interactive": {
     "language": "csharp"
    },
    "polyglot_notebook": {
     "kernelName": "csharp"
    },
    "vscode": {
     "languageId": "polyglot-notebook"
    }
   },
   "outputs": [
    {
     "data": {
      "text/plain": [
       "When is the next total solar eclipse?\n",
       "\n",
       "### real-time search result context\n",
       "[\"When is the next eclipse in your city? Eclipses in 2026. Aug 12Solar Eclipse (Total) Eclipses in 2027. Aug 2Solar Eclipse (Total) Eclipses in 2028. Jul 22Solar Eclipse (Total) Eclipses in 2030. Nov 25Solar Eclipse (Total) Eclipses in 2031. Nov 14Solar Eclipse (Total) Eclipses in 2033. Mar 30Solar Eclipse (Total) Eclipses in 2034.\",\"It's been a long time since a total solar eclipse passed through Europe, but on Aug. 12, 2026, totality will come to the extreme northwest and southwest of the continent. Visible in Greenland ...\",\"Explore a map of the next 15 total solar eclipses. In case you miss this year’s solar eclipse, there are 14 more in the next 20 years. This map of eclipse paths from 2024 to 2044...\",\"According to NASA, after Monday's total solar eclipse, the next one viewable from the contiguous U.S. will be on Aug. 23, 2044. Total solar eclipse 2024: Watch video and see photos of the...\",\"When is the next total solar eclipse? Total solar eclipses happen about every year or two or three, due to a precise alignment of the sun, moon and Earth. They can occur anywhere across...\",\"What does it mean? How Often Do Solar Eclipses Happen? There are between 2 and 5 solar eclipses every year, each one visible only in a limited area. Total Solar Eclipse. Total solar eclipses occur when the New Moon comes between the Sun and Earth and casts the darkest part of its shadow, the umbra, on Earth. Partial Solar Eclipse.\",\"The next total solar eclipse will occur on Aug. 12, 2026, but it will mostly pass over the Arctic Ocean. Totality, when the moon fully obscures the sun’s light, will be visible along a path that...\",\"The total solar eclipse of November 25, 2030, starts in the Atlantic off southern Africa, crosses the southern countries of Africa, zips across the Indian Ocean and into Australia. Image via...\",\"Video Ad Feedback. Watch: Everything you need to know about eclipses in two minutes. 01:45 - Source: CNN. Editor’s note: Follow along with CNN’s live updates of the total solar eclipse. CNN —...\",\"The next total solar eclipse with a coast-to-coast path spanning the Lower 48 states will occur on August 12, 2045. The path of totality will arc over California, Nevada, Utah, Colorado,...\"] \n",
       "\n",
       "Respond only with JSON."
      ]
     },
     "metadata": {},
     "output_type": "display_data"
    }
   ],
   "source": [
    "var promptTemplateFactory = new KernelPromptTemplateFactory();\n",
    "var promptTemplateRenderer = promptTemplateFactory.Create(new PromptTemplateConfig(promptTemplate));\n",
    "var renderedPrompt = await promptTemplateRenderer.RenderAsync(kernel, kernelArguments);\n",
    "\n",
    "display(renderedPrompt)"
   ]
  },
  {
   "cell_type": "code",
   "execution_count": 6,
   "metadata": {
    "dotnet_interactive": {
     "language": "csharp"
    },
    "polyglot_notebook": {
     "kernelName": "csharp"
    },
    "vscode": {
     "languageId": "polyglot-notebook"
    }
   },
   "outputs": [],
   "source": []
  }
 ],
 "metadata": {
  "kernelspec": {
   "display_name": ".NET (C#)",
   "language": "C#",
   "name": ".net-csharp"
  },
  "language_info": {
   "file_extension": ".cs",
   "mimetype": "text/x-csharp",
   "name": "C#",
   "pygments_lexer": "csharp",
   "version": "11.0"
  },
  "polyglot_notebook": {
   "kernelInfo": {
    "defaultKernelName": "csharp",
    "items": [
     {
      "aliases": [],
      "name": "csharp"
     }
    ]
   }
  }
 },
 "nbformat": 4,
 "nbformat_minor": 2
}
