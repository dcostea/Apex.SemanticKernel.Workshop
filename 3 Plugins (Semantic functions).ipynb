{
 "cells": [
  {
   "attachments": {},
   "cell_type": "markdown",
   "metadata": {},
   "source": [
    "# 🔌 Plugins (with semantic functions)"
   ]
  },
  {
   "cell_type": "markdown",
   "metadata": {},
   "source": [
    "https://docs.google.com/presentation/d/1ansUV9VxvNVfLnB3xerFQypWAKvmv8QLhjuJqeQK2Dg/edit#slide=id.g284f11586a4_0_8"
   ]
  },
  {
   "cell_type": "markdown",
   "metadata": {},
   "source": [
    "### Initialize the kernel"
   ]
  },
  {
   "cell_type": "code",
   "execution_count": 1,
   "metadata": {
    "dotnet_interactive": {
     "language": "csharp"
    },
    "polyglot_notebook": {
     "kernelName": "csharp"
    }
   },
   "outputs": [
    {
     "data": {
      "text/html": [
       "<div><div></div><div></div><div><strong>Installed Packages</strong><ul><li><span>Microsoft.SemanticKernel, 1.7.1</span></li><li><span>Microsoft.SemanticKernel.Plugins.Core, 1.7.1-alpha</span></li></ul></div></div>"
      ]
     },
     "metadata": {},
     "output_type": "display_data"
    }
   ],
   "source": [
    "#r \"nuget: Microsoft.SemanticKernel, 1.7.1\"\n",
    "#r \"nuget: Microsoft.SemanticKernel.Plugins.Core, 1.7.1-alpha\"\n",
    "\n",
    "#!import Settings.cs\n",
    "\n",
    "using Microsoft.SemanticKernel;\n",
    "using Microsoft.SemanticKernel.Connectors.OpenAI;\n",
    "\n",
    "var kernel = Settings.InitializeKernel();"
   ]
  },
  {
   "cell_type": "markdown",
   "metadata": {},
   "source": [
    "### ⌚️ Let's building a plugin consisting of semantic functions."
   ]
  },
  {
   "cell_type": "markdown",
   "metadata": {},
   "source": [
    "### Now the kernel contains all plugins ever added, unless we start removing them.\n",
    "Entire plugins or individual functions can be removed from the kernel anytime."
   ]
  },
  {
   "cell_type": "code",
   "execution_count": 3,
   "metadata": {
    "dotnet_interactive": {
     "language": "csharp"
    },
    "polyglot_notebook": {
     "kernelName": "csharp"
    }
   },
   "outputs": [
    {
     "ename": "Error",
     "evalue": "(1,53): error CS0246: The type or namespace name 'Orchestrator' could not be found (are you missing a using directive or an assembly reference?)\r\n(1,33): error CS1061: 'Kernel' does not contain a definition for 'ImportFunctions' and no accessible extension method 'ImportFunctions' accepting a first argument of type 'Kernel' could be found (are you missing a using directive or an assembly reference?)",
     "output_type": "error",
     "traceback": [
      "(1,53): error CS0246: The type or namespace name 'Orchestrator' could not be found (are you missing a using directive or an assembly reference?)\r\n",
      "(1,33): error CS1061: 'Kernel' does not contain a definition for 'ImportFunctions' and no accessible extension method 'ImportFunctions' accepting a first argument of type 'Kernel' could be found (are you missing a using directive or an assembly reference?)"
     ]
    }
   ],
   "source": [
    "//var plugin = kernel.ImportPluginFromFunctions()\n",
    "var plugin = kernel.ImportPluginFromObject() // native\n",
    "//var plugin = kernel.ImportPluginFromPromptDirectory() semantic\n",
    "//var plugin = kernel.ImportPluginFromType<>() // native or semantic from native\n",
    "//var plugin = kernel.ImportPluginFromOpenAIAsync\n",
    "kernel.CreateFunctionFromMethod()\n",
    "kernel.CreateFunctionFromPrompt()\n",
    "kernel.CreatePluginFromFunctions()\n",
    "kernel.CreatePluginFromObject()\n",
    "kernel.CreatePluginFromPromptDirectory()\n",
    "kernel.CreatePluginFromType<>()\n",
    "kernel.Plugins.Add(plugin);\n",
    "\n",
    "agent = await CreateAgentBuilder()\n",
    "    .FromTemplate(definition)\n",
    "    .WithPlugin(plugin)\n",
    "    \n",
    "//ImportPluginFromApiManifestAsync\n",
    "kernel.ImportPluginFromPromptDirectory(Path.Combine(folder, \"SummarizePlugin\"));\n",
    "\n",
    "//agent as plugin\n",
    "\n",
    "var plugin = KernelPluginFactory.CreateFromFunctions(\"spelling\", \"Spelling functions\", [function]);\n",
    "var plugin = KernelPluginFactory.CreateFromObject()\n",
    "var plugin = KernelPluginFactory.CreateFromType<>()\n",
    "\n",
    "\n",
    "\n"
   ]
  },
  {
   "cell_type": "markdown",
   "metadata": {},
   "source": [
    "Semantic code gets executed in the LLM.\n",
    "We can ground the AI in knowledge of the world outside LLM to know about today's date just by giving it a plugin that can access native code capabilities."
   ]
  },
  {
   "cell_type": "markdown",
   "metadata": {},
   "source": [
    "### Let's prepare the execution settings and the kernel arguments."
   ]
  },
  {
   "cell_type": "code",
   "execution_count": 3,
   "metadata": {
    "dotnet_interactive": {
     "language": "csharp"
    },
    "polyglot_notebook": {
     "kernelName": "csharp"
    }
   },
   "outputs": [],
   "source": [
    "var executionSettings = new OpenAIPromptExecutionSettings \n",
    "{\n",
    "     MaxTokens = 2000,\n",
    "     ResultsPerPrompt = 1,\n",
    "     Temperature = 0.1\n",
    "};\n",
    "\n",
    "var kernelArguments = new KernelArguments(executionSettings)\n",
    "{\n",
    "    [\"input\"] = \"Christmas\"\n",
    "};"
   ]
  },
  {
   "cell_type": "markdown",
   "metadata": {},
   "source": [
    "### 🪴 This simple bit of \"grounding\" reduces so-called 'hallucination' with LLMs"
   ]
  },
  {
   "cell_type": "markdown",
   "metadata": {},
   "source": [
    "In this first example, we invoke the kernel with a prompt that asks the AI for information it cannot provide. It has no idea what today might be for you, so it's likely to hallucinate."
   ]
  },
  {
   "cell_type": "code",
   "execution_count": 4,
   "metadata": {
    "dotnet_interactive": {
     "language": "csharp"
    },
    "polyglot_notebook": {
     "kernelName": "csharp"
    }
   },
   "outputs": [
    {
     "data": {
      "text/plain": [
       "Since today is April 2, 2023, there are 267 days until Christmas on December 25, 2023."
      ]
     },
     "metadata": {},
     "output_type": "display_data"
    }
   ],
   "source": [
    "var promptTemplate = \"How many days until {{$input}}?\";\n",
    "\n",
    "var semanticFunction = kernel.CreateFunctionFromPrompt(promptTemplate);\n",
    "\n",
    "var response = await kernel.InvokeAsync(semanticFunction, kernelArguments);\n",
    "\n",
    "display(response.GetValue<string>())"
   ]
  },
  {
   "cell_type": "markdown",
   "metadata": {},
   "source": [
    "In this second example, the plugin we've added `DateTimePlugin` is used in the templated prompt. The native function GetCurrentDate is invoked to enrich the prompt context with current date."
   ]
  },
  {
   "cell_type": "code",
   "execution_count": 5,
   "metadata": {
    "dotnet_interactive": {
     "language": "csharp"
    },
    "polyglot_notebook": {
     "kernelName": "csharp"
    }
   },
   "outputs": [
    {
     "data": {
      "text/plain": [
       "If today is April 20, 2024, we need to calculate the number of days until December 25, 2024.\n",
       "\n",
       "From April 20 to April 30, there are 10 days (since April has 30 days).\n",
       "The entire months of May, June, July, August, September, October, and November then follow. Here are the days in each month:\n",
       "\n",
       "- May: 31 days\n",
       "- June: 30 days\n",
       "- July: 31 days\n",
       "- August: 31 days\n",
       "- September: 30 days\n",
       "- October: 31 days\n",
       "- November: 30 days\n",
       "\n",
       "Adding these up gives us:\n",
       "\n",
       "31 (May) + 30 (June) + 31 (July) + 31 (August) + 30 (September) + 31 (October) + 30 (November) = 214 days\n",
       "\n",
       "Finally, we add the days from December up to the 25th, which is 25 days.\n",
       "\n",
       "So the total number of days from April 20 to December 25 is:\n",
       "\n",
       "10 (remaining days in April) + 214 (full months between April and December) + 25 (days in December) = 249 days\n",
       "\n",
       "Therefore, there are 249 days until Christmas from April 20, 2024."
      ]
     },
     "metadata": {},
     "output_type": "display_data"
    }
   ],
   "source": [
    "var promptTemplate = \"Considering that today date is {{date.GetCurrentDate}}, how many days until {{$input}}?\";\n",
    "\n",
    "var semanticFunction = kernel.CreateFunctionFromPrompt(promptTemplate);\n",
    "\n",
    "var response = await kernel.InvokeAsync(semanticFunction, kernelArguments);\n",
    "\n",
    "display(response.GetValue<string>())"
   ]
  },
  {
   "cell_type": "markdown",
   "metadata": {},
   "source": [
    "### Let's check the rendered prompt."
   ]
  },
  {
   "cell_type": "code",
   "execution_count": 11,
   "metadata": {
    "dotnet_interactive": {
     "language": "csharp"
    },
    "polyglot_notebook": {
     "kernelName": "csharp"
    }
   },
   "outputs": [
    {
     "name": "stdout",
     "output_type": "stream",
     "text": [
      "Considering that today date is 4/20/2024, how many days until Christmas?\r\n"
     ]
    }
   ],
   "source": [
    "#!import Helpers/PrintHelper.cs\n",
    "\n",
    "await PrintHelper.PrintRenderedPromptAsync(kernel, promptTemplate, kernelArguments);"
   ]
  },
  {
   "cell_type": "markdown",
   "metadata": {},
   "source": [
    "### For a better user experience we can may want to use with streaming."
   ]
  },
  {
   "cell_type": "code",
   "execution_count": null,
   "metadata": {
    "dotnet_interactive": {
     "language": "csharp"
    },
    "polyglot_notebook": {
     "kernelName": "csharp"
    }
   },
   "outputs": [],
   "source": [
    "await foreach (var token in kernel.InvokePromptStreamingAsync(promptTemplate, kernelArguments))\n",
    "{\n",
    "    Console.Write(token);\n",
    "}"
   ]
  }
 ],
 "metadata": {
  "kernelspec": {
   "display_name": ".NET (C#)",
   "language": "C#",
   "name": ".net-csharp"
  },
  "language_info": {
   "name": "polyglot-notebook"
  },
  "polyglot_notebook": {
   "kernelInfo": {
    "defaultKernelName": "csharp",
    "items": [
     {
      "aliases": [],
      "name": "csharp"
     }
    ]
   }
  }
 },
 "nbformat": 4,
 "nbformat_minor": 2
}
